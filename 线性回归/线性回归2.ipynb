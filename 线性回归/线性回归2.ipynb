{
 "cells": [
  {
   "cell_type": "code",
   "execution_count": 1,
   "id": "30dc8757-39c7-41b1-930c-d08198774203",
   "metadata": {},
   "outputs": [],
   "source": [
    "import pandas as pd\n",
    "import numpy as np\n",
    "import matplotlib.pyplot as plt\n",
    "import scipy.stats as stats\n",
    "import statsmodels.api as sm\n",
    "import matplotlib   \n",
    "matplotlib.rcParams['font.sans-serif'] = ['SimHei']\n",
    "matplotlib.rcParams['axes.unicode_minus']=False"
   ]
  },
  {
   "cell_type": "code",
   "execution_count": 2,
   "id": "b5316e1d-a1d4-42dd-9918-6be9775ed708",
   "metadata": {},
   "outputs": [
    {
     "data": {
      "text/html": [
       "<div>\n",
       "<style scoped>\n",
       "    .dataframe tbody tr th:only-of-type {\n",
       "        vertical-align: middle;\n",
       "    }\n",
       "\n",
       "    .dataframe tbody tr th {\n",
       "        vertical-align: top;\n",
       "    }\n",
       "\n",
       "    .dataframe thead th {\n",
       "        text-align: right;\n",
       "    }\n",
       "</style>\n",
       "<table border=\"1\" class=\"dataframe\">\n",
       "  <thead>\n",
       "    <tr style=\"text-align: right;\">\n",
       "      <th></th>\n",
       "      <th>y</th>\n",
       "      <th>x1</th>\n",
       "      <th>x2</th>\n",
       "      <th>x3</th>\n",
       "    </tr>\n",
       "  </thead>\n",
       "  <tbody>\n",
       "    <tr>\n",
       "      <th>0</th>\n",
       "      <td>33.2</td>\n",
       "      <td>3.5</td>\n",
       "      <td>9</td>\n",
       "      <td>6.1</td>\n",
       "    </tr>\n",
       "    <tr>\n",
       "      <th>1</th>\n",
       "      <td>40.3</td>\n",
       "      <td>5.3</td>\n",
       "      <td>20</td>\n",
       "      <td>6.4</td>\n",
       "    </tr>\n",
       "    <tr>\n",
       "      <th>2</th>\n",
       "      <td>38.7</td>\n",
       "      <td>5.1</td>\n",
       "      <td>18</td>\n",
       "      <td>7.4</td>\n",
       "    </tr>\n",
       "    <tr>\n",
       "      <th>3</th>\n",
       "      <td>46.8</td>\n",
       "      <td>5.8</td>\n",
       "      <td>33</td>\n",
       "      <td>6.7</td>\n",
       "    </tr>\n",
       "    <tr>\n",
       "      <th>4</th>\n",
       "      <td>41.4</td>\n",
       "      <td>4.2</td>\n",
       "      <td>31</td>\n",
       "      <td>7.5</td>\n",
       "    </tr>\n",
       "  </tbody>\n",
       "</table>\n",
       "</div>"
      ],
      "text/plain": [
       "      y   x1  x2   x3\n",
       "0  33.2  3.5   9  6.1\n",
       "1  40.3  5.3  20  6.4\n",
       "2  38.7  5.1  18  7.4\n",
       "3  46.8  5.8  33  6.7\n",
       "4  41.4  4.2  31  7.5"
      ]
     },
     "execution_count": 2,
     "metadata": {},
     "output_type": "execute_result"
    }
   ],
   "source": [
    "filename = 'eg2d3data.xls'\n",
    "data = pd.read_excel(filename)\n",
    "data.head()"
   ]
  },
  {
   "cell_type": "code",
   "execution_count": 3,
   "id": "bf6a038f-8255-4cf5-8def-969f7d304a3a",
   "metadata": {},
   "outputs": [
    {
     "data": {
      "text/html": [
       "<table class=\"simpletable\">\n",
       "<caption>OLS Regression Results</caption>\n",
       "<tr>\n",
       "  <th>Dep. Variable:</th>            <td>y</td>        <th>  R-squared:         </th> <td>   0.913</td>\n",
       "</tr>\n",
       "<tr>\n",
       "  <th>Model:</th>                   <td>OLS</td>       <th>  Adj. R-squared:    </th> <td>   0.900</td>\n",
       "</tr>\n",
       "<tr>\n",
       "  <th>Method:</th>             <td>Least Squares</td>  <th>  F-statistic:       </th> <td>   69.98</td>\n",
       "</tr>\n",
       "<tr>\n",
       "  <th>Date:</th>             <td>Fri, 18 Oct 2024</td> <th>  Prob (F-statistic):</th> <td>8.80e-11</td>\n",
       "</tr>\n",
       "<tr>\n",
       "  <th>Time:</th>                 <td>17:37:04</td>     <th>  Log-Likelihood:    </th> <td> -45.041</td>\n",
       "</tr>\n",
       "<tr>\n",
       "  <th>No. Observations:</th>      <td>    24</td>      <th>  AIC:               </th> <td>   98.08</td>\n",
       "</tr>\n",
       "<tr>\n",
       "  <th>Df Residuals:</th>          <td>    20</td>      <th>  BIC:               </th> <td>   102.8</td>\n",
       "</tr>\n",
       "<tr>\n",
       "  <th>Df Model:</th>              <td>     3</td>      <th>                     </th>     <td> </td>   \n",
       "</tr>\n",
       "<tr>\n",
       "  <th>Covariance Type:</th>      <td>nonrobust</td>    <th>                     </th>     <td> </td>   \n",
       "</tr>\n",
       "</table>\n",
       "<table class=\"simpletable\">\n",
       "<tr>\n",
       "    <td></td>       <th>coef</th>     <th>std err</th>      <th>t</th>      <th>P>|t|</th>  <th>[0.025</th>    <th>0.975]</th>  \n",
       "</tr>\n",
       "<tr>\n",
       "  <th>const</th> <td>   17.6249</td> <td>    1.999</td> <td>    8.817</td> <td> 0.000</td> <td>   13.455</td> <td>   21.795</td>\n",
       "</tr>\n",
       "<tr>\n",
       "  <th>x1</th>    <td>    1.1281</td> <td>    0.326</td> <td>    3.461</td> <td> 0.002</td> <td>    0.448</td> <td>    1.808</td>\n",
       "</tr>\n",
       "<tr>\n",
       "  <th>x2</th>    <td>    0.3233</td> <td>    0.036</td> <td>    8.902</td> <td> 0.000</td> <td>    0.248</td> <td>    0.399</td>\n",
       "</tr>\n",
       "<tr>\n",
       "  <th>x3</th>    <td>    1.3034</td> <td>    0.294</td> <td>    4.440</td> <td> 0.000</td> <td>    0.691</td> <td>    1.916</td>\n",
       "</tr>\n",
       "</table>\n",
       "<table class=\"simpletable\">\n",
       "<tr>\n",
       "  <th>Omnibus:</th>       <td> 0.554</td> <th>  Durbin-Watson:     </th> <td>   2.383</td>\n",
       "</tr>\n",
       "<tr>\n",
       "  <th>Prob(Omnibus):</th> <td> 0.758</td> <th>  Jarque-Bera (JB):  </th> <td>   0.418</td>\n",
       "</tr>\n",
       "<tr>\n",
       "  <th>Skew:</th>          <td>-0.299</td> <th>  Prob(JB):          </th> <td>   0.811</td>\n",
       "</tr>\n",
       "<tr>\n",
       "  <th>Kurtosis:</th>      <td> 2.751</td> <th>  Cond. No.          </th> <td>    161.</td>\n",
       "</tr>\n",
       "</table><br/><br/>Notes:<br/>[1] Standard Errors assume that the covariance matrix of the errors is correctly specified."
      ],
      "text/latex": [
       "\\begin{center}\n",
       "\\begin{tabular}{lclc}\n",
       "\\toprule\n",
       "\\textbf{Dep. Variable:}    &        y         & \\textbf{  R-squared:         } &     0.913   \\\\\n",
       "\\textbf{Model:}            &       OLS        & \\textbf{  Adj. R-squared:    } &     0.900   \\\\\n",
       "\\textbf{Method:}           &  Least Squares   & \\textbf{  F-statistic:       } &     69.98   \\\\\n",
       "\\textbf{Date:}             & Fri, 18 Oct 2024 & \\textbf{  Prob (F-statistic):} &  8.80e-11   \\\\\n",
       "\\textbf{Time:}             &     17:37:04     & \\textbf{  Log-Likelihood:    } &   -45.041   \\\\\n",
       "\\textbf{No. Observations:} &          24      & \\textbf{  AIC:               } &     98.08   \\\\\n",
       "\\textbf{Df Residuals:}     &          20      & \\textbf{  BIC:               } &     102.8   \\\\\n",
       "\\textbf{Df Model:}         &           3      & \\textbf{                     } &             \\\\\n",
       "\\textbf{Covariance Type:}  &    nonrobust     & \\textbf{                     } &             \\\\\n",
       "\\bottomrule\n",
       "\\end{tabular}\n",
       "\\begin{tabular}{lcccccc}\n",
       "               & \\textbf{coef} & \\textbf{std err} & \\textbf{t} & \\textbf{P$> |$t$|$} & \\textbf{[0.025} & \\textbf{0.975]}  \\\\\n",
       "\\midrule\n",
       "\\textbf{const} &      17.6249  &        1.999     &     8.817  &         0.000        &       13.455    &       21.795     \\\\\n",
       "\\textbf{x1}    &       1.1281  &        0.326     &     3.461  &         0.002        &        0.448    &        1.808     \\\\\n",
       "\\textbf{x2}    &       0.3233  &        0.036     &     8.902  &         0.000        &        0.248    &        0.399     \\\\\n",
       "\\textbf{x3}    &       1.3034  &        0.294     &     4.440  &         0.000        &        0.691    &        1.916     \\\\\n",
       "\\bottomrule\n",
       "\\end{tabular}\n",
       "\\begin{tabular}{lclc}\n",
       "\\textbf{Omnibus:}       &  0.554 & \\textbf{  Durbin-Watson:     } &    2.383  \\\\\n",
       "\\textbf{Prob(Omnibus):} &  0.758 & \\textbf{  Jarque-Bera (JB):  } &    0.418  \\\\\n",
       "\\textbf{Skew:}          & -0.299 & \\textbf{  Prob(JB):          } &    0.811  \\\\\n",
       "\\textbf{Kurtosis:}      &  2.751 & \\textbf{  Cond. No.          } &     161.  \\\\\n",
       "\\bottomrule\n",
       "\\end{tabular}\n",
       "%\\caption{OLS Regression Results}\n",
       "\\end{center}\n",
       "\n",
       "Notes: \\newline\n",
       " [1] Standard Errors assume that the covariance matrix of the errors is correctly specified."
      ],
      "text/plain": [
       "<class 'statsmodels.iolib.summary.Summary'>\n",
       "\"\"\"\n",
       "                            OLS Regression Results                            \n",
       "==============================================================================\n",
       "Dep. Variable:                      y   R-squared:                       0.913\n",
       "Model:                            OLS   Adj. R-squared:                  0.900\n",
       "Method:                 Least Squares   F-statistic:                     69.98\n",
       "Date:                Fri, 18 Oct 2024   Prob (F-statistic):           8.80e-11\n",
       "Time:                        17:37:04   Log-Likelihood:                -45.041\n",
       "No. Observations:                  24   AIC:                             98.08\n",
       "Df Residuals:                      20   BIC:                             102.8\n",
       "Df Model:                           3                                         \n",
       "Covariance Type:            nonrobust                                         \n",
       "==============================================================================\n",
       "                 coef    std err          t      P>|t|      [0.025      0.975]\n",
       "------------------------------------------------------------------------------\n",
       "const         17.6249      1.999      8.817      0.000      13.455      21.795\n",
       "x1             1.1281      0.326      3.461      0.002       0.448       1.808\n",
       "x2             0.3233      0.036      8.902      0.000       0.248       0.399\n",
       "x3             1.3034      0.294      4.440      0.000       0.691       1.916\n",
       "==============================================================================\n",
       "Omnibus:                        0.554   Durbin-Watson:                   2.383\n",
       "Prob(Omnibus):                  0.758   Jarque-Bera (JB):                0.418\n",
       "Skew:                          -0.299   Prob(JB):                        0.811\n",
       "Kurtosis:                       2.751   Cond. No.                         161.\n",
       "==============================================================================\n",
       "\n",
       "Notes:\n",
       "[1] Standard Errors assume that the covariance matrix of the errors is correctly specified.\n",
       "\"\"\""
      ]
     },
     "execution_count": 3,
     "metadata": {},
     "output_type": "execute_result"
    }
   ],
   "source": [
    "# 回归拟合\n",
    "Y = data['y'].values\n",
    "X = sm.add_constant(data[['x1', 'x2', 'x3']].values)\n",
    "\n",
    "model = sm.OLS(Y, X)\n",
    "results = model.fit()\n",
    "results.summary()"
   ]
  },
  {
   "cell_type": "markdown",
   "id": "763a7f15-b33e-412b-9039-f035ef9fa547",
   "metadata": {},
   "source": [
    "# 例2.5 残差分析频率检验"
   ]
  },
  {
   "cell_type": "code",
   "execution_count": 4,
   "id": "97af90f1-f8a7-4325-b019-e49f3b5ca982",
   "metadata": {},
   "outputs": [
    {
     "name": "stdout",
     "output_type": "stream",
     "text": [
      "[ 0.76631766  1.8887149  -0.14255293  3.23112549 -0.76009252  1.21363361\n",
      " -2.19843552  1.95862969 -0.19832903  1.14050242  0.8996636  -3.25061391\n",
      " -0.69112516 -0.28081885 -1.3951534  -0.72270728  0.14899847  0.42347044\n",
      " -3.27240164  1.20134734 -0.93551223 -1.47540288  0.74151415  1.70922758]\n"
     ]
    }
   ],
   "source": [
    "# 计算残差\n",
    "y_hat = results.predict()\n",
    "e_hat = results.resid\n",
    "print(e_hat)"
   ]
  },
  {
   "cell_type": "code",
   "execution_count": 5,
   "id": "6d6caa9c-49a8-4a2a-a75a-4d7bd2e37644",
   "metadata": {},
   "outputs": [
    {
     "name": "stdout",
     "output_type": "stream",
     "text": [
      "r(0) = 0.49\n",
      "r(1) = 1.1247\n",
      "r(2) = -0.0883\n",
      "r(3) = 1.9354\n",
      "r(4) = -0.4922\n",
      "r(5) = 0.7588\n",
      "r(6) = -1.3526\n",
      "r(7) = 1.2489\n",
      "r(8) = -0.1316\n",
      "r(9) = 0.7827\n",
      "r(10) = 0.5424\n",
      "r(11) = -2.0106\n",
      "r(12) = -0.4882\n",
      "r(13) = -0.1705\n",
      "r(14) = -0.8947\n",
      "r(15) = -0.4531\n",
      "r(16) = 0.1004\n",
      "r(17) = 0.2655\n",
      "r(18) = -2.1001\n",
      "r(19) = 0.7789\n",
      "r(20) = -0.5756\n",
      "r(21) = -0.9169\n",
      "r(22) = 0.4835\n",
      "r(23) = 1.0468\n"
     ]
    }
   ],
   "source": [
    "# 转化成 学生化残差\n",
    "\n",
    "# 计算方差 \n",
    "n = len(Y)\n",
    "SSE = sum((e_hat)**2)\n",
    "s2_hat = SSE/(n-4)\n",
    "\n",
    "# H矩阵 \n",
    "H = X @ np.linalg.inv(X.T @ X) @ X.T\n",
    "h = np.diagonal(H)\n",
    "\n",
    "# 计算学生化残差\n",
    "r = np.array([e_hat[i]/(np.sqrt(s2_hat*(1-h[i]))) for i in range(n)])\n",
    "\n",
    "# 输出\n",
    "for i in range(n):\n",
    "    print(f'r({i}) = {round(r[i], 4)}')"
   ]
  },
  {
   "cell_type": "code",
   "execution_count": 6,
   "id": "0a69d62a-1267-4e56-8e61-1705976ab472",
   "metadata": {},
   "outputs": [
    {
     "name": "stdout",
     "output_type": "stream",
     "text": [
      "区间内计数counter0 = 17\n",
      "区间 [-1.0, 1.0] 内频率为 70.83%\n",
      "\n",
      "区间内计数counter1 = 21\n",
      "区间 [-1.5, 1.5] 内频率为 87.50%\n",
      "\n",
      "区间内计数counter2 = 22\n",
      "区间 [-2.0, 2.0] 内频率为 91.67%\n",
      "\n"
     ]
    }
   ],
   "source": [
    "counter = [0, 0, 0]\n",
    "# 频率检测法检验\n",
    "for i in range(3):\n",
    "    l = np.logical_and(r > -i*0.5 -1, r < i*0.5 +1)\n",
    "    counter[i] = sum(l)\n",
    "\n",
    "for i in range(3):\n",
    "    print(f'区间内计数counter{i} = {counter[i]}')\n",
    "    print(f'区间 [-{i*0.5+1}, {i*0.5+1}] 内频率为 {counter[i]/n:.2%}')\n",
    "    print()"
   ]
  },
  {
   "cell_type": "markdown",
   "id": "d1da43f6-1079-41d6-87f6-3cdcd9fdbed4",
   "metadata": {},
   "source": [
    "# 例2.6 正态QQ图检验"
   ]
  },
  {
   "cell_type": "code",
   "execution_count": 7,
   "id": "c33bff41-0c5b-4f8e-a4ef-c5abdfd0794e",
   "metadata": {},
   "outputs": [
    {
     "data": {
      "image/png": "[encoded data removed]",
      "text/plain": [
       "<Figure size 640x480 with 1 Axes>"
      ]
     },
     "metadata": {},
     "output_type": "display_data"
    }
   ],
   "source": [
    "# 学生化残差按从小到大排列\n",
    "r_sort = sorted(r)\n",
    "\n",
    "# 绘制QQ图\n",
    "Q = stats.probplot(r_sort, plot=plt) # 返回值中有一个元组其中包括理论分位数数组、有序组r_sort\n"
   ]
  },
  {
   "cell_type": "code",
   "execution_count": 8,
   "id": "753f9e89-7cc8-419e-bac1-49b6b24c0b5f",
   "metadata": {},
   "outputs": [
    {
     "data": {
      "text/plain": [
       "((array([-1.90380091, -1.48287381, -1.22601535, -1.03156092, -0.8698858 ,\n",
       "         -0.7282709 , -0.59996024, -0.48085763, -0.36822879, -0.26009875,\n",
       "         -0.154935  , -0.05146182,  0.05146182,  0.154935  ,  0.26009875,\n",
       "          0.36822879,  0.48085763,  0.59996024,  0.7282709 ,  0.8698858 ,\n",
       "          1.03156092,  1.22601535,  1.48287381,  1.90380091]),\n",
       "  array([-2.10013671, -2.01057402, -1.35262143, -0.91694836, -0.89470675,\n",
       "         -0.5755621 , -0.49218188, -0.48818417, -0.45311512, -0.17053297,\n",
       "         -0.13162064, -0.08833424,  0.10040079,  0.26553866,  0.48354   ,\n",
       "          0.48998549,  0.54242845,  0.75884375,  0.77892074,  0.78266758,\n",
       "          1.04677842,  1.12467089,  1.24889852,  1.935381  ])),\n",
       " (1.0410496820737476, -0.004852669668453202, 0.9881770577728326))"
      ]
     },
     "execution_count": 8,
     "metadata": {},
     "output_type": "execute_result"
    },
    {
     "data": {
      "image/png": "[encoded data removed]",
      "text/plain": [
       "<Figure size 640x480 with 1 Axes>"
      ]
     },
     "metadata": {},
     "output_type": "display_data"
    }
   ],
   "source": [
    "stats.probplot(r_sort, plot=plt)"
   ]
  },
  {
   "cell_type": "code",
   "execution_count": 9,
   "id": "e6dd9048-445b-4112-927e-e39ed21f422c",
   "metadata": {},
   "outputs": [
    {
     "data": {
      "text/plain": [
       "PearsonRResult(statistic=0.9881770577728325, pvalue=2.0583193451416733e-19)"
      ]
     },
     "execution_count": 9,
     "metadata": {},
     "output_type": "execute_result"
    }
   ],
   "source": [
    "Q = Q[0][0]\n",
    "R = r_sort\n",
    "stats.pearsonr(Q, R)"
   ]
  },
  {
   "cell_type": "markdown",
   "id": "394f3011-c8f6-4e0e-997e-3a3a0a0a2cf6",
   "metadata": {},
   "source": [
    "# 例2.7 残差图分析"
   ]
  },
  {
   "cell_type": "code",
   "execution_count": 10,
   "id": "25ab7c4f-275d-457d-9781-65eadc7e1124",
   "metadata": {},
   "outputs": [],
   "source": [
    "x1 = data['x1'].values\n",
    "x2 = data['x2'].values\n",
    "x3 = data['x3'].values"
   ]
  },
  {
   "cell_type": "code",
   "execution_count": 11,
   "id": "e6e14f25-f86b-4ac4-a930-92558539a9ee",
   "metadata": {},
   "outputs": [
    {
     "data": {
      "image/png": "[encoded data removed]",
      "text/plain": [
       "<Figure size 640x480 with 4 Axes>"
      ]
     },
     "metadata": {},
     "output_type": "display_data"
    }
   ],
   "source": [
    "fig, ax = plt.subplots(2, 2)\n",
    "\n",
    "ax[0, 0].scatter(y_hat, e_hat, marker='*', color='blue')\n",
    "ax[0, 0].set_ylabel('epsilon_hat')\n",
    "ax[0, 0].set_xlabel('yhat')\n",
    "\n",
    "ax[0, 1].scatter(x1, e_hat, marker='*', color='blue')\n",
    "ax[0, 1].set_ylabel('epsilon_hat')\n",
    "ax[0, 1].set_xlabel('x1')\n",
    "\n",
    "ax[1, 0].scatter(x2, e_hat, marker='*', color='blue')\n",
    "ax[1, 0].set_ylabel('epsilon_hat')\n",
    "ax[1, 0].set_xlabel('x2')\n",
    "\n",
    "ax[1, 1].scatter(x3, e_hat, marker='*', color='blue')\n",
    "ax[1, 1].set_ylabel('epsilon_hat')\n",
    "ax[1, 1].set_xlabel('x3')\n",
    "\n",
    "fig.tight_layout()"
   ]
  },
  {
   "cell_type": "markdown",
   "id": "46478d9b-8540-41bd-875f-bc8e43385028",
   "metadata": {},
   "source": [
    "# 例2.8 Box-Cox变换"
   ]
  },
  {
   "cell_type": "code",
   "execution_count": 12,
   "id": "30e5a43e-8d89-4b46-8f0b-2054ce6de79b",
   "metadata": {},
   "outputs": [
    {
     "data": {
      "text/html": [
       "<div>\n",
       "<style scoped>\n",
       "    .dataframe tbody tr th:only-of-type {\n",
       "        vertical-align: middle;\n",
       "    }\n",
       "\n",
       "    .dataframe tbody tr th {\n",
       "        vertical-align: top;\n",
       "    }\n",
       "\n",
       "    .dataframe thead th {\n",
       "        text-align: right;\n",
       "    }\n",
       "</style>\n",
       "<table border=\"1\" class=\"dataframe\">\n",
       "  <thead>\n",
       "    <tr style=\"text-align: right;\">\n",
       "      <th></th>\n",
       "      <th>x1</th>\n",
       "      <th>x2</th>\n",
       "      <th>x3</th>\n",
       "      <th>x4</th>\n",
       "      <th>y</th>\n",
       "    </tr>\n",
       "  </thead>\n",
       "  <tbody>\n",
       "    <tr>\n",
       "      <th>0</th>\n",
       "      <td>6.7</td>\n",
       "      <td>62</td>\n",
       "      <td>81</td>\n",
       "      <td>2.59</td>\n",
       "      <td>200</td>\n",
       "    </tr>\n",
       "    <tr>\n",
       "      <th>1</th>\n",
       "      <td>5.1</td>\n",
       "      <td>59</td>\n",
       "      <td>66</td>\n",
       "      <td>1.70</td>\n",
       "      <td>101</td>\n",
       "    </tr>\n",
       "    <tr>\n",
       "      <th>2</th>\n",
       "      <td>7.4</td>\n",
       "      <td>57</td>\n",
       "      <td>83</td>\n",
       "      <td>2.16</td>\n",
       "      <td>204</td>\n",
       "    </tr>\n",
       "    <tr>\n",
       "      <th>3</th>\n",
       "      <td>6.5</td>\n",
       "      <td>73</td>\n",
       "      <td>41</td>\n",
       "      <td>2.01</td>\n",
       "      <td>101</td>\n",
       "    </tr>\n",
       "    <tr>\n",
       "      <th>4</th>\n",
       "      <td>7.8</td>\n",
       "      <td>65</td>\n",
       "      <td>115</td>\n",
       "      <td>4.30</td>\n",
       "      <td>509</td>\n",
       "    </tr>\n",
       "  </tbody>\n",
       "</table>\n",
       "</div>"
      ],
      "text/plain": [
       "    x1  x2   x3    x4    y\n",
       "0  6.7  62   81  2.59  200\n",
       "1  5.1  59   66  1.70  101\n",
       "2  7.4  57   83  2.16  204\n",
       "3  6.5  73   41  2.01  101\n",
       "4  7.8  65  115  4.30  509"
      ]
     },
     "execution_count": 12,
     "metadata": {},
     "output_type": "execute_result"
    }
   ],
   "source": [
    "filename = 'eg2_8data.xls'\n",
    "data = pd.read_excel(filename, header=None, names=['x1', 'x2', 'x3', 'x4', 'y'])\n",
    "data.head()"
   ]
  },
  {
   "cell_type": "markdown",
   "id": "956fcd61-3f8e-4515-89a2-2dda7c61c4f1",
   "metadata": {},
   "source": [
    "## 不作Box-Cox变换"
   ]
  },
  {
   "cell_type": "code",
   "execution_count": 13,
   "id": "15cf0023-1ed8-426a-9264-19d9444eb9e7",
   "metadata": {},
   "outputs": [
    {
     "data": {
      "text/html": [
       "<table class=\"simpletable\">\n",
       "<caption>OLS Regression Results</caption>\n",
       "<tr>\n",
       "  <th>Dep. Variable:</th>            <td>y</td>        <th>  R-squared:         </th> <td>   0.837</td>\n",
       "</tr>\n",
       "<tr>\n",
       "  <th>Model:</th>                   <td>OLS</td>       <th>  Adj. R-squared:    </th> <td>   0.823</td>\n",
       "</tr>\n",
       "<tr>\n",
       "  <th>Method:</th>             <td>Least Squares</td>  <th>  F-statistic:       </th> <td>   62.79</td>\n",
       "</tr>\n",
       "<tr>\n",
       "  <th>Date:</th>             <td>Fri, 18 Oct 2024</td> <th>  Prob (F-statistic):</th> <td>1.12e-18</td>\n",
       "</tr>\n",
       "<tr>\n",
       "  <th>Time:</th>                 <td>17:37:15</td>     <th>  Log-Likelihood:    </th> <td> -296.04</td>\n",
       "</tr>\n",
       "<tr>\n",
       "  <th>No. Observations:</th>      <td>    54</td>      <th>  AIC:               </th> <td>   602.1</td>\n",
       "</tr>\n",
       "<tr>\n",
       "  <th>Df Residuals:</th>          <td>    49</td>      <th>  BIC:               </th> <td>   612.0</td>\n",
       "</tr>\n",
       "<tr>\n",
       "  <th>Df Model:</th>              <td>     4</td>      <th>                     </th>     <td> </td>   \n",
       "</tr>\n",
       "<tr>\n",
       "  <th>Covariance Type:</th>      <td>nonrobust</td>    <th>                     </th>     <td> </td>   \n",
       "</tr>\n",
       "</table>\n",
       "<table class=\"simpletable\">\n",
       "<tr>\n",
       "    <td></td>       <th>coef</th>     <th>std err</th>      <th>t</th>      <th>P>|t|</th>  <th>[0.025</th>    <th>0.975]</th>  \n",
       "</tr>\n",
       "<tr>\n",
       "  <th>const</th> <td> -621.5976</td> <td>   64.800</td> <td>   -9.592</td> <td> 0.000</td> <td> -751.819</td> <td> -491.376</td>\n",
       "</tr>\n",
       "<tr>\n",
       "  <th>x1</th>    <td>   33.1638</td> <td>    7.017</td> <td>    4.726</td> <td> 0.000</td> <td>   19.062</td> <td>   47.266</td>\n",
       "</tr>\n",
       "<tr>\n",
       "  <th>x2</th>    <td>    4.2719</td> <td>    0.563</td> <td>    7.582</td> <td> 0.000</td> <td>    3.140</td> <td>    5.404</td>\n",
       "</tr>\n",
       "<tr>\n",
       "  <th>x3</th>    <td>    4.1257</td> <td>    0.511</td> <td>    8.071</td> <td> 0.000</td> <td>    3.099</td> <td>    5.153</td>\n",
       "</tr>\n",
       "<tr>\n",
       "  <th>x4</th>    <td>   14.0916</td> <td>   12.525</td> <td>    1.125</td> <td> 0.266</td> <td>  -11.079</td> <td>   39.262</td>\n",
       "</tr>\n",
       "</table>\n",
       "<table class=\"simpletable\">\n",
       "<tr>\n",
       "  <th>Omnibus:</th>       <td>67.426</td> <th>  Durbin-Watson:     </th> <td>   1.720</td> \n",
       "</tr>\n",
       "<tr>\n",
       "  <th>Prob(Omnibus):</th> <td> 0.000</td> <th>  Jarque-Bera (JB):  </th> <td> 623.889</td> \n",
       "</tr>\n",
       "<tr>\n",
       "  <th>Skew:</th>          <td> 3.304</td> <th>  Prob(JB):          </th> <td>3.34e-136</td>\n",
       "</tr>\n",
       "<tr>\n",
       "  <th>Kurtosis:</th>      <td>18.284</td> <th>  Cond. No.          </th> <td>    800.</td> \n",
       "</tr>\n",
       "</table><br/><br/>Notes:<br/>[1] Standard Errors assume that the covariance matrix of the errors is correctly specified."
      ],
      "text/latex": [
       "\\begin{center}\n",
       "\\begin{tabular}{lclc}\n",
       "\\toprule\n",
       "\\textbf{Dep. Variable:}    &        y         & \\textbf{  R-squared:         } &     0.837   \\\\\n",
       "\\textbf{Model:}            &       OLS        & \\textbf{  Adj. R-squared:    } &     0.823   \\\\\n",
       "\\textbf{Method:}           &  Least Squares   & \\textbf{  F-statistic:       } &     62.79   \\\\\n",
       "\\textbf{Date:}             & Fri, 18 Oct 2024 & \\textbf{  Prob (F-statistic):} &  1.12e-18   \\\\\n",
       "\\textbf{Time:}             &     17:37:15     & \\textbf{  Log-Likelihood:    } &   -296.04   \\\\\n",
       "\\textbf{No. Observations:} &          54      & \\textbf{  AIC:               } &     602.1   \\\\\n",
       "\\textbf{Df Residuals:}     &          49      & \\textbf{  BIC:               } &     612.0   \\\\\n",
       "\\textbf{Df Model:}         &           4      & \\textbf{                     } &             \\\\\n",
       "\\textbf{Covariance Type:}  &    nonrobust     & \\textbf{                     } &             \\\\\n",
       "\\bottomrule\n",
       "\\end{tabular}\n",
       "\\begin{tabular}{lcccccc}\n",
       "               & \\textbf{coef} & \\textbf{std err} & \\textbf{t} & \\textbf{P$> |$t$|$} & \\textbf{[0.025} & \\textbf{0.975]}  \\\\\n",
       "\\midrule\n",
       "\\textbf{const} &    -621.5976  &       64.800     &    -9.592  &         0.000        &     -751.819    &     -491.376     \\\\\n",
       "\\textbf{x1}    &      33.1638  &        7.017     &     4.726  &         0.000        &       19.062    &       47.266     \\\\\n",
       "\\textbf{x2}    &       4.2719  &        0.563     &     7.582  &         0.000        &        3.140    &        5.404     \\\\\n",
       "\\textbf{x3}    &       4.1257  &        0.511     &     8.071  &         0.000        &        3.099    &        5.153     \\\\\n",
       "\\textbf{x4}    &      14.0916  &       12.525     &     1.125  &         0.266        &      -11.079    &       39.262     \\\\\n",
       "\\bottomrule\n",
       "\\end{tabular}\n",
       "\\begin{tabular}{lclc}\n",
       "\\textbf{Omnibus:}       & 67.426 & \\textbf{  Durbin-Watson:     } &     1.720  \\\\\n",
       "\\textbf{Prob(Omnibus):} &  0.000 & \\textbf{  Jarque-Bera (JB):  } &   623.889  \\\\\n",
       "\\textbf{Skew:}          &  3.304 & \\textbf{  Prob(JB):          } & 3.34e-136  \\\\\n",
       "\\textbf{Kurtosis:}      & 18.284 & \\textbf{  Cond. No.          } &      800.  \\\\\n",
       "\\bottomrule\n",
       "\\end{tabular}\n",
       "%\\caption{OLS Regression Results}\n",
       "\\end{center}\n",
       "\n",
       "Notes: \\newline\n",
       " [1] Standard Errors assume that the covariance matrix of the errors is correctly specified."
      ],
      "text/plain": [
       "<class 'statsmodels.iolib.summary.Summary'>\n",
       "\"\"\"\n",
       "                            OLS Regression Results                            \n",
       "==============================================================================\n",
       "Dep. Variable:                      y   R-squared:                       0.837\n",
       "Model:                            OLS   Adj. R-squared:                  0.823\n",
       "Method:                 Least Squares   F-statistic:                     62.79\n",
       "Date:                Fri, 18 Oct 2024   Prob (F-statistic):           1.12e-18\n",
       "Time:                        17:37:15   Log-Likelihood:                -296.04\n",
       "No. Observations:                  54   AIC:                             602.1\n",
       "Df Residuals:                      49   BIC:                             612.0\n",
       "Df Model:                           4                                         \n",
       "Covariance Type:            nonrobust                                         \n",
       "==============================================================================\n",
       "                 coef    std err          t      P>|t|      [0.025      0.975]\n",
       "------------------------------------------------------------------------------\n",
       "const       -621.5976     64.800     -9.592      0.000    -751.819    -491.376\n",
       "x1            33.1638      7.017      4.726      0.000      19.062      47.266\n",
       "x2             4.2719      0.563      7.582      0.000       3.140       5.404\n",
       "x3             4.1257      0.511      8.071      0.000       3.099       5.153\n",
       "x4            14.0916     12.525      1.125      0.266     -11.079      39.262\n",
       "==============================================================================\n",
       "Omnibus:                       67.426   Durbin-Watson:                   1.720\n",
       "Prob(Omnibus):                  0.000   Jarque-Bera (JB):              623.889\n",
       "Skew:                           3.304   Prob(JB):                    3.34e-136\n",
       "Kurtosis:                      18.284   Cond. No.                         800.\n",
       "==============================================================================\n",
       "\n",
       "Notes:\n",
       "[1] Standard Errors assume that the covariance matrix of the errors is correctly specified.\n",
       "\"\"\""
      ]
     },
     "execution_count": 13,
     "metadata": {},
     "output_type": "execute_result"
    }
   ],
   "source": [
    "# 未作变换的回归拟合\n",
    "Y = data['y'].values\n",
    "X = sm.add_constant(data[['x1', 'x2', 'x3', 'x4']].values)\n",
    "model = sm.OLS(Y, X)\n",
    "results = model.fit()\n",
    "results.summary()"
   ]
  },
  {
   "cell_type": "code",
   "execution_count": 14,
   "id": "89d1843d-236f-49b6-be0e-2fe23f8935c6",
   "metadata": {},
   "outputs": [
    {
     "data": {
      "text/plain": [
       "array([-0.61010999,  0.08712704, -0.63291665, -0.03958823,  1.04686007,\n",
       "        0.51525784,  0.49535431, -0.59710592, -1.37304552, -0.76406352,\n",
       "       -0.30476395,  0.74090173,  5.82381619, -0.23972753, -0.93293363,\n",
       "       -0.64383681, -0.20209513,  2.22635751, -0.86821254, -0.62248785,\n",
       "       -0.29951453,  0.99612905,  0.85184518, -0.66603543, -0.29828777,\n",
       "       -0.64351492,  0.31385597,  0.95347618,  0.36677444,  0.04754537,\n",
       "        0.60304964,  1.28250388, -0.53336656, -0.22770274, -0.27288839,\n",
       "       -0.56250339, -0.81268968,  0.67267953,  0.079623  , -0.34481262,\n",
       "        0.19978189,  0.55267776, -0.15145233, -0.63777735, -0.59756892,\n",
       "       -0.52548659, -0.15083226,  0.32375085, -0.56580258, -0.67850751,\n",
       "       -0.33709531, -0.19723641, -0.47891903, -0.57607121])"
      ]
     },
     "execution_count": 14,
     "metadata": {},
     "output_type": "execute_result"
    }
   ],
   "source": [
    "# 计算学生化残差\n",
    "n = len(Y)\n",
    "Y_hat = results.predict()\n",
    "e_hat = results.resid\n",
    "\n",
    "SSE = sum((Y-Y_hat)**2)\n",
    "s_2 = SSE/(n-4)\n",
    "\n",
    "H = X @ np.linalg.inv(X.T @ X) @ X.T\n",
    "h = np.diagonal(H)\n",
    "\n",
    "R = np.array([e_hat[i]/np.sqrt(s_2*(1-h[i])) for i in range(n)])\n",
    "R"
   ]
  },
  {
   "cell_type": "code",
   "execution_count": 15,
   "id": "452c6968-7bdd-482c-bea5-70fc9e4db8e1",
   "metadata": {},
   "outputs": [
    {
     "data": {
      "text/plain": [
       "Text(0, 0.5, 'epsilon_hat')"
      ]
     },
     "execution_count": 15,
     "metadata": {},
     "output_type": "execute_result"
    },
    {
     "data": {
      "image/png": "[encoded data removed]",
      "text/plain": [
       "<Figure size 640x480 with 1 Axes>"
      ]
     },
     "metadata": {},
     "output_type": "display_data"
    }
   ],
   "source": [
    "# 残差图\n",
    "plt.scatter(Y_hat, e_hat, marker='*', color='blue')\n",
    "plt.xlabel('y_hat')\n",
    "plt.ylabel('epsilon_hat')"
   ]
  },
  {
   "cell_type": "code",
   "execution_count": 16,
   "id": "ae8427ca-92ce-4d85-99d5-fa9e55148a84",
   "metadata": {},
   "outputs": [
    {
     "data": {
      "text/plain": [
       "((array([-2.23362047, -1.86703686, -1.65126333, -1.49286247, -1.36497291,\n",
       "         -1.25618214, -1.16051715, -1.07443739, -0.99566063, -0.92262351,\n",
       "         -0.85420428, -0.78956785, -0.72807355, -0.66921719, -0.61259326,\n",
       "         -0.55786922, -0.50476762, -0.45305319, -0.40252348, -0.35300167,\n",
       "         -0.30433122, -0.25637157, -0.20899478, -0.16208275, -0.11552493,\n",
       "         -0.06921631, -0.02305574,  0.02305574,  0.06921631,  0.11552493,\n",
       "          0.16208275,  0.20899478,  0.25637157,  0.30433122,  0.35300167,\n",
       "          0.40252348,  0.45305319,  0.50476762,  0.55786922,  0.61259326,\n",
       "          0.66921719,  0.72807355,  0.78956785,  0.85420428,  0.92262351,\n",
       "          0.99566063,  1.07443739,  1.16051715,  1.25618214,  1.36497291,\n",
       "          1.49286247,  1.65126333,  1.86703686,  2.23362047]),\n",
       "  array([-1.37304552, -0.93293363, -0.86821254, -0.81268968, -0.76406352,\n",
       "         -0.67850751, -0.66603543, -0.64383681, -0.64351492, -0.63777735,\n",
       "         -0.63291665, -0.62248785, -0.61010999, -0.59756892, -0.59710592,\n",
       "         -0.57607121, -0.56580258, -0.56250339, -0.53336656, -0.52548659,\n",
       "         -0.47891903, -0.34481262, -0.33709531, -0.30476395, -0.29951453,\n",
       "         -0.29828777, -0.27288839, -0.23972753, -0.22770274, -0.20209513,\n",
       "         -0.19723641, -0.15145233, -0.15083226, -0.03958823,  0.04754537,\n",
       "          0.079623  ,  0.08712704,  0.19978189,  0.31385597,  0.32375085,\n",
       "          0.36677444,  0.49535431,  0.51525784,  0.55267776,  0.60304964,\n",
       "          0.67267953,  0.74090173,  0.85184518,  0.95347618,  0.99612905,\n",
       "          1.04686007,  1.28250388,  2.22635751,  5.82381619])),\n",
       " (0.8773892423286412, 0.014637307453099194, 0.8172909232575271))"
      ]
     },
     "execution_count": 16,
     "metadata": {},
     "output_type": "execute_result"
    },
    {
     "data": {
      "image/png": "[encoded data removed]",
      "text/plain": [
       "<Figure size 640x480 with 1 Axes>"
      ]
     },
     "metadata": {},
     "output_type": "display_data"
    }
   ],
   "source": [
    "# 正态QQ图\n",
    "R_sort = sorted(R)\n",
    "stats.probplot(R_sort, plot=plt)"
   ]
  },
  {
   "cell_type": "markdown",
   "id": "82800915-7688-4e22-a07a-90405230492a",
   "metadata": {},
   "source": [
    "## 以下进行Box-Cox变换"
   ]
  },
  {
   "cell_type": "code",
   "execution_count": 17,
   "id": "58d339dc-fb8d-4a1e-9d0a-9a566d8426a4",
   "metadata": {},
   "outputs": [],
   "source": [
    "# 似然函数SSE(lanbda;Z)\n",
    "def SSE_lambda_z(y, lam, X):\n",
    "    n = len(y)\n",
    "    if lam == 0:\n",
    "        Z = np.log(y)*(np.prod(y, dtype=object))**(1/n)\n",
    "    else:\n",
    "        y_lambda = ((y**lam) - 1)/lam\n",
    "        Z = y_lambda / ( (np.prod(y, dtype=object))**( (lam-1)/n) )\n",
    "    Z_t = Z.T\n",
    "    X_t = X.T\n",
    "    M = X @ np.linalg.inv(X_t @ X) @ X_t\n",
    "    I = np.eye(n)\n",
    "    SSE = Z_t @ (I-M) @ Z\n",
    "    return Z, SSE"
   ]
  },
  {
   "cell_type": "code",
   "execution_count": 18,
   "id": "e4d016aa-54ed-48db-953a-cdfc2c2d3062",
   "metadata": {},
   "outputs": [
    {
     "data": {
      "text/plain": [
       "Text(0, 0.5, 'SSE')"
      ]
     },
     "execution_count": 18,
     "metadata": {},
     "output_type": "execute_result"
    },
    {
     "data": {
      "image/png": "[encoded data removed]",
      "text/plain": [
       "<Figure size 640x480 with 1 Axes>"
      ]
     },
     "metadata": {},
     "output_type": "display_data"
    }
   ],
   "source": [
    "lam = np.linspace(-0.4, 0.4, 1000)\n",
    "SSE = []\n",
    "for l in lam: \n",
    "    z, s = SSE_lambda_z(Y, l, X)\n",
    "    SSE.append(s)\n",
    "plt.plot(lam, SSE)\n",
    "plt.xlabel('λ')\n",
    "plt.ylabel('SSE')"
   ]
  },
  {
   "cell_type": "code",
   "execution_count": 19,
   "id": "16989665-c638-4b27-bd07-2af1a6a3a13b",
   "metadata": {},
   "outputs": [
    {
     "name": "stdout",
     "output_type": "stream",
     "text": [
      "计算得到使似然函数SSE(λ;Z)最小的λ= 0.07\n"
     ]
    }
   ],
   "source": [
    "from scipy.optimize import minimize\n",
    "\n",
    "def opt(lam, y=Y, x=X):\n",
    "    z, s = SSE_lambda_z(y, lam, x)\n",
    "    return s\n",
    "\n",
    "# 计算λ值\n",
    "result = minimize(opt, 2)\n",
    "lambda_best = round(result.x[0], 2)\n",
    "print('计算得到使似然函数SSE(λ;Z)最小的λ=', round(lambda_best, 2))"
   ]
  },
  {
   "cell_type": "code",
   "execution_count": 20,
   "id": "991a8749-489e-4b4f-bee5-26738d0f506a",
   "metadata": {},
   "outputs": [
    {
     "data": {
      "text/plain": [
       "array([6.41446275, 5.44780099, 6.4431769 , 5.44780099, 7.81326449,\n",
       "       5.12843027, 5.12843027, 5.76677165, 6.42888592, 6.43604778,\n",
       "       7.14840646, 4.84829124, 8.58277241, 7.15296047, 6.16335798,\n",
       "       6.53301133, 5.24275971, 3.99972862, 6.51952199, 6.19706811,\n",
       "       5.55337879, 5.8631088 , 4.9478079 , 6.55303011, 6.8864666 ,\n",
       "       5.94388753, 6.270326  , 7.9999607 , 4.98577308, 6.24629066,\n",
       "       4.96691482, 4.69628355, 5.64000553, 6.98536376, 5.62793292,\n",
       "       6.29399368, 5.66386312, 5.68734758, 6.01121536, 5.98272368,\n",
       "       5.36338343, 5.04092088, 7.73230558, 6.02991878, 6.34785191,\n",
       "       5.72190053, 7.06415337, 7.4359839 , 6.07570073, 7.05934073,\n",
       "       5.73324415, 5.74450302, 6.39990481, 7.07373562])"
      ]
     },
     "execution_count": 20,
     "metadata": {},
     "output_type": "execute_result"
    }
   ],
   "source": [
    "# 进行box-cox变换\n",
    "y_boxcox = stats.boxcox(Y, 0.07)\n",
    "y_boxcox"
   ]
  },
  {
   "cell_type": "code",
   "execution_count": 21,
   "id": "69828e12-600b-48d2-b6a6-4d4ec85e52f4",
   "metadata": {},
   "outputs": [
    {
     "data": {
      "text/html": [
       "<table class=\"simpletable\">\n",
       "<caption>OLS Regression Results</caption>\n",
       "<tr>\n",
       "  <th>Dep. Variable:</th>            <td>y</td>        <th>  R-squared:         </th> <td>   0.974</td>\n",
       "</tr>\n",
       "<tr>\n",
       "  <th>Model:</th>                   <td>OLS</td>       <th>  Adj. R-squared:    </th> <td>   0.971</td>\n",
       "</tr>\n",
       "<tr>\n",
       "  <th>Method:</th>             <td>Least Squares</td>  <th>  F-statistic:       </th> <td>   451.8</td>\n",
       "</tr>\n",
       "<tr>\n",
       "  <th>Date:</th>             <td>Fri, 18 Oct 2024</td> <th>  Prob (F-statistic):</th> <td>5.29e-38</td>\n",
       "</tr>\n",
       "<tr>\n",
       "  <th>Time:</th>                 <td>17:38:02</td>     <th>  Log-Likelihood:    </th> <td>  27.372</td>\n",
       "</tr>\n",
       "<tr>\n",
       "  <th>No. Observations:</th>      <td>    54</td>      <th>  AIC:               </th> <td>  -44.74</td>\n",
       "</tr>\n",
       "<tr>\n",
       "  <th>Df Residuals:</th>          <td>    49</td>      <th>  BIC:               </th> <td>  -34.80</td>\n",
       "</tr>\n",
       "<tr>\n",
       "  <th>Df Model:</th>              <td>     4</td>      <th>                     </th>     <td> </td>   \n",
       "</tr>\n",
       "<tr>\n",
       "  <th>Covariance Type:</th>      <td>nonrobust</td>    <th>                     </th>     <td> </td>   \n",
       "</tr>\n",
       "</table>\n",
       "<table class=\"simpletable\">\n",
       "<tr>\n",
       "    <td></td>       <th>coef</th>     <th>std err</th>      <th>t</th>      <th>P>|t|</th>  <th>[0.025</th>    <th>0.975]</th>  \n",
       "</tr>\n",
       "<tr>\n",
       "  <th>const</th> <td>    0.4525</td> <td>    0.162</td> <td>    2.786</td> <td> 0.008</td> <td>    0.126</td> <td>    0.779</td>\n",
       "</tr>\n",
       "<tr>\n",
       "  <th>x1</th>    <td>    0.2260</td> <td>    0.018</td> <td>   12.851</td> <td> 0.000</td> <td>    0.191</td> <td>    0.261</td>\n",
       "</tr>\n",
       "<tr>\n",
       "  <th>x2</th>    <td>    0.0305</td> <td>    0.001</td> <td>   21.575</td> <td> 0.000</td> <td>    0.028</td> <td>    0.033</td>\n",
       "</tr>\n",
       "<tr>\n",
       "  <th>x3</th>    <td>    0.0310</td> <td>    0.001</td> <td>   24.227</td> <td> 0.000</td> <td>    0.028</td> <td>    0.034</td>\n",
       "</tr>\n",
       "<tr>\n",
       "  <th>x4</th>    <td>    0.0149</td> <td>    0.031</td> <td>    0.475</td> <td> 0.637</td> <td>   -0.048</td> <td>    0.078</td>\n",
       "</tr>\n",
       "</table>\n",
       "<table class=\"simpletable\">\n",
       "<tr>\n",
       "  <th>Omnibus:</th>       <td> 9.932</td> <th>  Durbin-Watson:     </th> <td>   2.099</td>\n",
       "</tr>\n",
       "<tr>\n",
       "  <th>Prob(Omnibus):</th> <td> 0.007</td> <th>  Jarque-Bera (JB):  </th> <td>  11.038</td>\n",
       "</tr>\n",
       "<tr>\n",
       "  <th>Skew:</th>          <td> 0.728</td> <th>  Prob(JB):          </th> <td> 0.00401</td>\n",
       "</tr>\n",
       "<tr>\n",
       "  <th>Kurtosis:</th>      <td> 4.669</td> <th>  Cond. No.          </th> <td>    800.</td>\n",
       "</tr>\n",
       "</table><br/><br/>Notes:<br/>[1] Standard Errors assume that the covariance matrix of the errors is correctly specified."
      ],
      "text/latex": [
       "\\begin{center}\n",
       "\\begin{tabular}{lclc}\n",
       "\\toprule\n",
       "\\textbf{Dep. Variable:}    &        y         & \\textbf{  R-squared:         } &     0.974   \\\\\n",
       "\\textbf{Model:}            &       OLS        & \\textbf{  Adj. R-squared:    } &     0.971   \\\\\n",
       "\\textbf{Method:}           &  Least Squares   & \\textbf{  F-statistic:       } &     451.8   \\\\\n",
       "\\textbf{Date:}             & Fri, 18 Oct 2024 & \\textbf{  Prob (F-statistic):} &  5.29e-38   \\\\\n",
       "\\textbf{Time:}             &     17:38:02     & \\textbf{  Log-Likelihood:    } &    27.372   \\\\\n",
       "\\textbf{No. Observations:} &          54      & \\textbf{  AIC:               } &    -44.74   \\\\\n",
       "\\textbf{Df Residuals:}     &          49      & \\textbf{  BIC:               } &    -34.80   \\\\\n",
       "\\textbf{Df Model:}         &           4      & \\textbf{                     } &             \\\\\n",
       "\\textbf{Covariance Type:}  &    nonrobust     & \\textbf{                     } &             \\\\\n",
       "\\bottomrule\n",
       "\\end{tabular}\n",
       "\\begin{tabular}{lcccccc}\n",
       "               & \\textbf{coef} & \\textbf{std err} & \\textbf{t} & \\textbf{P$> |$t$|$} & \\textbf{[0.025} & \\textbf{0.975]}  \\\\\n",
       "\\midrule\n",
       "\\textbf{const} &       0.4525  &        0.162     &     2.786  &         0.008        &        0.126    &        0.779     \\\\\n",
       "\\textbf{x1}    &       0.2260  &        0.018     &    12.851  &         0.000        &        0.191    &        0.261     \\\\\n",
       "\\textbf{x2}    &       0.0305  &        0.001     &    21.575  &         0.000        &        0.028    &        0.033     \\\\\n",
       "\\textbf{x3}    &       0.0310  &        0.001     &    24.227  &         0.000        &        0.028    &        0.034     \\\\\n",
       "\\textbf{x4}    &       0.0149  &        0.031     &     0.475  &         0.637        &       -0.048    &        0.078     \\\\\n",
       "\\bottomrule\n",
       "\\end{tabular}\n",
       "\\begin{tabular}{lclc}\n",
       "\\textbf{Omnibus:}       &  9.932 & \\textbf{  Durbin-Watson:     } &    2.099  \\\\\n",
       "\\textbf{Prob(Omnibus):} &  0.007 & \\textbf{  Jarque-Bera (JB):  } &   11.038  \\\\\n",
       "\\textbf{Skew:}          &  0.728 & \\textbf{  Prob(JB):          } &  0.00401  \\\\\n",
       "\\textbf{Kurtosis:}      &  4.669 & \\textbf{  Cond. No.          } &     800.  \\\\\n",
       "\\bottomrule\n",
       "\\end{tabular}\n",
       "%\\caption{OLS Regression Results}\n",
       "\\end{center}\n",
       "\n",
       "Notes: \\newline\n",
       " [1] Standard Errors assume that the covariance matrix of the errors is correctly specified."
      ],
      "text/plain": [
       "<class 'statsmodels.iolib.summary.Summary'>\n",
       "\"\"\"\n",
       "                            OLS Regression Results                            \n",
       "==============================================================================\n",
       "Dep. Variable:                      y   R-squared:                       0.974\n",
       "Model:                            OLS   Adj. R-squared:                  0.971\n",
       "Method:                 Least Squares   F-statistic:                     451.8\n",
       "Date:                Fri, 18 Oct 2024   Prob (F-statistic):           5.29e-38\n",
       "Time:                        17:38:02   Log-Likelihood:                 27.372\n",
       "No. Observations:                  54   AIC:                            -44.74\n",
       "Df Residuals:                      49   BIC:                            -34.80\n",
       "Df Model:                           4                                         \n",
       "Covariance Type:            nonrobust                                         \n",
       "==============================================================================\n",
       "                 coef    std err          t      P>|t|      [0.025      0.975]\n",
       "------------------------------------------------------------------------------\n",
       "const          0.4525      0.162      2.786      0.008       0.126       0.779\n",
       "x1             0.2260      0.018     12.851      0.000       0.191       0.261\n",
       "x2             0.0305      0.001     21.575      0.000       0.028       0.033\n",
       "x3             0.0310      0.001     24.227      0.000       0.028       0.034\n",
       "x4             0.0149      0.031      0.475      0.637      -0.048       0.078\n",
       "==============================================================================\n",
       "Omnibus:                        9.932   Durbin-Watson:                   2.099\n",
       "Prob(Omnibus):                  0.007   Jarque-Bera (JB):               11.038\n",
       "Skew:                           0.728   Prob(JB):                      0.00401\n",
       "Kurtosis:                       4.669   Cond. No.                         800.\n",
       "==============================================================================\n",
       "\n",
       "Notes:\n",
       "[1] Standard Errors assume that the covariance matrix of the errors is correctly specified.\n",
       "\"\"\""
      ]
     },
     "execution_count": 21,
     "metadata": {},
     "output_type": "execute_result"
    }
   ],
   "source": [
    "# 回归系数计算（变换后的的因变量与X1~X2拟合线性回归模型）\n",
    "model2 = sm.OLS(y_boxcox, X)\n",
    "results2 = model2.fit()\n",
    "results2.summary()"
   ]
  },
  {
   "cell_type": "code",
   "execution_count": 24,
   "id": "1651d07f-0de3-4061-ba92-090ab9f23429",
   "metadata": {},
   "outputs": [
    {
     "data": {
      "text/html": [
       "<table class=\"simpletable\">\n",
       "<caption>OLS Regression Results</caption>\n",
       "<tr>\n",
       "  <th>Dep. Variable:</th>            <td>y</td>        <th>  R-squared:         </th> <td>   0.974</td>\n",
       "</tr>\n",
       "<tr>\n",
       "  <th>Model:</th>                   <td>OLS</td>       <th>  Adj. R-squared:    </th> <td>   0.971</td>\n",
       "</tr>\n",
       "<tr>\n",
       "  <th>Method:</th>             <td>Least Squares</td>  <th>  F-statistic:       </th> <td>   451.8</td>\n",
       "</tr>\n",
       "<tr>\n",
       "  <th>Date:</th>             <td>Fri, 18 Oct 2024</td> <th>  Prob (F-statistic):</th> <td>5.29e-38</td>\n",
       "</tr>\n",
       "<tr>\n",
       "  <th>Time:</th>                 <td>17:39:21</td>     <th>  Log-Likelihood:    </th> <td>  27.372</td>\n",
       "</tr>\n",
       "<tr>\n",
       "  <th>No. Observations:</th>      <td>    54</td>      <th>  AIC:               </th> <td>  -44.74</td>\n",
       "</tr>\n",
       "<tr>\n",
       "  <th>Df Residuals:</th>          <td>    49</td>      <th>  BIC:               </th> <td>  -34.80</td>\n",
       "</tr>\n",
       "<tr>\n",
       "  <th>Df Model:</th>              <td>     4</td>      <th>                     </th>     <td> </td>   \n",
       "</tr>\n",
       "<tr>\n",
       "  <th>Covariance Type:</th>      <td>nonrobust</td>    <th>                     </th>     <td> </td>   \n",
       "</tr>\n",
       "</table>\n",
       "<table class=\"simpletable\">\n",
       "<tr>\n",
       "    <td></td>       <th>coef</th>     <th>std err</th>      <th>t</th>      <th>P>|t|</th>  <th>[0.025</th>    <th>0.975]</th>  \n",
       "</tr>\n",
       "<tr>\n",
       "  <th>const</th> <td>    0.4525</td> <td>    0.162</td> <td>    2.786</td> <td> 0.008</td> <td>    0.126</td> <td>    0.779</td>\n",
       "</tr>\n",
       "<tr>\n",
       "  <th>x1</th>    <td>    0.2260</td> <td>    0.018</td> <td>   12.851</td> <td> 0.000</td> <td>    0.191</td> <td>    0.261</td>\n",
       "</tr>\n",
       "<tr>\n",
       "  <th>x2</th>    <td>    0.0305</td> <td>    0.001</td> <td>   21.575</td> <td> 0.000</td> <td>    0.028</td> <td>    0.033</td>\n",
       "</tr>\n",
       "<tr>\n",
       "  <th>x3</th>    <td>    0.0310</td> <td>    0.001</td> <td>   24.227</td> <td> 0.000</td> <td>    0.028</td> <td>    0.034</td>\n",
       "</tr>\n",
       "<tr>\n",
       "  <th>x4</th>    <td>    0.0149</td> <td>    0.031</td> <td>    0.475</td> <td> 0.637</td> <td>   -0.048</td> <td>    0.078</td>\n",
       "</tr>\n",
       "</table>\n",
       "<table class=\"simpletable\">\n",
       "<tr>\n",
       "  <th>Omnibus:</th>       <td> 9.932</td> <th>  Durbin-Watson:     </th> <td>   2.099</td>\n",
       "</tr>\n",
       "<tr>\n",
       "  <th>Prob(Omnibus):</th> <td> 0.007</td> <th>  Jarque-Bera (JB):  </th> <td>  11.038</td>\n",
       "</tr>\n",
       "<tr>\n",
       "  <th>Skew:</th>          <td> 0.728</td> <th>  Prob(JB):          </th> <td> 0.00401</td>\n",
       "</tr>\n",
       "<tr>\n",
       "  <th>Kurtosis:</th>      <td> 4.669</td> <th>  Cond. No.          </th> <td>    800.</td>\n",
       "</tr>\n",
       "</table><br/><br/>Notes:<br/>[1] Standard Errors assume that the covariance matrix of the errors is correctly specified."
      ],
      "text/latex": [
       "\\begin{center}\n",
       "\\begin{tabular}{lclc}\n",
       "\\toprule\n",
       "\\textbf{Dep. Variable:}    &        y         & \\textbf{  R-squared:         } &     0.974   \\\\\n",
       "\\textbf{Model:}            &       OLS        & \\textbf{  Adj. R-squared:    } &     0.971   \\\\\n",
       "\\textbf{Method:}           &  Least Squares   & \\textbf{  F-statistic:       } &     451.8   \\\\\n",
       "\\textbf{Date:}             & Fri, 18 Oct 2024 & \\textbf{  Prob (F-statistic):} &  5.29e-38   \\\\\n",
       "\\textbf{Time:}             &     17:39:21     & \\textbf{  Log-Likelihood:    } &    27.372   \\\\\n",
       "\\textbf{No. Observations:} &          54      & \\textbf{  AIC:               } &    -44.74   \\\\\n",
       "\\textbf{Df Residuals:}     &          49      & \\textbf{  BIC:               } &    -34.80   \\\\\n",
       "\\textbf{Df Model:}         &           4      & \\textbf{                     } &             \\\\\n",
       "\\textbf{Covariance Type:}  &    nonrobust     & \\textbf{                     } &             \\\\\n",
       "\\bottomrule\n",
       "\\end{tabular}\n",
       "\\begin{tabular}{lcccccc}\n",
       "               & \\textbf{coef} & \\textbf{std err} & \\textbf{t} & \\textbf{P$> |$t$|$} & \\textbf{[0.025} & \\textbf{0.975]}  \\\\\n",
       "\\midrule\n",
       "\\textbf{const} &       0.4525  &        0.162     &     2.786  &         0.008        &        0.126    &        0.779     \\\\\n",
       "\\textbf{x1}    &       0.2260  &        0.018     &    12.851  &         0.000        &        0.191    &        0.261     \\\\\n",
       "\\textbf{x2}    &       0.0305  &        0.001     &    21.575  &         0.000        &        0.028    &        0.033     \\\\\n",
       "\\textbf{x3}    &       0.0310  &        0.001     &    24.227  &         0.000        &        0.028    &        0.034     \\\\\n",
       "\\textbf{x4}    &       0.0149  &        0.031     &     0.475  &         0.637        &       -0.048    &        0.078     \\\\\n",
       "\\bottomrule\n",
       "\\end{tabular}\n",
       "\\begin{tabular}{lclc}\n",
       "\\textbf{Omnibus:}       &  9.932 & \\textbf{  Durbin-Watson:     } &    2.099  \\\\\n",
       "\\textbf{Prob(Omnibus):} &  0.007 & \\textbf{  Jarque-Bera (JB):  } &   11.038  \\\\\n",
       "\\textbf{Skew:}          &  0.728 & \\textbf{  Prob(JB):          } &  0.00401  \\\\\n",
       "\\textbf{Kurtosis:}      &  4.669 & \\textbf{  Cond. No.          } &     800.  \\\\\n",
       "\\bottomrule\n",
       "\\end{tabular}\n",
       "%\\caption{OLS Regression Results}\n",
       "\\end{center}\n",
       "\n",
       "Notes: \\newline\n",
       " [1] Standard Errors assume that the covariance matrix of the errors is correctly specified."
      ],
      "text/plain": [
       "<class 'statsmodels.iolib.summary.Summary'>\n",
       "\"\"\"\n",
       "                            OLS Regression Results                            \n",
       "==============================================================================\n",
       "Dep. Variable:                      y   R-squared:                       0.974\n",
       "Model:                            OLS   Adj. R-squared:                  0.971\n",
       "Method:                 Least Squares   F-statistic:                     451.8\n",
       "Date:                Fri, 18 Oct 2024   Prob (F-statistic):           5.29e-38\n",
       "Time:                        17:39:21   Log-Likelihood:                 27.372\n",
       "No. Observations:                  54   AIC:                            -44.74\n",
       "Df Residuals:                      49   BIC:                            -34.80\n",
       "Df Model:                           4                                         \n",
       "Covariance Type:            nonrobust                                         \n",
       "==============================================================================\n",
       "                 coef    std err          t      P>|t|      [0.025      0.975]\n",
       "------------------------------------------------------------------------------\n",
       "const          0.4525      0.162      2.786      0.008       0.126       0.779\n",
       "x1             0.2260      0.018     12.851      0.000       0.191       0.261\n",
       "x2             0.0305      0.001     21.575      0.000       0.028       0.033\n",
       "x3             0.0310      0.001     24.227      0.000       0.028       0.034\n",
       "x4             0.0149      0.031      0.475      0.637      -0.048       0.078\n",
       "==============================================================================\n",
       "Omnibus:                        9.932   Durbin-Watson:                   2.099\n",
       "Prob(Omnibus):                  0.007   Jarque-Bera (JB):               11.038\n",
       "Skew:                           0.728   Prob(JB):                      0.00401\n",
       "Kurtosis:                       4.669   Cond. No.                         800.\n",
       "==============================================================================\n",
       "\n",
       "Notes:\n",
       "[1] Standard Errors assume that the covariance matrix of the errors is correctly specified.\n",
       "\"\"\""
      ]
     },
     "execution_count": 24,
     "metadata": {},
     "output_type": "execute_result"
    }
   ],
   "source": [
    "y_0 = stats.boxcox(Y)\n",
    "model2 = sm.OLS(y_boxcox, X)\n",
    "results2 = model2.fit()\n",
    "results2.summary()"
   ]
  },
  {
   "cell_type": "code",
   "execution_count": 25,
   "id": "cdff4305-ede0-4ba8-90fa-945007e7325a",
   "metadata": {},
   "outputs": [
    {
     "data": {
      "text/plain": [
       "1.1471961818468965"
      ]
     },
     "execution_count": 25,
     "metadata": {},
     "output_type": "execute_result"
    }
   ],
   "source": [
    "e_hat = results2.resid\n",
    "SSE = sum(e_hat**2)\n",
    "SSE"
   ]
  },
  {
   "cell_type": "code",
   "execution_count": 22,
   "id": "087c8733-ac8e-46ca-ac51-a8855033adae",
   "metadata": {},
   "outputs": [
    {
     "data": {
      "text/plain": [
       "array([ 4.61930734e-02, -1.88681138e-01, -1.81386512e-01,  2.40609398e-03,\n",
       "       -1.05662568e-01, -3.30427442e-01,  1.99389381e-02, -9.89298964e-01,\n",
       "       -2.33995700e+00, -8.28169959e-01,  5.19444000e-01, -2.34617550e-01,\n",
       "        2.14661789e+00,  4.87543321e-01, -3.24015719e-01,  5.47990202e-02,\n",
       "       -4.99837247e-01, -9.88002798e-01, -2.46245361e-02, -1.50481020e-02,\n",
       "       -4.00376879e-01,  3.22162089e+00,  3.35318687e-01,  1.96052890e-01])"
      ]
     },
     "execution_count": 22,
     "metadata": {},
     "output_type": "execute_result"
    }
   ],
   "source": [
    "# 计算学生化残差\n",
    "z_hat = results2.predict()\n",
    "ez_hat = results2.resid\n",
    "SSE = sum((ez_hat)**2)\n",
    "s2_z_hat = SSE/(n-4)\n",
    "\n",
    "H = X @ np.linalg.inv(X.T @ X) @ X.T\n",
    "h = np.diagonal(H)\n",
    "\n",
    "r = np.array([ez_hat[i]/np.sqrt(s2_z_hat*(1-h[i])) for i in range(len(y_hat))])\n",
    "r"
   ]
  },
  {
   "cell_type": "code",
   "execution_count": 23,
   "id": "d048a3b2-200a-4d5e-b371-98d7320169d2",
   "metadata": {},
   "outputs": [
    {
     "data": {
      "text/plain": [
       "Text(0, 0.5, 'epsilonz_hat')"
      ]
     },
     "execution_count": 23,
     "metadata": {},
     "output_type": "execute_result"
    },
    {
     "data": {
      "image/png": "[encoded data removed]",
      "text/plain": [
       "<Figure size 640x480 with 1 Axes>"
      ]
     },
     "metadata": {},
     "output_type": "display_data"
    }
   ],
   "source": [
    "# 残差图\n",
    "plt.scatter(z_hat, ez_hat, marker='*', color='blue')\n",
    "plt.xlim([3, 9])\n",
    "plt.ylim([-0.4, 0.4])\n",
    "plt.xlabel('z_hat')\n",
    "plt.ylabel('epsilonz_hat')"
   ]
  },
  {
   "cell_type": "code",
   "execution_count": 24,
   "id": "8b5f73c3-1c65-4272-96ee-85874f00d25c",
   "metadata": {},
   "outputs": [
    {
     "data": {
      "text/plain": [
       "((array([-1.90380091, -1.48287381, -1.22601535, -1.03156092, -0.8698858 ,\n",
       "         -0.7282709 , -0.59996024, -0.48085763, -0.36822879, -0.26009875,\n",
       "         -0.154935  , -0.05146182,  0.05146182,  0.154935  ,  0.26009875,\n",
       "          0.36822879,  0.48085763,  0.59996024,  0.7282709 ,  0.8698858 ,\n",
       "          1.03156092,  1.22601535,  1.48287381,  1.90380091]),\n",
       "  array([-2.33995700e+00, -9.89298964e-01, -9.88002798e-01, -8.28169959e-01,\n",
       "         -4.99837247e-01, -4.00376879e-01, -3.30427442e-01, -3.24015719e-01,\n",
       "         -2.34617550e-01, -1.88681138e-01, -1.81386512e-01, -1.05662568e-01,\n",
       "         -2.46245361e-02, -1.50481020e-02,  2.40609398e-03,  1.99389381e-02,\n",
       "          4.61930734e-02,  5.47990202e-02,  1.96052890e-01,  3.35318687e-01,\n",
       "          4.87543321e-01,  5.19444000e-01,  2.14661789e+00,  3.22162089e+00])),\n",
       " (0.9614026830282235, -0.017507150806335185, 0.8896816732090388))"
      ]
     },
     "execution_count": 24,
     "metadata": {},
     "output_type": "execute_result"
    },
    {
     "data": {
      "image/png": "[encoded data removed]",
      "text/plain": [
       "<Figure size 640x480 with 1 Axes>"
      ]
     },
     "metadata": {},
     "output_type": "display_data"
    }
   ],
   "source": [
    "# 正态QQ图\n",
    "r_sort = sorted(r)\n",
    "stats.probplot(r_sort, plot=plt)"
   ]
  },
  {
   "cell_type": "code",
   "execution_count": 35,
   "id": "7d235306-619e-48fa-ad1b-9a7cc47b9d49",
   "metadata": {},
   "outputs": [
    {
     "data": {
      "text/plain": [
       "-0.12366988310257622"
      ]
     },
     "execution_count": 35,
     "metadata": {},
     "output_type": "execute_result"
    }
   ],
   "source": [
    "z, lamda =stats.boxcox(Y)\n",
    "lamda"
   ]
  },
  {
   "cell_type": "markdown",
   "id": "c544bdee-fb69-4055-960e-f7df743309e8",
   "metadata": {},
   "source": [
    "# 例2.9 穷举法"
   ]
  },
  {
   "cell_type": "code",
   "execution_count": 25,
   "id": "c3015821-dbbf-4aa0-833e-02016fdca7f3",
   "metadata": {},
   "outputs": [
    {
     "data": {
      "text/html": [
       "<div>\n",
       "<style scoped>\n",
       "    .dataframe tbody tr th:only-of-type {\n",
       "        vertical-align: middle;\n",
       "    }\n",
       "\n",
       "    .dataframe tbody tr th {\n",
       "        vertical-align: top;\n",
       "    }\n",
       "\n",
       "    .dataframe thead th {\n",
       "        text-align: right;\n",
       "    }\n",
       "</style>\n",
       "<table border=\"1\" class=\"dataframe\">\n",
       "  <thead>\n",
       "    <tr style=\"text-align: right;\">\n",
       "      <th></th>\n",
       "      <th>x1</th>\n",
       "      <th>x2</th>\n",
       "      <th>x3</th>\n",
       "      <th>x4</th>\n",
       "      <th>y</th>\n",
       "    </tr>\n",
       "  </thead>\n",
       "  <tbody>\n",
       "    <tr>\n",
       "      <th>0</th>\n",
       "      <td>6.7</td>\n",
       "      <td>62</td>\n",
       "      <td>81</td>\n",
       "      <td>2.59</td>\n",
       "      <td>200</td>\n",
       "    </tr>\n",
       "    <tr>\n",
       "      <th>1</th>\n",
       "      <td>5.1</td>\n",
       "      <td>59</td>\n",
       "      <td>66</td>\n",
       "      <td>1.70</td>\n",
       "      <td>101</td>\n",
       "    </tr>\n",
       "    <tr>\n",
       "      <th>2</th>\n",
       "      <td>7.4</td>\n",
       "      <td>57</td>\n",
       "      <td>83</td>\n",
       "      <td>2.16</td>\n",
       "      <td>204</td>\n",
       "    </tr>\n",
       "    <tr>\n",
       "      <th>3</th>\n",
       "      <td>6.5</td>\n",
       "      <td>73</td>\n",
       "      <td>41</td>\n",
       "      <td>2.01</td>\n",
       "      <td>101</td>\n",
       "    </tr>\n",
       "    <tr>\n",
       "      <th>4</th>\n",
       "      <td>7.8</td>\n",
       "      <td>65</td>\n",
       "      <td>115</td>\n",
       "      <td>4.30</td>\n",
       "      <td>509</td>\n",
       "    </tr>\n",
       "  </tbody>\n",
       "</table>\n",
       "</div>"
      ],
      "text/plain": [
       "    x1  x2   x3    x4    y\n",
       "0  6.7  62   81  2.59  200\n",
       "1  5.1  59   66  1.70  101\n",
       "2  7.4  57   83  2.16  204\n",
       "3  6.5  73   41  2.01  101\n",
       "4  7.8  65  115  4.30  509"
      ]
     },
     "execution_count": 25,
     "metadata": {},
     "output_type": "execute_result"
    }
   ],
   "source": [
    "filename = 'eg2_8data.xls'\n",
    "data = pd.read_excel(filename, header=None, names=['x1', 'x2', 'x3', 'x4', 'y'])\n",
    "data.head()"
   ]
  },
  {
   "cell_type": "code",
   "execution_count": 26,
   "id": "f77e4587-9cd8-45f0-a8a4-9195ea07dcd3",
   "metadata": {},
   "outputs": [],
   "source": [
    "Y = data['y'].values\n",
    "column = ['x1', 'x2', 'x3', 'x4']"
   ]
  },
  {
   "cell_type": "code",
   "execution_count": 27,
   "id": "6776955b-457c-4607-a8cc-8ec6bea3cd54",
   "metadata": {},
   "outputs": [
    {
     "data": {
      "text/html": [
       "<table class=\"simpletable\">\n",
       "<caption>OLS Regression Results</caption>\n",
       "<tr>\n",
       "  <th>Dep. Variable:</th>            <td>y</td>        <th>  R-squared:         </th> <td>   0.974</td>\n",
       "</tr>\n",
       "<tr>\n",
       "  <th>Model:</th>                   <td>OLS</td>       <th>  Adj. R-squared:    </th> <td>   0.971</td>\n",
       "</tr>\n",
       "<tr>\n",
       "  <th>Method:</th>             <td>Least Squares</td>  <th>  F-statistic:       </th> <td>   451.8</td>\n",
       "</tr>\n",
       "<tr>\n",
       "  <th>Date:</th>             <td>Fri, 18 Oct 2024</td> <th>  Prob (F-statistic):</th> <td>5.29e-38</td>\n",
       "</tr>\n",
       "<tr>\n",
       "  <th>Time:</th>                 <td>10:31:35</td>     <th>  Log-Likelihood:    </th> <td>  27.372</td>\n",
       "</tr>\n",
       "<tr>\n",
       "  <th>No. Observations:</th>      <td>    54</td>      <th>  AIC:               </th> <td>  -44.74</td>\n",
       "</tr>\n",
       "<tr>\n",
       "  <th>Df Residuals:</th>          <td>    49</td>      <th>  BIC:               </th> <td>  -34.80</td>\n",
       "</tr>\n",
       "<tr>\n",
       "  <th>Df Model:</th>              <td>     4</td>      <th>                     </th>     <td> </td>   \n",
       "</tr>\n",
       "<tr>\n",
       "  <th>Covariance Type:</th>      <td>nonrobust</td>    <th>                     </th>     <td> </td>   \n",
       "</tr>\n",
       "</table>\n",
       "<table class=\"simpletable\">\n",
       "<tr>\n",
       "    <td></td>       <th>coef</th>     <th>std err</th>      <th>t</th>      <th>P>|t|</th>  <th>[0.025</th>    <th>0.975]</th>  \n",
       "</tr>\n",
       "<tr>\n",
       "  <th>const</th> <td>    0.4525</td> <td>    0.162</td> <td>    2.786</td> <td> 0.008</td> <td>    0.126</td> <td>    0.779</td>\n",
       "</tr>\n",
       "<tr>\n",
       "  <th>x1</th>    <td>    0.2260</td> <td>    0.018</td> <td>   12.851</td> <td> 0.000</td> <td>    0.191</td> <td>    0.261</td>\n",
       "</tr>\n",
       "<tr>\n",
       "  <th>x2</th>    <td>    0.0305</td> <td>    0.001</td> <td>   21.575</td> <td> 0.000</td> <td>    0.028</td> <td>    0.033</td>\n",
       "</tr>\n",
       "<tr>\n",
       "  <th>x3</th>    <td>    0.0310</td> <td>    0.001</td> <td>   24.227</td> <td> 0.000</td> <td>    0.028</td> <td>    0.034</td>\n",
       "</tr>\n",
       "<tr>\n",
       "  <th>x4</th>    <td>    0.0149</td> <td>    0.031</td> <td>    0.475</td> <td> 0.637</td> <td>   -0.048</td> <td>    0.078</td>\n",
       "</tr>\n",
       "</table>\n",
       "<table class=\"simpletable\">\n",
       "<tr>\n",
       "  <th>Omnibus:</th>       <td> 9.932</td> <th>  Durbin-Watson:     </th> <td>   2.099</td>\n",
       "</tr>\n",
       "<tr>\n",
       "  <th>Prob(Omnibus):</th> <td> 0.007</td> <th>  Jarque-Bera (JB):  </th> <td>  11.038</td>\n",
       "</tr>\n",
       "<tr>\n",
       "  <th>Skew:</th>          <td> 0.728</td> <th>  Prob(JB):          </th> <td> 0.00401</td>\n",
       "</tr>\n",
       "<tr>\n",
       "  <th>Kurtosis:</th>      <td> 4.669</td> <th>  Cond. No.          </th> <td>    800.</td>\n",
       "</tr>\n",
       "</table><br/><br/>Notes:<br/>[1] Standard Errors assume that the covariance matrix of the errors is correctly specified."
      ],
      "text/latex": [
       "\\begin{center}\n",
       "\\begin{tabular}{lclc}\n",
       "\\toprule\n",
       "\\textbf{Dep. Variable:}    &        y         & \\textbf{  R-squared:         } &     0.974   \\\\\n",
       "\\textbf{Model:}            &       OLS        & \\textbf{  Adj. R-squared:    } &     0.971   \\\\\n",
       "\\textbf{Method:}           &  Least Squares   & \\textbf{  F-statistic:       } &     451.8   \\\\\n",
       "\\textbf{Date:}             & Fri, 18 Oct 2024 & \\textbf{  Prob (F-statistic):} &  5.29e-38   \\\\\n",
       "\\textbf{Time:}             &     10:31:35     & \\textbf{  Log-Likelihood:    } &    27.372   \\\\\n",
       "\\textbf{No. Observations:} &          54      & \\textbf{  AIC:               } &    -44.74   \\\\\n",
       "\\textbf{Df Residuals:}     &          49      & \\textbf{  BIC:               } &    -34.80   \\\\\n",
       "\\textbf{Df Model:}         &           4      & \\textbf{                     } &             \\\\\n",
       "\\textbf{Covariance Type:}  &    nonrobust     & \\textbf{                     } &             \\\\\n",
       "\\bottomrule\n",
       "\\end{tabular}\n",
       "\\begin{tabular}{lcccccc}\n",
       "               & \\textbf{coef} & \\textbf{std err} & \\textbf{t} & \\textbf{P$> |$t$|$} & \\textbf{[0.025} & \\textbf{0.975]}  \\\\\n",
       "\\midrule\n",
       "\\textbf{const} &       0.4525  &        0.162     &     2.786  &         0.008        &        0.126    &        0.779     \\\\\n",
       "\\textbf{x1}    &       0.2260  &        0.018     &    12.851  &         0.000        &        0.191    &        0.261     \\\\\n",
       "\\textbf{x2}    &       0.0305  &        0.001     &    21.575  &         0.000        &        0.028    &        0.033     \\\\\n",
       "\\textbf{x3}    &       0.0310  &        0.001     &    24.227  &         0.000        &        0.028    &        0.034     \\\\\n",
       "\\textbf{x4}    &       0.0149  &        0.031     &     0.475  &         0.637        &       -0.048    &        0.078     \\\\\n",
       "\\bottomrule\n",
       "\\end{tabular}\n",
       "\\begin{tabular}{lclc}\n",
       "\\textbf{Omnibus:}       &  9.932 & \\textbf{  Durbin-Watson:     } &    2.099  \\\\\n",
       "\\textbf{Prob(Omnibus):} &  0.007 & \\textbf{  Jarque-Bera (JB):  } &   11.038  \\\\\n",
       "\\textbf{Skew:}          &  0.728 & \\textbf{  Prob(JB):          } &  0.00401  \\\\\n",
       "\\textbf{Kurtosis:}      &  4.669 & \\textbf{  Cond. No.          } &     800.  \\\\\n",
       "\\bottomrule\n",
       "\\end{tabular}\n",
       "%\\caption{OLS Regression Results}\n",
       "\\end{center}\n",
       "\n",
       "Notes: \\newline\n",
       " [1] Standard Errors assume that the covariance matrix of the errors is correctly specified."
      ],
      "text/plain": [
       "<class 'statsmodels.iolib.summary.Summary'>\n",
       "\"\"\"\n",
       "                            OLS Regression Results                            \n",
       "==============================================================================\n",
       "Dep. Variable:                      y   R-squared:                       0.974\n",
       "Model:                            OLS   Adj. R-squared:                  0.971\n",
       "Method:                 Least Squares   F-statistic:                     451.8\n",
       "Date:                Fri, 18 Oct 2024   Prob (F-statistic):           5.29e-38\n",
       "Time:                        10:31:35   Log-Likelihood:                 27.372\n",
       "No. Observations:                  54   AIC:                            -44.74\n",
       "Df Residuals:                      49   BIC:                            -34.80\n",
       "Df Model:                           4                                         \n",
       "Covariance Type:            nonrobust                                         \n",
       "==============================================================================\n",
       "                 coef    std err          t      P>|t|      [0.025      0.975]\n",
       "------------------------------------------------------------------------------\n",
       "const          0.4525      0.162      2.786      0.008       0.126       0.779\n",
       "x1             0.2260      0.018     12.851      0.000       0.191       0.261\n",
       "x2             0.0305      0.001     21.575      0.000       0.028       0.033\n",
       "x3             0.0310      0.001     24.227      0.000       0.028       0.034\n",
       "x4             0.0149      0.031      0.475      0.637      -0.048       0.078\n",
       "==============================================================================\n",
       "Omnibus:                        9.932   Durbin-Watson:                   2.099\n",
       "Prob(Omnibus):                  0.007   Jarque-Bera (JB):               11.038\n",
       "Skew:                           0.728   Prob(JB):                      0.00401\n",
       "Kurtosis:                       4.669   Cond. No.                         800.\n",
       "==============================================================================\n",
       "\n",
       "Notes:\n",
       "[1] Standard Errors assume that the covariance matrix of the errors is correctly specified.\n",
       "\"\"\""
      ]
     },
     "execution_count": 27,
     "metadata": {},
     "output_type": "execute_result"
    }
   ],
   "source": [
    "Z = stats.boxcox(Y, 0.07)\n",
    "X = sm.add_constant(data[column].values)\n",
    "model0 = sm.OLS(Z, X)\n",
    "results0 = model0.fit()\n",
    "results0.summary()"
   ]
  },
  {
   "cell_type": "code",
   "execution_count": 28,
   "id": "5889d3d5-0a8c-4417-aa32-d36cc07606dd",
   "metadata": {},
   "outputs": [],
   "source": [
    "n = len(Y)\n",
    "\n",
    "Z_hat0 = results0.predict()\n",
    "Z_bar0 = Z.mean()\n",
    "\n",
    "SST0 = sum((Z-Z_bar0)**2)\n",
    "SSE0 = sum((Z-Z_hat0)**2)\n",
    "MSE0 = SSE0/(n-len(column)-1)"
   ]
  },
  {
   "cell_type": "code",
   "execution_count": 29,
   "id": "4d56d0eb-a544-48c1-b206-60e0f0828106",
   "metadata": {},
   "outputs": [],
   "source": [
    "# 计算修正的复相关系数\n",
    "def R2_p(MSE_p, n=len(Y), SST=SST0):\n",
    "    R = 1 - MSE_p/(SST/(n-1))\n",
    "    return R"
   ]
  },
  {
   "cell_type": "code",
   "execution_count": 30,
   "id": "e83c9833-df1d-4447-ac1e-244338a71b42",
   "metadata": {},
   "outputs": [],
   "source": [
    "# 计算Cp统计量\n",
    "def Cp(SSE_p, p, n=len(Y), MSE=MSE0):\n",
    "    Cp = (SSE_p/MSE) - (n-2*p)\n",
    "    return Cp"
   ]
  },
  {
   "cell_type": "code",
   "execution_count": 31,
   "id": "8f39c1a8-5a86-460f-8a43-78a66028eb0e",
   "metadata": {},
   "outputs": [],
   "source": [
    "# 计算预测平方和PRESSp\n",
    "def PRESSp(e_p, h):\n",
    "    PRESS_p = sum((e_p/(1-h))**2)\n",
    "    return PRESS_p"
   ]
  },
  {
   "cell_type": "code",
   "execution_count": 32,
   "id": "d636255a-7d80-480b-b34e-3783787c56f3",
   "metadata": {},
   "outputs": [
    {
     "data": {
      "text/html": [
       "<div>\n",
       "<style scoped>\n",
       "    .dataframe tbody tr th:only-of-type {\n",
       "        vertical-align: middle;\n",
       "    }\n",
       "\n",
       "    .dataframe tbody tr th {\n",
       "        vertical-align: top;\n",
       "    }\n",
       "\n",
       "    .dataframe thead th {\n",
       "        text-align: right;\n",
       "    }\n",
       "</style>\n",
       "<table border=\"1\" class=\"dataframe\">\n",
       "  <thead>\n",
       "    <tr style=\"text-align: right;\">\n",
       "      <th></th>\n",
       "      <th>模型中的自变量</th>\n",
       "      <th>p</th>\n",
       "      <th>R_a^2(p)</th>\n",
       "      <th>C_p</th>\n",
       "      <th>PRESS_p</th>\n",
       "    </tr>\n",
       "  </thead>\n",
       "  <tbody>\n",
       "    <tr>\n",
       "      <th>0</th>\n",
       "      <td>x1</td>\n",
       "      <td>2</td>\n",
       "      <td>0.106459</td>\n",
       "      <td>1577.392979</td>\n",
       "      <td>41.503883</td>\n",
       "    </tr>\n",
       "    <tr>\n",
       "      <th>1</th>\n",
       "      <td>x2</td>\n",
       "      <td>2</td>\n",
       "      <td>0.340304</td>\n",
       "      <td>1151.494668</td>\n",
       "      <td>31.289492</td>\n",
       "    </tr>\n",
       "    <tr>\n",
       "      <th>2</th>\n",
       "      <td>x3</td>\n",
       "      <td>2</td>\n",
       "      <td>0.428052</td>\n",
       "      <td>991.681281</td>\n",
       "      <td>26.721350</td>\n",
       "    </tr>\n",
       "    <tr>\n",
       "      <th>3</th>\n",
       "      <td>x4</td>\n",
       "      <td>2</td>\n",
       "      <td>0.526534</td>\n",
       "      <td>812.316655</td>\n",
       "      <td>21.820919</td>\n",
       "    </tr>\n",
       "    <tr>\n",
       "      <th>4</th>\n",
       "      <td>x1 x2</td>\n",
       "      <td>3</td>\n",
       "      <td>0.420188</td>\n",
       "      <td>987.695140</td>\n",
       "      <td>28.708193</td>\n",
       "    </tr>\n",
       "    <tr>\n",
       "      <th>5</th>\n",
       "      <td>x1 x3</td>\n",
       "      <td>3</td>\n",
       "      <td>0.632379</td>\n",
       "      <td>608.667962</td>\n",
       "      <td>17.569325</td>\n",
       "    </tr>\n",
       "    <tr>\n",
       "      <th>6</th>\n",
       "      <td>x1 x4</td>\n",
       "      <td>3</td>\n",
       "      <td>0.517628</td>\n",
       "      <td>813.642407</td>\n",
       "      <td>22.789410</td>\n",
       "    </tr>\n",
       "    <tr>\n",
       "      <th>7</th>\n",
       "      <td>x2 x3</td>\n",
       "      <td>3</td>\n",
       "      <td>0.803195</td>\n",
       "      <td>303.545540</td>\n",
       "      <td>9.269566</td>\n",
       "    </tr>\n",
       "    <tr>\n",
       "      <th>8</th>\n",
       "      <td>x2 x4</td>\n",
       "      <td>3</td>\n",
       "      <td>0.643457</td>\n",
       "      <td>588.878512</td>\n",
       "      <td>16.985049</td>\n",
       "    </tr>\n",
       "    <tr>\n",
       "      <th>9</th>\n",
       "      <td>x3 x4</td>\n",
       "      <td>3</td>\n",
       "      <td>0.678140</td>\n",
       "      <td>526.925300</td>\n",
       "      <td>15.441686</td>\n",
       "    </tr>\n",
       "    <tr>\n",
       "      <th>10</th>\n",
       "      <td>x1 x2 x3</td>\n",
       "      <td>4</td>\n",
       "      <td>0.971891</td>\n",
       "      <td>3.225265</td>\n",
       "      <td>1.473722</td>\n",
       "    </tr>\n",
       "    <tr>\n",
       "      <th>11</th>\n",
       "      <td>x1 x2 x4</td>\n",
       "      <td>4</td>\n",
       "      <td>0.636859</td>\n",
       "      <td>589.945355</td>\n",
       "      <td>17.697964</td>\n",
       "    </tr>\n",
       "    <tr>\n",
       "      <th>12</th>\n",
       "      <td>x1 x3 x4</td>\n",
       "      <td>4</td>\n",
       "      <td>0.706224</td>\n",
       "      <td>468.471614</td>\n",
       "      <td>14.307251</td>\n",
       "    </tr>\n",
       "    <tr>\n",
       "      <th>13</th>\n",
       "      <td>x2 x3 x4</td>\n",
       "      <td>4</td>\n",
       "      <td>0.877710</td>\n",
       "      <td>168.158138</td>\n",
       "      <td>5.942425</td>\n",
       "    </tr>\n",
       "    <tr>\n",
       "      <th>14</th>\n",
       "      <td>x1 x2 x3 x4</td>\n",
       "      <td>5</td>\n",
       "      <td>0.971449</td>\n",
       "      <td>5.000000</td>\n",
       "      <td>1.519320</td>\n",
       "    </tr>\n",
       "  </tbody>\n",
       "</table>\n",
       "</div>"
      ],
      "text/plain": [
       "         模型中的自变量  p  R_a^2(p)          C_p    PRESS_p\n",
       "0            x1   2  0.106459  1577.392979  41.503883\n",
       "1            x2   2  0.340304  1151.494668  31.289492\n",
       "2            x3   2  0.428052   991.681281  26.721350\n",
       "3            x4   2  0.526534   812.316655  21.820919\n",
       "4         x1 x2   3  0.420188   987.695140  28.708193\n",
       "5         x1 x3   3  0.632379   608.667962  17.569325\n",
       "6         x1 x4   3  0.517628   813.642407  22.789410\n",
       "7         x2 x3   3  0.803195   303.545540   9.269566\n",
       "8         x2 x4   3  0.643457   588.878512  16.985049\n",
       "9         x3 x4   3  0.678140   526.925300  15.441686\n",
       "10     x1 x2 x3   4  0.971891     3.225265   1.473722\n",
       "11     x1 x2 x4   4  0.636859   589.945355  17.697964\n",
       "12     x1 x3 x4   4  0.706224   468.471614  14.307251\n",
       "13     x2 x3 x4   4  0.877710   168.158138   5.942425\n",
       "14  x1 x2 x3 x4   5  0.971449     5.000000   1.519320"
      ]
     },
     "execution_count": 32,
     "metadata": {},
     "output_type": "execute_result"
    }
   ],
   "source": [
    "from itertools import combinations\n",
    "\n",
    "df = pd.DataFrame(data=None, columns=['模型中的自变量', 'p', 'R_a^2(p)', 'C_p', 'PRESS_p'])\n",
    "\n",
    "k = 1\n",
    "for i in range(1, 5):\n",
    "    combination = combinations(column, i)\n",
    "    for lists in combination:\n",
    "        p = i+1\n",
    "        lists = list(lists)\n",
    "\n",
    "        # 回归拟合\n",
    "        X_p = sm.add_constant(data[lists].values)\n",
    "        model_p = sm.OLS(Z, X_p)\n",
    "        results_p = model_p.fit()\n",
    "        Zhat_p = results_p.predict()\n",
    "        \n",
    "        # 计算复相关系数、C_p统计量、预测平方和\n",
    "        e_p = Z-Zhat_p\n",
    "        SSE_p = sum(e_p**2)\n",
    "        MSE_p = SSE_p/(n-p)\n",
    "        H = X_p @ np.linalg.inv(X_p.T @ X_p) @ X_p.T\n",
    "        h = np.diagonal(H)\n",
    "\n",
    "        \n",
    "        R_p = R2_p(MSE_p)\n",
    "        C_p = Cp(SSE_p, p)\n",
    "        PRESS_p = PRESSp(e_p, h)\n",
    "        # 加入表格        \n",
    "        var = ''\n",
    "        for k in lists:\n",
    "            var += k\n",
    "            var += ' '\n",
    "        df.loc[len(df)] = [var, p, R_p, C_p, PRESS_p]\n",
    "df"
   ]
  },
  {
   "cell_type": "code",
   "execution_count": null,
   "id": "fad44306-2e5c-46eb-9af4-aef6d77aa6a0",
   "metadata": {},
   "outputs": [],
   "source": []
  }
 ],
 "metadata": {
  "kernelspec": {
   "display_name": "Python 3 (ipykernel)",
   "language": "python",
   "name": "python3"
  },
  "language_info": {
   "codemirror_mode": {
    "name": "ipython",
    "version": 3
   },
   "file_extension": ".py",
   "mimetype": "text/x-python",
   "name": "python",
   "nbconvert_exporter": "python",
   "pygments_lexer": "ipython3",
   "version": "3.11.5"
  }
 },
 "nbformat": 4,
 "nbformat_minor": 5
}
