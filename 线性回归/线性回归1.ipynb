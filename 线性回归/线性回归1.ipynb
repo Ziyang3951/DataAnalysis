{
 "cells": [
  {
   "cell_type": "code",
   "execution_count": 1,
   "id": "56d5e21c-89f5-4f87-82c6-b254ea9169de",
   "metadata": {},
   "outputs": [],
   "source": [
    "import pandas as pd\n",
    "import numpy as np\n",
    "import matplotlib.pyplot as plt\n",
    "import scipy.stats as stats\n",
    "import matplotlib\n",
    "matplotlib.rcParams['font.sans-serif'] = ['SimHei']\n",
    "matplotlib.rcParams['axes.unicode_minus']=False"
   ]
  },
  {
   "cell_type": "markdown",
   "id": "a8821eef-2532-4c4b-bfcf-adb953676043",
   "metadata": {},
   "source": [
    "# 例2.3"
   ]
  },
  {
   "cell_type": "code",
   "execution_count": 2,
   "id": "ed823540-6dbc-44b0-943c-e9adfe2edbb1",
   "metadata": {},
   "outputs": [
    {
     "data": {
      "text/html": [
       "<div>\n",
       "<style scoped>\n",
       "    .dataframe tbody tr th:only-of-type {\n",
       "        vertical-align: middle;\n",
       "    }\n",
       "\n",
       "    .dataframe tbody tr th {\n",
       "        vertical-align: top;\n",
       "    }\n",
       "\n",
       "    .dataframe thead th {\n",
       "        text-align: right;\n",
       "    }\n",
       "</style>\n",
       "<table border=\"1\" class=\"dataframe\">\n",
       "  <thead>\n",
       "    <tr style=\"text-align: right;\">\n",
       "      <th></th>\n",
       "      <th>y</th>\n",
       "      <th>x1</th>\n",
       "      <th>x2</th>\n",
       "      <th>x3</th>\n",
       "    </tr>\n",
       "  </thead>\n",
       "  <tbody>\n",
       "    <tr>\n",
       "      <th>0</th>\n",
       "      <td>33.2</td>\n",
       "      <td>3.5</td>\n",
       "      <td>9</td>\n",
       "      <td>6.1</td>\n",
       "    </tr>\n",
       "    <tr>\n",
       "      <th>1</th>\n",
       "      <td>40.3</td>\n",
       "      <td>5.3</td>\n",
       "      <td>20</td>\n",
       "      <td>6.4</td>\n",
       "    </tr>\n",
       "    <tr>\n",
       "      <th>2</th>\n",
       "      <td>38.7</td>\n",
       "      <td>5.1</td>\n",
       "      <td>18</td>\n",
       "      <td>7.4</td>\n",
       "    </tr>\n",
       "    <tr>\n",
       "      <th>3</th>\n",
       "      <td>46.8</td>\n",
       "      <td>5.8</td>\n",
       "      <td>33</td>\n",
       "      <td>6.7</td>\n",
       "    </tr>\n",
       "    <tr>\n",
       "      <th>4</th>\n",
       "      <td>41.4</td>\n",
       "      <td>4.2</td>\n",
       "      <td>31</td>\n",
       "      <td>7.5</td>\n",
       "    </tr>\n",
       "  </tbody>\n",
       "</table>\n",
       "</div>"
      ],
      "text/plain": [
       "      y   x1  x2   x3\n",
       "0  33.2  3.5   9  6.1\n",
       "1  40.3  5.3  20  6.4\n",
       "2  38.7  5.1  18  7.4\n",
       "3  46.8  5.8  33  6.7\n",
       "4  41.4  4.2  31  7.5"
      ]
     },
     "execution_count": 2,
     "metadata": {},
     "output_type": "execute_result"
    }
   ],
   "source": [
    "filename = 'eg2d3data.xls'\n",
    "data = pd.read_excel(filename)\n",
    "data.head()"
   ]
  },
  {
   "cell_type": "code",
   "execution_count": 3,
   "id": "7bbebb77-b886-419c-bce4-7a04f7bed4d5",
   "metadata": {},
   "outputs": [
    {
     "data": {
      "text/html": [
       "<div>\n",
       "<style scoped>\n",
       "    .dataframe tbody tr th:only-of-type {\n",
       "        vertical-align: middle;\n",
       "    }\n",
       "\n",
       "    .dataframe tbody tr th {\n",
       "        vertical-align: top;\n",
       "    }\n",
       "\n",
       "    .dataframe thead th {\n",
       "        text-align: right;\n",
       "    }\n",
       "</style>\n",
       "<table border=\"1\" class=\"dataframe\">\n",
       "  <thead>\n",
       "    <tr style=\"text-align: right;\">\n",
       "      <th></th>\n",
       "      <th>y</th>\n",
       "      <th>x1</th>\n",
       "      <th>x2</th>\n",
       "      <th>x3</th>\n",
       "    </tr>\n",
       "  </thead>\n",
       "  <tbody>\n",
       "    <tr>\n",
       "      <th>count</th>\n",
       "      <td>24.000000</td>\n",
       "      <td>24.000000</td>\n",
       "      <td>24.000000</td>\n",
       "      <td>24.000000</td>\n",
       "    </tr>\n",
       "    <tr>\n",
       "      <th>mean</th>\n",
       "      <td>39.500000</td>\n",
       "      <td>5.320833</td>\n",
       "      <td>24.958333</td>\n",
       "      <td>5.987500</td>\n",
       "    </tr>\n",
       "    <tr>\n",
       "      <th>std</th>\n",
       "      <td>5.474288</td>\n",
       "      <td>1.269707</td>\n",
       "      <td>11.222955</td>\n",
       "      <td>1.303611</td>\n",
       "    </tr>\n",
       "    <tr>\n",
       "      <th>min</th>\n",
       "      <td>30.100000</td>\n",
       "      <td>3.100000</td>\n",
       "      <td>5.000000</td>\n",
       "      <td>3.500000</td>\n",
       "    </tr>\n",
       "    <tr>\n",
       "      <th>25%</th>\n",
       "      <td>35.700000</td>\n",
       "      <td>4.425000</td>\n",
       "      <td>17.250000</td>\n",
       "      <td>5.000000</td>\n",
       "    </tr>\n",
       "    <tr>\n",
       "      <th>50%</th>\n",
       "      <td>38.850000</td>\n",
       "      <td>5.400000</td>\n",
       "      <td>25.000000</td>\n",
       "      <td>6.000000</td>\n",
       "    </tr>\n",
       "    <tr>\n",
       "      <th>75%</th>\n",
       "      <td>42.925000</td>\n",
       "      <td>6.050000</td>\n",
       "      <td>33.250000</td>\n",
       "      <td>7.000000</td>\n",
       "    </tr>\n",
       "    <tr>\n",
       "      <th>max</th>\n",
       "      <td>52.900000</td>\n",
       "      <td>8.000000</td>\n",
       "      <td>47.000000</td>\n",
       "      <td>8.300000</td>\n",
       "    </tr>\n",
       "  </tbody>\n",
       "</table>\n",
       "</div>"
      ],
      "text/plain": [
       "               y         x1         x2         x3\n",
       "count  24.000000  24.000000  24.000000  24.000000\n",
       "mean   39.500000   5.320833  24.958333   5.987500\n",
       "std     5.474288   1.269707  11.222955   1.303611\n",
       "min    30.100000   3.100000   5.000000   3.500000\n",
       "25%    35.700000   4.425000  17.250000   5.000000\n",
       "50%    38.850000   5.400000  25.000000   6.000000\n",
       "75%    42.925000   6.050000  33.250000   7.000000\n",
       "max    52.900000   8.000000  47.000000   8.300000"
      ]
     },
     "execution_count": 3,
     "metadata": {},
     "output_type": "execute_result"
    }
   ],
   "source": [
    "# 描述性分析\n",
    "data.describe()"
   ]
  },
  {
   "cell_type": "code",
   "execution_count": 4,
   "id": "5d841fc7-3947-4d0a-8f35-39ed655c7aac",
   "metadata": {},
   "outputs": [
    {
     "data": {
      "image/png": "[encoded data removed]",
      "text/plain": [
       "<Figure size 640x480 with 4 Axes>"
      ]
     },
     "metadata": {},
     "output_type": "display_data"
    }
   ],
   "source": [
    "y = data['y'].values\n",
    "x1 = data['x1'].values\n",
    "x2 = data['x2'].values\n",
    "x3 = data['x3'].values\n",
    "\n",
    "bins = 10\n",
    "plt.subplot(2, 2, 1)\n",
    "plt.hist(y, bins, color='blue')\n",
    "plt.title('y')\n",
    "\n",
    "plt.subplot(2, 2, 2)\n",
    "plt.hist(x1, bins, color='blue')\n",
    "plt.title('x1')\n",
    "\n",
    "plt.subplot(2, 2, 3)\n",
    "plt.hist(x2, bins, color='blue')\n",
    "plt.title('x2')\n",
    "\n",
    "plt.subplot(2, 2, 4)\n",
    "plt.hist(x3, bins, color='blue')\n",
    "plt.title('x3')\n",
    "\n",
    "plt.tight_layout()\n",
    "plt.show()"
   ]
  },
  {
   "cell_type": "code",
   "execution_count": 5,
   "id": "08b0c24b-bd10-4cc0-8bc5-929fdf2bfaf1",
   "metadata": {},
   "outputs": [
    {
     "data": {
      "text/plain": [
       "{'whiskers': [<matplotlib.lines.Line2D at 0x20858749350>,\n",
       "  <matplotlib.lines.Line2D at 0x20858749fd0>,\n",
       "  <matplotlib.lines.Line2D at 0x208587562d0>,\n",
       "  <matplotlib.lines.Line2D at 0x20858756e10>,\n",
       "  <matplotlib.lines.Line2D at 0x20858766fd0>,\n",
       "  <matplotlib.lines.Line2D at 0x20858767bd0>,\n",
       "  <matplotlib.lines.Line2D at 0x2085876fd50>,\n",
       "  <matplotlib.lines.Line2D at 0x208587788d0>],\n",
       " 'caps': [<matplotlib.lines.Line2D at 0x2085874ac10>,\n",
       "  <matplotlib.lines.Line2D at 0x2085874b710>,\n",
       "  <matplotlib.lines.Line2D at 0x208587578d0>,\n",
       "  <matplotlib.lines.Line2D at 0x20858764450>,\n",
       "  <matplotlib.lines.Line2D at 0x2085876c650>,\n",
       "  <matplotlib.lines.Line2D at 0x2085876d210>,\n",
       "  <matplotlib.lines.Line2D at 0x20858779390>,\n",
       "  <matplotlib.lines.Line2D at 0x20858779d90>],\n",
       " 'boxes': [<matplotlib.lines.Line2D at 0x208565563d0>,\n",
       "  <matplotlib.lines.Line2D at 0x20858755790>,\n",
       "  <matplotlib.lines.Line2D at 0x20858766510>,\n",
       "  <matplotlib.lines.Line2D at 0x2085876f250>],\n",
       " 'medians': [<matplotlib.lines.Line2D at 0x208587542d0>,\n",
       "  <matplotlib.lines.Line2D at 0x20858764f10>,\n",
       "  <matplotlib.lines.Line2D at 0x2085876dc90>,\n",
       "  <matplotlib.lines.Line2D at 0x2085877a810>],\n",
       " 'fliers': [<matplotlib.lines.Line2D at 0x20858754dd0>,\n",
       "  <matplotlib.lines.Line2D at 0x20858765950>,\n",
       "  <matplotlib.lines.Line2D at 0x2085876e750>,\n",
       "  <matplotlib.lines.Line2D at 0x2085877b310>],\n",
       " 'means': []}"
      ]
     },
     "execution_count": 5,
     "metadata": {},
     "output_type": "execute_result"
    },
    {
     "data": {
      "image/png": "[encoded data removed]",
      "text/plain": [
       "<Figure size 640x480 with 1 Axes>"
      ]
     },
     "metadata": {},
     "output_type": "display_data"
    }
   ],
   "source": [
    "# 箱型图\n",
    "plt.boxplot([y, x1, x2, x3], label=['y', 'x1', 'x2', 'x3'])"
   ]
  },
  {
   "cell_type": "code",
   "execution_count": 6,
   "id": "a02ca799-5bbc-49d1-a7fb-c9e6310a45ff",
   "metadata": {},
   "outputs": [
    {
     "data": {
      "image/png": "[encoded data removed]",
      "text/plain": [
       "<Figure size 640x480 with 4 Axes>"
      ]
     },
     "metadata": {},
     "output_type": "display_data"
    }
   ],
   "source": [
    "# x与y之间的散点图、相关系数和检验p值\n",
    "fig, ax = plt.subplots(2, 2)\n",
    "\n",
    "# x1、y\n",
    "ax[0, 0].scatter(x1, y)\n",
    "ax[0, 0].set_xlabel('x1')\n",
    "ax[0, 0].set_ylabel('y')\n",
    "r1, p1 = stats.pearsonr(x1, y)\n",
    "ax[0, 0].set_title('r1='+str(round(r1, 3))+',p1='+str(round(p1, 3)))\n",
    "\n",
    "# x2、y\n",
    "ax[0, 1].scatter(x2, y)\n",
    "ax[0, 1].set_xlabel('x2')\n",
    "ax[0, 1].set_ylabel('y')\n",
    "r2, p2 = stats.pearsonr(x2, y)\n",
    "ax[0, 1].set_title('r2='+str(round(r2, 3))+',p2='+str(round(p2, 3)))\n",
    "\n",
    "# x3、y\n",
    "ax[1, 0].scatter(x3, y)\n",
    "ax[1, 0].set_xlabel('x3')\n",
    "ax[1, 0].set_ylabel('y')\n",
    "r3, p3 = stats.pearsonr(x3, y)\n",
    "ax[1, 0].set_title('r3='+str(round(r3, 3))+',p3='+str(round(p3, 3)))\n",
    "\n",
    "fig.tight_layout()\n",
    "plt.show()"
   ]
  },
  {
   "cell_type": "code",
   "execution_count": 7,
   "id": "612b4728-7a7b-482a-a713-583f0315edc7",
   "metadata": {},
   "outputs": [
    {
     "data": {
      "image/png": "[encoded data removed]",
      "text/plain": [
       "<Figure size 640x480 with 4 Axes>"
      ]
     },
     "metadata": {},
     "output_type": "display_data"
    }
   ],
   "source": [
    "# x之间的散点图、相关系数和检验p值\n",
    "fig, ax = plt.subplots(2, 2)\n",
    "\n",
    "# x1、x2\n",
    "ax[0, 0].scatter(x1, x2)\n",
    "ax[0, 0].set_xlabel('x1')\n",
    "ax[0, 0].set_ylabel('x2')\n",
    "r1, p1 = stats.pearsonr(x1, x2)\n",
    "ax[0, 0].set_title('r1='+str(round(r1, 3))+',p1='+str(round(p1, 3)))\n",
    "\n",
    "# x1、x3\n",
    "ax[0, 1].scatter(x1, x3)\n",
    "ax[0, 1].set_xlabel('x1')\n",
    "ax[0, 1].set_ylabel('x3')\n",
    "r2, p2 = stats.pearsonr(x1, x3)\n",
    "ax[0, 1].set_title('r2='+str(round(r2, 3))+',p2='+str(round(p2, 3)))\n",
    "\n",
    "# x2、x3\n",
    "ax[1, 0].scatter(x2, x3)\n",
    "ax[1, 0].set_xlabel('x2')\n",
    "ax[1, 0].set_ylabel('x3')\n",
    "r3, p3 = stats.pearsonr(x2, x3)\n",
    "ax[1, 0].set_title('r3='+str(round(r3, 3))+',p3='+str(round(p3, 3)))\n",
    "\n",
    "fig.tight_layout()\n",
    "plt.show()\n"
   ]
  },
  {
   "cell_type": "code",
   "execution_count": 8,
   "id": "8cc31c09-f391-4d78-9797-d6b225c1b9a6",
   "metadata": {},
   "outputs": [
    {
     "name": "stdout",
     "output_type": "stream",
     "text": [
      "回归系数 (beta): [17.62492547  1.12811702  0.32326938  1.30342999]\n",
      "Y = 17.6249 + 1.1281X1 + 0.3233X2 + 1.3034X3\n"
     ]
    }
   ],
   "source": [
    "# 回归分析\n",
    "\n",
    "# 最初数据\n",
    "y = data['y']\n",
    "x = data[['x1', 'x2', 'x3']]\n",
    "\n",
    "# X、Y矩阵\n",
    "n = len(x)\n",
    "X = np.ones((n, 4))\n",
    "X[:, 1:] = x.values\n",
    "Y = y.values\n",
    "\n",
    "# 正规方程：beta = (X^T X)^(-1) X^T Y\n",
    "X_t = X.T\n",
    "beta = np.linalg.inv(X_t @ X) @ X_t @ Y\n",
    "\n",
    "# 输出回归系数\n",
    "print(\"回归系数 (beta):\", beta)\n",
    "print('Y = %.4f + %.4fX1 + %.4fX2 + %.4fX3'%(beta[0], beta[1], beta[2], beta[3]))"
   ]
  },
  {
   "cell_type": "code",
   "execution_count": 9,
   "id": "84fcda1b-3ee5-4650-8179-2b7724411d87",
   "metadata": {},
   "outputs": [
    {
     "name": "stdout",
     "output_type": "stream",
     "text": [
      "复相关系数R2 =  0.913\n"
     ]
    }
   ],
   "source": [
    "# 复相关系数（线性关系显著与否）\n",
    "ybar = y.mean()\n",
    "yhat = np.matmul(X, beta)\n",
    "SST = sum((y-ybar)**2)\n",
    "SSE = sum((y-yhat)**2)\n",
    "SSR = SST - SSE\n",
    "R2 = SSR/SST\n",
    "print('复相关系数R2 = ', round(R2, 3))"
   ]
  },
  {
   "cell_type": "code",
   "execution_count": 10,
   "id": "945aec94-b0a2-4a02-88d6-1b82f98f5b92",
   "metadata": {},
   "outputs": [
    {
     "data": {
      "text/html": [
       "<div>\n",
       "<style scoped>\n",
       "    .dataframe tbody tr th:only-of-type {\n",
       "        vertical-align: middle;\n",
       "    }\n",
       "\n",
       "    .dataframe tbody tr th {\n",
       "        vertical-align: top;\n",
       "    }\n",
       "\n",
       "    .dataframe thead th {\n",
       "        text-align: right;\n",
       "    }\n",
       "</style>\n",
       "<table border=\"1\" class=\"dataframe\">\n",
       "  <thead>\n",
       "    <tr style=\"text-align: right;\">\n",
       "      <th></th>\n",
       "      <th>自由度</th>\n",
       "      <th>平方和</th>\n",
       "      <th>均方</th>\n",
       "      <th>F值</th>\n",
       "      <th>p值</th>\n",
       "    </tr>\n",
       "  </thead>\n",
       "  <tbody>\n",
       "    <tr>\n",
       "      <th>回归</th>\n",
       "      <td>3</td>\n",
       "      <td>629.307112</td>\n",
       "      <td>209.769037</td>\n",
       "      <td>69.977959</td>\n",
       "      <td>8.802326e-11</td>\n",
       "    </tr>\n",
       "    <tr>\n",
       "      <th>误差</th>\n",
       "      <td>20</td>\n",
       "      <td>59.952888</td>\n",
       "      <td>2.997644</td>\n",
       "      <td>NaN</td>\n",
       "      <td>NaN</td>\n",
       "    </tr>\n",
       "    <tr>\n",
       "      <th>总和</th>\n",
       "      <td>23</td>\n",
       "      <td>689.260000</td>\n",
       "      <td>NaN</td>\n",
       "      <td>NaN</td>\n",
       "      <td>NaN</td>\n",
       "    </tr>\n",
       "  </tbody>\n",
       "</table>\n",
       "</div>"
      ],
      "text/plain": [
       "    自由度         平方和          均方         F值            p值\n",
       "回归    3  629.307112  209.769037  69.977959  8.802326e-11\n",
       "误差   20   59.952888    2.997644        NaN           NaN\n",
       "总和   23  689.260000         NaN        NaN           NaN"
      ]
     },
     "execution_count": 10,
     "metadata": {},
     "output_type": "execute_result"
    }
   ],
   "source": [
    "# 方差分析表相关数据\n",
    "df1 = 3 # 自由度1（回归）（p-1）\n",
    "df2 = n-4 # 自由度2（误差）（n-p）\n",
    "\n",
    "MSR = SSR / df1\n",
    "MSE = SSE / df2\n",
    "F0 = MSR/MSE\n",
    "\n",
    "p0 = 1 - stats.f.cdf(F0, df1, df2, loc=0, scale=1)\n",
    "\n",
    "da = [[df1, SSR, MSR, F0, p0], [df2, SSE, MSE], [n-1, SST]]\n",
    "df = pd.DataFrame(da)\n",
    "df.columns = ['自由度', '平方和', '均方', 'F值', 'p值']\n",
    "df.index = ['回归', '误差', '总和']  \n",
    "df"
   ]
  },
  {
   "cell_type": "code",
   "execution_count": 11,
   "id": "85dfe1ce-06b5-4bdf-9a14-2c5cb565ac6f",
   "metadata": {},
   "outputs": [
    {
     "data": {
      "text/html": [
       "<div>\n",
       "<style scoped>\n",
       "    .dataframe tbody tr th:only-of-type {\n",
       "        vertical-align: middle;\n",
       "    }\n",
       "\n",
       "    .dataframe tbody tr th {\n",
       "        vertical-align: top;\n",
       "    }\n",
       "\n",
       "    .dataframe thead th {\n",
       "        text-align: right;\n",
       "    }\n",
       "</style>\n",
       "<table border=\"1\" class=\"dataframe\">\n",
       "  <thead>\n",
       "    <tr style=\"text-align: right;\">\n",
       "      <th></th>\n",
       "      <th>参数估计值</th>\n",
       "      <th>标准差估计</th>\n",
       "      <th>统计量t</th>\n",
       "      <th>检验p值</th>\n",
       "    </tr>\n",
       "  </thead>\n",
       "  <tbody>\n",
       "    <tr>\n",
       "      <th>常数项</th>\n",
       "      <td>17.624925</td>\n",
       "      <td>1.998933</td>\n",
       "      <td>8.817168</td>\n",
       "      <td>5.971808e-08</td>\n",
       "    </tr>\n",
       "    <tr>\n",
       "      <th>x1</th>\n",
       "      <td>1.128117</td>\n",
       "      <td>0.325945</td>\n",
       "      <td>3.461062</td>\n",
       "      <td>2.787506e-03</td>\n",
       "    </tr>\n",
       "    <tr>\n",
       "      <th>x2</th>\n",
       "      <td>0.323269</td>\n",
       "      <td>0.036315</td>\n",
       "      <td>8.901788</td>\n",
       "      <td>5.184244e-08</td>\n",
       "    </tr>\n",
       "    <tr>\n",
       "      <th>x3</th>\n",
       "      <td>1.303430</td>\n",
       "      <td>0.293537</td>\n",
       "      <td>4.440433</td>\n",
       "      <td>3.159263e-04</td>\n",
       "    </tr>\n",
       "  </tbody>\n",
       "</table>\n",
       "</div>"
      ],
      "text/plain": [
       "         参数估计值     标准差估计      统计量t          检验p值\n",
       "常数项  17.624925  1.998933  8.817168  5.971808e-08\n",
       "x1    1.128117  0.325945  3.461062  2.787506e-03\n",
       "x2    0.323269  0.036315  8.901788  5.184244e-08\n",
       "x3    1.303430  0.293537  4.440433  3.159263e-04"
      ]
     },
     "execution_count": 11,
     "metadata": {},
     "output_type": "execute_result"
    }
   ],
   "source": [
    "# 参数估计（T）\n",
    "XTX = X_t@X\n",
    "XTX_inv = np.linalg.inv(XTX)\n",
    "beta = beta.reshape(4, 1)\n",
    "b = beta.flatten()\n",
    "\n",
    "# 标准差估计\n",
    "s = np.sqrt(MSE*np.diag(XTX_inv)).reshape(4, 1)\n",
    "s_ = s.flatten()\n",
    "\n",
    "# 统计量tk的观测值\n",
    "t0 = np.divide(beta, s)\n",
    "t0_ = t0.flatten()\n",
    "\n",
    "# 检验p值\n",
    "p0_t = 2*(1-stats.t.cdf(np.abs(t0), 18))\n",
    "p0_t_ = p0_t.flatten()\n",
    "\n",
    "l = [[b[i], s_[i], t0_[i], p0_t_[i]]for i in range(4)]\n",
    "L = pd.DataFrame(l)\n",
    "L.columns = ['参数估计值', '标准差估计', '统计量t', '检验p值']\n",
    "L.index = ['常数项', 'x1', 'x2', 'x3']\n",
    "L"
   ]
  },
  {
   "cell_type": "code",
   "execution_count": 12,
   "id": "a8f5423e-aa7f-4407-93e7-92792cc970e4",
   "metadata": {},
   "outputs": [
    {
     "name": "stdout",
     "output_type": "stream",
     "text": [
      "beta0: 13.4552 21.7946\n",
      "beta1: 0.4482 1.808\n",
      "beta2: 0.2475 0.399\n",
      "beta3: 0.6911 1.9157\n"
     ]
    }
   ],
   "source": [
    "alpha = 0.05\n",
    "q = 1 - alpha/2\n",
    "df = n-4\n",
    "t_percentile = stats.t.ppf(q, df, loc=0, scale=1)\n",
    "beta_left = (beta - np.multiply(t_percentile, s)).flatten()\n",
    "beta_right = (beta + np.multiply(t_percentile, s)).flatten()\n",
    "print('beta0:', round(beta_left[0], 4), round(beta_right[0], 4))\n",
    "print('beta1:', round(beta_left[1], 4), round(beta_right[1], 4))\n",
    "print('beta2:', round(beta_left[2], 4), round(beta_right[2], 4))\n",
    "print('beta3:', round(beta_left[3], 4), round(beta_right[3], 4))"
   ]
  },
  {
   "cell_type": "code",
   "execution_count": 13,
   "id": "af2cbfdf-02ff-418f-b8cf-4c57e537b330",
   "metadata": {},
   "outputs": [
    {
     "name": "stdout",
     "output_type": "stream",
     "text": [
      "y0_hat =  [35.16718443]\n",
      "置信度为95%的置信区间： 30.5659 39.7685\n"
     ]
    }
   ],
   "source": [
    "# 预测年工资，置信水平95%\n",
    "# Y = 17.6249 + 1.1281X1 + 0.3233X2 + 1.3034X3\n",
    "x0 = np.array([1, 1.5, 20, 7.2])\n",
    "y0_hat = np.matmul(x0, beta)\n",
    "temp = np.sqrt(MSE*(1+np.matmul(np.matmul(x0.T, XTX_inv), x0)))\n",
    "y0_left = y0_hat - t_percentile*temp\n",
    "y0_right = y0_hat + t_percentile*temp\n",
    "\n",
    "\n",
    "print('y0_hat = ', y0_hat)\n",
    "print('置信度为95%的置信区间：', round(y0_left[0], 4), round(y0_right[0], 4))"
   ]
  },
  {
   "cell_type": "code",
   "execution_count": 14,
   "id": "ff80b85d-afd3-4200-871c-faa8d14d7f37",
   "metadata": {},
   "outputs": [
    {
     "data": {
      "text/html": [
       "<table class=\"simpletable\">\n",
       "<caption>OLS Regression Results</caption>\n",
       "<tr>\n",
       "  <th>Dep. Variable:</th>            <td>y</td>        <th>  R-squared:         </th> <td>   0.913</td>\n",
       "</tr>\n",
       "<tr>\n",
       "  <th>Model:</th>                   <td>OLS</td>       <th>  Adj. R-squared:    </th> <td>   0.900</td>\n",
       "</tr>\n",
       "<tr>\n",
       "  <th>Method:</th>             <td>Least Squares</td>  <th>  F-statistic:       </th> <td>   69.98</td>\n",
       "</tr>\n",
       "<tr>\n",
       "  <th>Date:</th>             <td>Mon, 03 Mar 2025</td> <th>  Prob (F-statistic):</th> <td>8.80e-11</td>\n",
       "</tr>\n",
       "<tr>\n",
       "  <th>Time:</th>                 <td>09:37:39</td>     <th>  Log-Likelihood:    </th> <td> -45.041</td>\n",
       "</tr>\n",
       "<tr>\n",
       "  <th>No. Observations:</th>      <td>    24</td>      <th>  AIC:               </th> <td>   98.08</td>\n",
       "</tr>\n",
       "<tr>\n",
       "  <th>Df Residuals:</th>          <td>    20</td>      <th>  BIC:               </th> <td>   102.8</td>\n",
       "</tr>\n",
       "<tr>\n",
       "  <th>Df Model:</th>              <td>     3</td>      <th>                     </th>     <td> </td>   \n",
       "</tr>\n",
       "<tr>\n",
       "  <th>Covariance Type:</th>      <td>nonrobust</td>    <th>                     </th>     <td> </td>   \n",
       "</tr>\n",
       "</table>\n",
       "<table class=\"simpletable\">\n",
       "<tr>\n",
       "    <td></td>       <th>coef</th>     <th>std err</th>      <th>t</th>      <th>P>|t|</th>  <th>[0.025</th>    <th>0.975]</th>  \n",
       "</tr>\n",
       "<tr>\n",
       "  <th>const</th> <td>   17.6249</td> <td>    1.999</td> <td>    8.817</td> <td> 0.000</td> <td>   13.455</td> <td>   21.795</td>\n",
       "</tr>\n",
       "<tr>\n",
       "  <th>x1</th>    <td>    1.1281</td> <td>    0.326</td> <td>    3.461</td> <td> 0.002</td> <td>    0.448</td> <td>    1.808</td>\n",
       "</tr>\n",
       "<tr>\n",
       "  <th>x2</th>    <td>    0.3233</td> <td>    0.036</td> <td>    8.902</td> <td> 0.000</td> <td>    0.248</td> <td>    0.399</td>\n",
       "</tr>\n",
       "<tr>\n",
       "  <th>x3</th>    <td>    1.3034</td> <td>    0.294</td> <td>    4.440</td> <td> 0.000</td> <td>    0.691</td> <td>    1.916</td>\n",
       "</tr>\n",
       "</table>\n",
       "<table class=\"simpletable\">\n",
       "<tr>\n",
       "  <th>Omnibus:</th>       <td> 0.554</td> <th>  Durbin-Watson:     </th> <td>   2.383</td>\n",
       "</tr>\n",
       "<tr>\n",
       "  <th>Prob(Omnibus):</th> <td> 0.758</td> <th>  Jarque-Bera (JB):  </th> <td>   0.418</td>\n",
       "</tr>\n",
       "<tr>\n",
       "  <th>Skew:</th>          <td>-0.299</td> <th>  Prob(JB):          </th> <td>   0.811</td>\n",
       "</tr>\n",
       "<tr>\n",
       "  <th>Kurtosis:</th>      <td> 2.751</td> <th>  Cond. No.          </th> <td>    161.</td>\n",
       "</tr>\n",
       "</table><br/><br/>Notes:<br/>[1] Standard Errors assume that the covariance matrix of the errors is correctly specified."
      ],
      "text/latex": [
       "\\begin{center}\n",
       "\\begin{tabular}{lclc}\n",
       "\\toprule\n",
       "\\textbf{Dep. Variable:}    &        y         & \\textbf{  R-squared:         } &     0.913   \\\\\n",
       "\\textbf{Model:}            &       OLS        & \\textbf{  Adj. R-squared:    } &     0.900   \\\\\n",
       "\\textbf{Method:}           &  Least Squares   & \\textbf{  F-statistic:       } &     69.98   \\\\\n",
       "\\textbf{Date:}             & Mon, 03 Mar 2025 & \\textbf{  Prob (F-statistic):} &  8.80e-11   \\\\\n",
       "\\textbf{Time:}             &     09:37:39     & \\textbf{  Log-Likelihood:    } &   -45.041   \\\\\n",
       "\\textbf{No. Observations:} &          24      & \\textbf{  AIC:               } &     98.08   \\\\\n",
       "\\textbf{Df Residuals:}     &          20      & \\textbf{  BIC:               } &     102.8   \\\\\n",
       "\\textbf{Df Model:}         &           3      & \\textbf{                     } &             \\\\\n",
       "\\textbf{Covariance Type:}  &    nonrobust     & \\textbf{                     } &             \\\\\n",
       "\\bottomrule\n",
       "\\end{tabular}\n",
       "\\begin{tabular}{lcccccc}\n",
       "               & \\textbf{coef} & \\textbf{std err} & \\textbf{t} & \\textbf{P$> |$t$|$} & \\textbf{[0.025} & \\textbf{0.975]}  \\\\\n",
       "\\midrule\n",
       "\\textbf{const} &      17.6249  &        1.999     &     8.817  &         0.000        &       13.455    &       21.795     \\\\\n",
       "\\textbf{x1}    &       1.1281  &        0.326     &     3.461  &         0.002        &        0.448    &        1.808     \\\\\n",
       "\\textbf{x2}    &       0.3233  &        0.036     &     8.902  &         0.000        &        0.248    &        0.399     \\\\\n",
       "\\textbf{x3}    &       1.3034  &        0.294     &     4.440  &         0.000        &        0.691    &        1.916     \\\\\n",
       "\\bottomrule\n",
       "\\end{tabular}\n",
       "\\begin{tabular}{lclc}\n",
       "\\textbf{Omnibus:}       &  0.554 & \\textbf{  Durbin-Watson:     } &    2.383  \\\\\n",
       "\\textbf{Prob(Omnibus):} &  0.758 & \\textbf{  Jarque-Bera (JB):  } &    0.418  \\\\\n",
       "\\textbf{Skew:}          & -0.299 & \\textbf{  Prob(JB):          } &    0.811  \\\\\n",
       "\\textbf{Kurtosis:}      &  2.751 & \\textbf{  Cond. No.          } &     161.  \\\\\n",
       "\\bottomrule\n",
       "\\end{tabular}\n",
       "%\\caption{OLS Regression Results}\n",
       "\\end{center}\n",
       "\n",
       "Notes: \\newline\n",
       " [1] Standard Errors assume that the covariance matrix of the errors is correctly specified."
      ],
      "text/plain": [
       "<class 'statsmodels.iolib.summary.Summary'>\n",
       "\"\"\"\n",
       "                            OLS Regression Results                            \n",
       "==============================================================================\n",
       "Dep. Variable:                      y   R-squared:                       0.913\n",
       "Model:                            OLS   Adj. R-squared:                  0.900\n",
       "Method:                 Least Squares   F-statistic:                     69.98\n",
       "Date:                Mon, 03 Mar 2025   Prob (F-statistic):           8.80e-11\n",
       "Time:                        09:37:39   Log-Likelihood:                -45.041\n",
       "No. Observations:                  24   AIC:                             98.08\n",
       "Df Residuals:                      20   BIC:                             102.8\n",
       "Df Model:                           3                                         \n",
       "Covariance Type:            nonrobust                                         \n",
       "==============================================================================\n",
       "                 coef    std err          t      P>|t|      [0.025      0.975]\n",
       "------------------------------------------------------------------------------\n",
       "const         17.6249      1.999      8.817      0.000      13.455      21.795\n",
       "x1             1.1281      0.326      3.461      0.002       0.448       1.808\n",
       "x2             0.3233      0.036      8.902      0.000       0.248       0.399\n",
       "x3             1.3034      0.294      4.440      0.000       0.691       1.916\n",
       "==============================================================================\n",
       "Omnibus:                        0.554   Durbin-Watson:                   2.383\n",
       "Prob(Omnibus):                  0.758   Jarque-Bera (JB):                0.418\n",
       "Skew:                          -0.299   Prob(JB):                        0.811\n",
       "Kurtosis:                       2.751   Cond. No.                         161.\n",
       "==============================================================================\n",
       "\n",
       "Notes:\n",
       "[1] Standard Errors assume that the covariance matrix of the errors is correctly specified.\n",
       "\"\"\""
      ]
     },
     "execution_count": 14,
     "metadata": {},
     "output_type": "execute_result"
    }
   ],
   "source": [
    "# 自编程结果：Y = 17.6249 + 1.1281X1 + 0.3233X2 + 1.3034X3\n",
    "# 以下调用第三方库\n",
    "import statsmodels.api as sm\n",
    "\n",
    "# 设计矩阵\n",
    "X = data[['x1', 'x2', 'x3']].values\n",
    "X = sm.add_constant(X)\n",
    "Y = data['y'].values\n",
    "\n",
    "\n",
    "model = sm.OLS(Y, X)\n",
    "results = model.fit()\n",
    "results.summary()"
   ]
  },
  {
   "cell_type": "code",
   "execution_count": 15,
   "id": "004b35ce-dcc0-4997-a861-ae436499505e",
   "metadata": {},
   "outputs": [
    {
     "data": {
      "text/plain": [
       "array([39.22840569])"
      ]
     },
     "execution_count": 15,
     "metadata": {},
     "output_type": "execute_result"
    }
   ],
   "source": [
    "# 预测\n",
    "x0 = np.array([1, 5.1, 20, 7.2])\n",
    "y0_hat = results.predict(x0)\n",
    "y0_hat"
   ]
  },
  {
   "cell_type": "code",
   "execution_count": 16,
   "id": "c0536b49-f084-4d38-9171-21d453b05300",
   "metadata": {},
   "outputs": [
    {
     "data": {
      "text/plain": [
       "array([17.62492547,  1.12811702,  0.32326938,  1.30342999])"
      ]
     },
     "execution_count": 16,
     "metadata": {},
     "output_type": "execute_result"
    }
   ],
   "source": [
    "# 自编程结果：Y = 17.6249 + 1.1281X1 + 0.3233X2 + 1.3034X3\n",
    "# 回归系数的估计值\n",
    "results.params"
   ]
  },
  {
   "cell_type": "code",
   "execution_count": 17,
   "id": "d4412b4d-7d98-4002-97d9-0285c10b48bb",
   "metadata": {},
   "outputs": [
    {
     "data": {
      "text/plain": [
       "8.802323262819354e-11"
      ]
     },
     "execution_count": 17,
     "metadata": {},
     "output_type": "execute_result"
    }
   ],
   "source": [
    "# 线性回归关系的显著性检验\n",
    "results.f_pvalue"
   ]
  },
  {
   "cell_type": "code",
   "execution_count": 18,
   "id": "594f695b-5b4e-4a4e-b0a5-3b9cf50a9589",
   "metadata": {},
   "outputs": [
    {
     "data": {
      "text/plain": [
       "array([8.81716833, 3.46106152, 8.90178824, 4.44043283])"
      ]
     },
     "execution_count": 18,
     "metadata": {},
     "output_type": "execute_result"
    }
   ],
   "source": [
    "# 回归系数的统计推断\n",
    "results.tvalues"
   ]
  },
  {
   "cell_type": "markdown",
   "id": "a498276a-8a7c-46c3-a228-8bd7cf564710",
   "metadata": {},
   "source": [
    "# 例2.4"
   ]
  },
  {
   "cell_type": "code",
   "execution_count": 19,
   "id": "f527c89c-779b-4b95-b08d-5b8af8533c44",
   "metadata": {},
   "outputs": [
    {
     "data": {
      "text/html": [
       "<div>\n",
       "<style scoped>\n",
       "    .dataframe tbody tr th:only-of-type {\n",
       "        vertical-align: middle;\n",
       "    }\n",
       "\n",
       "    .dataframe tbody tr th {\n",
       "        vertical-align: top;\n",
       "    }\n",
       "\n",
       "    .dataframe thead th {\n",
       "        text-align: right;\n",
       "    }\n",
       "</style>\n",
       "<table border=\"1\" class=\"dataframe\">\n",
       "  <thead>\n",
       "    <tr style=\"text-align: right;\">\n",
       "      <th></th>\n",
       "      <th>y</th>\n",
       "      <th>x1</th>\n",
       "      <th>x2</th>\n",
       "      <th>x3</th>\n",
       "    </tr>\n",
       "  </thead>\n",
       "  <tbody>\n",
       "    <tr>\n",
       "      <th>0</th>\n",
       "      <td>33.2</td>\n",
       "      <td>3.5</td>\n",
       "      <td>9</td>\n",
       "      <td>6.1</td>\n",
       "    </tr>\n",
       "    <tr>\n",
       "      <th>1</th>\n",
       "      <td>40.3</td>\n",
       "      <td>5.3</td>\n",
       "      <td>20</td>\n",
       "      <td>6.4</td>\n",
       "    </tr>\n",
       "    <tr>\n",
       "      <th>2</th>\n",
       "      <td>38.7</td>\n",
       "      <td>5.1</td>\n",
       "      <td>18</td>\n",
       "      <td>7.4</td>\n",
       "    </tr>\n",
       "    <tr>\n",
       "      <th>3</th>\n",
       "      <td>46.8</td>\n",
       "      <td>5.8</td>\n",
       "      <td>33</td>\n",
       "      <td>6.7</td>\n",
       "    </tr>\n",
       "    <tr>\n",
       "      <th>4</th>\n",
       "      <td>41.4</td>\n",
       "      <td>4.2</td>\n",
       "      <td>31</td>\n",
       "      <td>7.5</td>\n",
       "    </tr>\n",
       "  </tbody>\n",
       "</table>\n",
       "</div>"
      ],
      "text/plain": [
       "      y   x1  x2   x3\n",
       "0  33.2  3.5   9  6.1\n",
       "1  40.3  5.3  20  6.4\n",
       "2  38.7  5.1  18  7.4\n",
       "3  46.8  5.8  33  6.7\n",
       "4  41.4  4.2  31  7.5"
      ]
     },
     "execution_count": 19,
     "metadata": {},
     "output_type": "execute_result"
    }
   ],
   "source": [
    "filename = 'eg2d3data.xls'\n",
    "data = pd.read_excel(filename)\n",
    "data.head()"
   ]
  },
  {
   "cell_type": "code",
   "execution_count": 20,
   "id": "3a364d9e-1fc9-42e7-a60f-d88ea9f74cd4",
   "metadata": {},
   "outputs": [
    {
     "name": "stdout",
     "output_type": "stream",
     "text": [
      "回归系数： [17.65977534  1.22327452  0.32081584]\n",
      "简约模型为：Y = 17.6598 + 1.2233(X1+X3) + 0.3208X2\n"
     ]
    }
   ],
   "source": [
    "# 简约模型\n",
    "y_r = data['y'].values\n",
    "x1_r = data['x1'].values\n",
    "x2_r = data['x2'].values\n",
    "x3_r = data['x3'].values\n",
    "z_r = x1 + x3\n",
    "\n",
    "# 设计矩阵\n",
    "n = len(x1_r)\n",
    "X_r = np.ones((n, 3))\n",
    "X_r[:, 1] = z_r\n",
    "X_r[:, 2] = x2_r\n",
    "Y_r = y_r\n",
    "\n",
    "\n",
    "# 正规方程\n",
    "X_r_t = X_r.T\n",
    "beta_r = np.linalg.inv(X_r_t @ X_r) @ X_r_t @ Y_r\n",
    "\n",
    "# 回归系数\n",
    "print('回归系数：', beta_r)\n",
    "print('简约模型为：Y = %.4f + %.4f(X1+X3) + %.4fX2'%tuple(beta_r))"
   ]
  },
  {
   "cell_type": "code",
   "execution_count": 21,
   "id": "19b65833-d6e9-460f-b0a1-268482b1e7f9",
   "metadata": {},
   "outputs": [],
   "source": [
    "# 简约模型SSE、自由度\n",
    "ybar = y.mean()\n",
    "yhat_r = np.matmul(X_r, beta_r)\n",
    "\n",
    "SSE_r = sum((Y_r - yhat_r)**2)\n",
    "\n",
    "df_r = len(Y_r) - 3"
   ]
  },
  {
   "cell_type": "code",
   "execution_count": 22,
   "id": "e0c1646d-bdbc-4677-a12b-cb5c21d0811e",
   "metadata": {},
   "outputs": [
    {
     "name": "stdout",
     "output_type": "stream",
     "text": [
      "回归系数 (beta): [17.62492547  1.12811702  0.32326938  1.30342999]\n",
      "全模型为：Y = 17.6249 + 1.1281X1 + 0.3233X2 + 1.3034X3\n"
     ]
    }
   ],
   "source": [
    "# 全模型\n",
    "\n",
    "y_f = data['y']\n",
    "x_f = data[['x1', 'x2', 'x3']]\n",
    "\n",
    "# X、Y矩阵\n",
    "n = len(x)\n",
    "X_f = np.ones((n, 4))\n",
    "X_f[:, 1:] = x.values\n",
    "Y_f = y.values\n",
    "\n",
    "# 正规方程：beta = (X^T X)^(-1) X^T Y\n",
    "X_f_t = X_f.T\n",
    "beta_f = np.linalg.inv(X_f_t @ X_f) @ X_f_t @ Y_f\n",
    "\n",
    "# 输出回归系数\n",
    "print(\"回归系数 (beta):\", beta_f)\n",
    "print('全模型为：Y = %.4f + %.4fX1 + %.4fX2 + %.4fX3'%tuple(beta_f))"
   ]
  },
  {
   "cell_type": "code",
   "execution_count": 23,
   "id": "d4c55bbe-700f-416b-a4f4-4ca7c66ac1f0",
   "metadata": {},
   "outputs": [],
   "source": [
    "# 全模型SSE、自由度数据\n",
    "ybar = y.mean()\n",
    "yhat_f = np.matmul(X_f, beta_f)\n",
    "\n",
    "SSE_f = sum((Y_f - yhat_f)**2)\n",
    "\n",
    "df_f = len(Y_f) - 4"
   ]
  },
  {
   "cell_type": "code",
   "execution_count": 24,
   "id": "5c75678b-ec5c-4f1c-bfc9-125ffe6dde31",
   "metadata": {},
   "outputs": [
    {
     "name": "stdout",
     "output_type": "stream",
     "text": [
      "0.131 0.7212\n"
     ]
    }
   ],
   "source": [
    "# 进行显著性检验\n",
    "\n",
    "# 检验统计量\n",
    "F = ((SSE_r - SSE_f)/(df_r - df_f)) / (SSE_f/df_f) \n",
    "\n",
    "# p值\n",
    "p0 = 1 - stats.f.cdf(F, df_r-df_f, df_f, loc=0, scale=1)\n",
    "print(round(F, 4), round(p0, 4))"
   ]
  },
  {
   "cell_type": "markdown",
   "id": "66f72f12-74e3-463a-9c7e-4dadc0008eec",
   "metadata": {},
   "source": [
    "可见检验的p值约为0.9857，这个值是比较大的。  \n",
    "但是否接受原假设$H_0$(认为回归关系可用简约模型描述)，仍然取决于显著性水平$\\alpha$的设置。  \n",
    "> 若$p_0<\\alpha$，拒绝$H_0$；  \n",
    "> 若$p_0\\geqslant \\alpha$，不拒绝$H_0$"
   ]
  },
  {
   "cell_type": "code",
   "execution_count": 25,
   "id": "c7e741fd-f198-4ddd-9854-b2ea702cd9af",
   "metadata": {},
   "outputs": [
    {
     "name": "stdout",
     "output_type": "stream",
     "text": [
      "回归系数 (beta): [ 2.64781807e+01  1.16057667e+00 -2.23714491e-02 -8.10410559e-02\n",
      "  5.75153811e-03 -1.49731480e-02  4.95143251e-02]\n",
      "全模型为：Y = 26.4782 + 1.1606X1 + -0.0224X2 + -0.0810X3 + 0.0058X1X2 + -0.0150X1X3 + 0.0495X2X3\n"
     ]
    }
   ],
   "source": [
    "\n",
    "y_f_ = data['y']\n",
    "x_f_ = data[['x1', 'x2', 'x3']]\n",
    "x1 = data['x1'].values\n",
    "x2 = data['x2'].values\n",
    "x3 = data['x3'].values\n",
    "x1x2 = np.multiply(x1, x2)\n",
    "x1x3 = np.multiply(x1, x3)\n",
    "x2x3 = np.multiply(x2, x3)\n",
    "\n",
    "# X、Y矩阵\n",
    "n = len(x)\n",
    "X_f_ = np.ones((n, 4+3))\n",
    "X_f_[:, 1:-3] = x.values\n",
    "X_f_[:, -3] = x1x2\n",
    "X_f_[:, -2] = x1x3\n",
    "X_f_[:, -1] = x2x3\n",
    "Y_f_ = y.values\n",
    "\n",
    "\n",
    "# 正规方程：beta = (X^T X)^(-1) X^T Y\n",
    "X_f__t = X_f_.T\n",
    "beta_f_ = np.linalg.inv(X_f__t @ X_f_) @ X_f__t @ Y_f_\n",
    "\n",
    "# 输出回归系数\n",
    "print(\"回归系数 (beta):\", beta_f_)\n",
    "print('全模型为：Y = %.4f + %.4fX1 + %.4fX2 + %.4fX3 + %.4fX1X2 + %.4fX1X3 + %.4fX2X3'%tuple(beta_f_))"
   ]
  },
  {
   "cell_type": "code",
   "execution_count": 26,
   "id": "b835167c-64f2-4c54-87b2-e1992de6c86a",
   "metadata": {},
   "outputs": [],
   "source": [
    "# 全模型及自由度\n",
    "yhat_f_ = np.matmul(X_f_, beta_f_)\n",
    "SSE_f_ = sum((Y_f_ - yhat_f_)**2)\n",
    "\n",
    "df_f_ = len(Y_f_) - 7\n"
   ]
  },
  {
   "cell_type": "code",
   "execution_count": 27,
   "id": "729580bd-36ca-4a8d-9ff7-9e1c75287c96",
   "metadata": {},
   "outputs": [
    {
     "name": "stdout",
     "output_type": "stream",
     "text": [
      "0.7647974820845006 0.5293241801293289\n"
     ]
    }
   ],
   "source": [
    "# 检验统计量F及p值\n",
    "F_ = ((SSE_f  -SSE_f_)/(df_f - df_f_)) / (SSE_f_/df_f_)\n",
    "p0_ = 1 - stats.f.cdf(F_, df_f-df_f_, df_f_, loc=0, scale=1)\n",
    "\n",
    "print(F_, p0_)"
   ]
  },
  {
   "cell_type": "markdown",
   "id": "4366872b-e5cb-4fd7-9366-40084c08b7bb",
   "metadata": {},
   "source": [
    "## 1、$\\beta$的最小二乘估计及是否为无偏估计\n",
    "### （1）最小二乘估计\n",
    "令误差项的平方和达到最小，以此来求$\\beta$的最小二乘估计\n",
    "> 求解目标为：min $S(\\beta) = \\sum_{i=1}^n{(y_i- \\hat{\\beta}x_i)^2}$  \n",
    "> 对目标函数$\\beta$求导并令导数等于零，即得:  \n",
    "> > $ \\frac{\\partial S(\\beta)}{\\partial \\beta} = \\sum_{i=1}^n{-2x_i(y_i-\\hat{\\beta}x_i)}=0$\n",
    "> > \n",
    "> > $ \\sum_{i=1}^n{-2x_i y_i + 2\\beta x_i^2} = 0$\n",
    "> > \n",
    "> > $ \\sum_{i=1}^n{x_i^2 \\beta}=\\sum_{i=1}^n{x_i y_i}$\n",
    "> > \n",
    "> > 可以写成矩阵形式（事实上只有一维），即：\n",
    "> > \n",
    "> > $ X^T X \\beta = X^T Y$\n",
    "> >\n",
    "> > **因此可得$\\beta$的最小二乘估计为：**\n",
    "> >\n",
    "> > **$ \\hat{\\beta} = \\frac{\\sum_{i=1}^n{x_i y_i}}{\\sum_{i=1}^n{x_i^2}} = (X^T X)^{-1}X^T Y$**\n",
    "> >\n",
    "> > 即$\\hat{Y} = \\hat{\\beta}X$\n",
    "\n",
    "### （2）检验是否无偏  \n",
    "无偏估计即估计量的期望等于被估计量的真实值，依题目可知，在这个线性回归模型中有$ E(Y) = X\\beta$,则有如下计算：  \n",
    "> $ E(\\hat{\\beta}) = E((X^T X)^{-1}X^T Y) = (X^T X)^{-1}X^T E(Y) = (X^T X)^{-1}X^T X\\beta = \\beta$\n",
    "> \n",
    "> **因此，$ \\hat{\\beta}$  是  $\\beta$的无偏估计**"
   ]
  },
  {
   "cell_type": "markdown",
   "id": "5925ef12-2bb4-42b1-b243-1e1081a24d76",
   "metadata": {},
   "source": [
    "## 2、误差方差$\\sigma^2$的无偏估计\n",
    "构造残差向量：$\\hat{\\varepsilon} = Y-\\hat{Y}$  \n",
    "> 其中，有第1问中推出的信息可知：\n",
    "> \n",
    "> $\\hat{\\varepsilon} = Y - X\\hat{\\beta} = Y - X(X^T X)^{-1} X^T Y$\n",
    ">\n",
    "> 令$H = X(X^T X)^{-1} X^T$，则有：\n",
    ">\n",
    "> $\\hat{\\varepsilon} = Y - HY = (I-H)Y = (I-H)(X\\beta+\\varepsilon)$\n",
    ">  \n",
    "> 显然有$HX = X(X^T X)^{-1} X^T X = X$，即$ (I-H)X=0$  \n",
    ">\n",
    "> 得：\n",
    ">\n",
    "> $\\hat{\\varepsilon} = (I-H)\\varepsilon$，且有$(I-H)$对称幂等\n",
    "> \n",
    "则有残差平方和：  \n",
    "> $ SSE = \\sum_{i=1}^n{(y_i-\\hat{y_i})^2} = \\hat{\\varepsilon}^T{\\varepsilon} = ((I-H)\\varepsilon)^T((I-H)\\varepsilon) = \\varepsilon^T(I-H)\\varepsilon$\n",
    ">\n",
    "> 可以计算期望：\n",
    ">\n",
    "> $E(SSE) = E(\\varepsilon^T(I-H)\\varepsilon) = E(tr[\\varepsilon^T(I-H)\\varepsilon]) = E(tr[(I-H)\\varepsilon\\varepsilon^T]) = tr[(I-H)E(\\varepsilon\\varepsilon^T)]$\n",
    ">\n",
    "> 即得：\n",
    ">\n",
    "> $E(SSE) = \\sigma^2 tr[I-H] = \\sigma^2 (n-1)$\n",
    ">\n",
    "> 得：\n",
    ">\n",
    "> **$\\hat{\\sigma}^2 = \\frac{SSE}{n-1} = \\frac{\\sum_{i=1}^n{(y_i-\\hat{y_i})^2}}{n-1}$为$\\sigma^2$的无偏估计**"
   ]
  },
  {
   "cell_type": "markdown",
   "id": "23ae4ac9-54ba-4bd9-99ff-8e22d2a911db",
   "metadata": {},
   "source": [
    "# 2.4"
   ]
  },
  {
   "cell_type": "code",
   "execution_count": 28,
   "id": "4b8896c6-4136-47cd-8d28-eba7cefacfc1",
   "metadata": {},
   "outputs": [
    {
     "data": {
      "text/html": [
       "<div>\n",
       "<style scoped>\n",
       "    .dataframe tbody tr th:only-of-type {\n",
       "        vertical-align: middle;\n",
       "    }\n",
       "\n",
       "    .dataframe tbody tr th {\n",
       "        vertical-align: top;\n",
       "    }\n",
       "\n",
       "    .dataframe thead th {\n",
       "        text-align: right;\n",
       "    }\n",
       "</style>\n",
       "<table border=\"1\" class=\"dataframe\">\n",
       "  <thead>\n",
       "    <tr style=\"text-align: right;\">\n",
       "      <th></th>\n",
       "      <th>y</th>\n",
       "      <th>x1</th>\n",
       "      <th>x2</th>\n",
       "    </tr>\n",
       "  </thead>\n",
       "  <tbody>\n",
       "    <tr>\n",
       "      <th>0</th>\n",
       "      <td>162</td>\n",
       "      <td>274</td>\n",
       "      <td>2450</td>\n",
       "    </tr>\n",
       "    <tr>\n",
       "      <th>1</th>\n",
       "      <td>120</td>\n",
       "      <td>180</td>\n",
       "      <td>3254</td>\n",
       "    </tr>\n",
       "    <tr>\n",
       "      <th>2</th>\n",
       "      <td>223</td>\n",
       "      <td>375</td>\n",
       "      <td>3802</td>\n",
       "    </tr>\n",
       "    <tr>\n",
       "      <th>3</th>\n",
       "      <td>131</td>\n",
       "      <td>205</td>\n",
       "      <td>2838</td>\n",
       "    </tr>\n",
       "    <tr>\n",
       "      <th>4</th>\n",
       "      <td>67</td>\n",
       "      <td>86</td>\n",
       "      <td>2347</td>\n",
       "    </tr>\n",
       "  </tbody>\n",
       "</table>\n",
       "</div>"
      ],
      "text/plain": [
       "     y   x1    x2\n",
       "0  162  274  2450\n",
       "1  120  180  3254\n",
       "2  223  375  3802\n",
       "3  131  205  2838\n",
       "4   67   86  2347"
      ]
     },
     "execution_count": 28,
     "metadata": {},
     "output_type": "execute_result"
    }
   ],
   "source": [
    "filename = 'ex2_4data.xls'\n",
    "data = pd.read_excel(filename, header=None)\n",
    "data.columns=['y', 'x1', 'x2']\n",
    "data.head()"
   ]
  },
  {
   "cell_type": "markdown",
   "id": "fd98595d-1c2a-4137-ba57-84c7b4465979",
   "metadata": {},
   "source": [
    "## 1、（1）回归系数的最小二乘估计"
   ]
  },
  {
   "cell_type": "code",
   "execution_count": 29,
   "id": "b8d0a1a4-f983-497b-ab2e-57e774f851ae",
   "metadata": {},
   "outputs": [
    {
     "name": "stdout",
     "output_type": "stream",
     "text": [
      "回归系数： [3.45261279 0.49600498 0.00919908]\n",
      "回归方程：Y = 3.4526 + 0.4960 X1 + 0.0092 X2\n"
     ]
    }
   ],
   "source": [
    "# X、Y矩阵\n",
    "Y = data['y'].values\n",
    "n = len(Y)\n",
    "x = data[['x1', 'x2']]\n",
    "X = np.hstack((np.ones((n, 1)), x.values))\n",
    "\n",
    "# 正规方程\n",
    "X_t = X.T\n",
    "beta = np.linalg.inv(X_t @ X) @ X_t @ Y\n",
    "print('回归系数：', beta)\n",
    "print('回归方程：Y = %.4f + %.4f X1 + %.4f X2'%tuple(beta))"
   ]
  },
  {
   "cell_type": "markdown",
   "id": "69a15e7d-05c7-4545-af44-c6a6ec36582e",
   "metadata": {},
   "source": [
    "## 1、（2）误差方差$\\sigma^2$的估计"
   ]
  },
  {
   "cell_type": "code",
   "execution_count": 30,
   "id": "94225840-c110-4b8b-af53-9bce36707c94",
   "metadata": {},
   "outputs": [
    {
     "name": "stdout",
     "output_type": "stream",
     "text": [
      "误差方差s2的估计为： 4.7403\n"
     ]
    }
   ],
   "source": [
    "y_hat = np.matmul(X, beta)\n",
    "SSE = sum((Y-y_hat)**2)\n",
    "\n",
    "n = len(Y)\n",
    "p = 3\n",
    "\n",
    "s2 = SSE/(n-p)\n",
    "print('误差方差s2的估计为：', round(s2,4)) "
   ]
  },
  {
   "cell_type": "markdown",
   "id": "435c5e0b-bc66-4ed9-b1ce-12a701711b2c",
   "metadata": {},
   "source": [
    "## 2、（1）方差分析表"
   ]
  },
  {
   "cell_type": "code",
   "execution_count": 31,
   "id": "db56486f-b857-4bc3-badd-582059a54c80",
   "metadata": {},
   "outputs": [
    {
     "data": {
      "text/html": [
       "<div>\n",
       "<style scoped>\n",
       "    .dataframe tbody tr th:only-of-type {\n",
       "        vertical-align: middle;\n",
       "    }\n",
       "\n",
       "    .dataframe tbody tr th {\n",
       "        vertical-align: top;\n",
       "    }\n",
       "\n",
       "    .dataframe thead th {\n",
       "        text-align: right;\n",
       "    }\n",
       "</style>\n",
       "<table border=\"1\" class=\"dataframe\">\n",
       "  <thead>\n",
       "    <tr style=\"text-align: right;\">\n",
       "      <th></th>\n",
       "      <th>方差来源</th>\n",
       "      <th>自由度</th>\n",
       "      <th>平方和</th>\n",
       "      <th>均方</th>\n",
       "      <th>F值</th>\n",
       "      <th>p值</th>\n",
       "    </tr>\n",
       "  </thead>\n",
       "  <tbody>\n",
       "    <tr>\n",
       "      <th>0</th>\n",
       "      <td>回归</td>\n",
       "      <td>2</td>\n",
       "      <td>53844.716434</td>\n",
       "      <td>26922.358217</td>\n",
       "      <td>5679.466388</td>\n",
       "      <td>1.110223e-16</td>\n",
       "    </tr>\n",
       "    <tr>\n",
       "      <th>1</th>\n",
       "      <td>误差</td>\n",
       "      <td>12</td>\n",
       "      <td>56.883566</td>\n",
       "      <td>4.740297</td>\n",
       "      <td>NaN</td>\n",
       "      <td>NaN</td>\n",
       "    </tr>\n",
       "    <tr>\n",
       "      <th>2</th>\n",
       "      <td>总和</td>\n",
       "      <td>14</td>\n",
       "      <td>53901.600000</td>\n",
       "      <td>NaN</td>\n",
       "      <td>NaN</td>\n",
       "      <td>NaN</td>\n",
       "    </tr>\n",
       "  </tbody>\n",
       "</table>\n",
       "</div>"
      ],
      "text/plain": [
       "  方差来源  自由度           平方和            均方           F值            p值\n",
       "0   回归    2  53844.716434  26922.358217  5679.466388  1.110223e-16\n",
       "1   误差   12     56.883566      4.740297          NaN           NaN\n",
       "2   总和   14  53901.600000           NaN          NaN           NaN"
      ]
     },
     "execution_count": 31,
     "metadata": {},
     "output_type": "execute_result"
    }
   ],
   "source": [
    "y_bar = Y.mean()\n",
    "y_hat = np.matmul(X, beta)\n",
    "\n",
    "# 方差来源：回归\n",
    "df1 = 3 - 1\n",
    "SSE = sum((Y-y_hat)**2)\n",
    "SST = sum((Y-y_bar)**2)\n",
    "SSR = SST - SSE\n",
    "MSR = SSR/df1\n",
    "\n",
    "# 方差来源：误差\n",
    "df2 = len(Y) - 3\n",
    "MSE = SSE/df2\n",
    "\n",
    "# F、p0\n",
    "F = MSR / MSE\n",
    "p0 = 1 - stats.f.cdf(F, df1, df2, loc=0, scale=1)\n",
    "\n",
    "List = [['回归', df1, SSR, MSR, F, p0], ['误差', df2, SSE, MSE], ['总和', len(Y)-1, SST]]\n",
    "df = pd.DataFrame(List)\n",
    "df.columns=['方差来源', '自由度', '平方和', '均方', 'F值', 'p值']\n",
    "df"
   ]
  },
  {
   "cell_type": "markdown",
   "id": "1eccd731-f9da-4e0e-8b6e-ccb09447f546",
   "metadata": {},
   "source": [
    "## 2、（3）对回归关系的显著性检验及复相关系数"
   ]
  },
  {
   "cell_type": "code",
   "execution_count": 32,
   "id": "15a375bb-7eb2-48bb-a05a-85829a1c28ef",
   "metadata": {},
   "outputs": [
    {
     "name": "stdout",
     "output_type": "stream",
     "text": [
      "复相关系数为： 0.9989\n"
     ]
    }
   ],
   "source": [
    "R2 = 1 - SSE/SST\n",
    "print('复相关系数为：', round(R2, 4))"
   ]
  },
  {
   "cell_type": "markdown",
   "id": "651b5c27-bc2f-42db-ba98-a3ee170b1347",
   "metadata": {},
   "source": [
    "上述计算过程中运用的公式如下：  \n",
    "> $SST=\\sum_{i=1}^n{(y_i-\\overline{y})^2}$  \n",
    ">\n",
    "> $SSE=\\sum_{i=1}^n{(y_i-\\hat{y_i})^2}$  \n",
    ">\n",
    "> $SSR=\\sum_{i=1}^n{(\\hat{y_i}-\\overline{y})^2}$  \n",
    ">\n",
    "> $SST = SSE+SSR$\n",
    ">\n",
    "> SSE是残差平方和，反映的是除了拟合值$\\beta_i$以外的其他因素引起的变化\n",
    "> \n",
    "> SSR是回归平方和，反映了自变量的线性函数在各组观测值处取值的离差平方和\n",
    "> \n",
    "> SST即总离差平方和，SSR越大，线性函数观测值（拟合系数线性组合）所能描述的SST的比例越大,即$Y与X_i$之间的线性关系越显著\n",
    "> \n",
    "> 因此，利用复相关系数$R^2 = \\frac{SSR}{SST} = 1-\\frac{SSE}{SST}$来衡量回归模型的拟合优度，$R^2$愈大，$Y与X_i$的线性关系越显著  \n",
    "\n",
    "上述计算结果$R^2\\approx0.9989$，认为$Y与X_1、X_2$之间的线性关系显著"
   ]
  },
  {
   "cell_type": "markdown",
   "id": "21dd3c0d-2be1-4fbf-b413-2e5f53337448",
   "metadata": {},
   "source": [
    "## 3、$\\beta_1和\\beta_2$置信度为95%的置信区间"
   ]
  },
  {
   "cell_type": "code",
   "execution_count": 33,
   "id": "f2426ee6-1e0a-40b9-ac36-e0926ce86e91",
   "metadata": {},
   "outputs": [
    {
     "name": "stdout",
     "output_type": "stream",
     "text": [
      "beta： [3.45261279 0.49600498 0.00919908]\n",
      "beta0： -1.6176 8.5229\n",
      "beta1： 0.4834 0.5086\n",
      "beta2： 0.0072 0.0112\n"
     ]
    }
   ],
   "source": [
    "# 标准差的估计\n",
    "XTX = X_t @ X\n",
    "XTX_inv = np.linalg.inv(XTX)\n",
    "beta = beta.reshape(3, 1)\n",
    "s = np.sqrt(MSE*np.diag(XTX_inv)).reshape(3, 1)\n",
    "\n",
    "alpha = 0.05\n",
    "q = 1 - alpha/2\n",
    "df = len(Y) - 3\n",
    "t_percnetile = stats.t.ppf(q, df, loc=0, scale=1)\n",
    "beta_left = (beta - np.multiply(t_percentile, s)).flatten()\n",
    "beta_right = (beta + np.multiply(t_percentile, s)).flatten()\n",
    "print('beta：',beta.flatten())\n",
    "print('beta0：', round(beta_left[0], 4), round(beta_right[0], 4))\n",
    "print('beta1：', round(beta_left[1], 4), round(beta_right[1], 4))\n",
    "print('beta2：', round(beta_left[2], 4), round(beta_right[2], 4))"
   ]
  },
  {
   "cell_type": "markdown",
   "id": "c89864ee-5f23-4fe3-a3cb-d2fc18df2d9d",
   "metadata": {},
   "source": [
    "## 4、（1）检验人数和收入对销量的影响"
   ]
  },
  {
   "cell_type": "code",
   "execution_count": 34,
   "id": "5e09e35f-0896-4733-8bd1-21ad6b6920f6",
   "metadata": {},
   "outputs": [
    {
     "data": {
      "text/html": [
       "<div>\n",
       "<style scoped>\n",
       "    .dataframe tbody tr th:only-of-type {\n",
       "        vertical-align: middle;\n",
       "    }\n",
       "\n",
       "    .dataframe tbody tr th {\n",
       "        vertical-align: top;\n",
       "    }\n",
       "\n",
       "    .dataframe thead th {\n",
       "        text-align: right;\n",
       "    }\n",
       "</style>\n",
       "<table border=\"1\" class=\"dataframe\">\n",
       "  <thead>\n",
       "    <tr style=\"text-align: right;\">\n",
       "      <th></th>\n",
       "      <th>参数估计值</th>\n",
       "      <th>标准差估计</th>\n",
       "      <th>统计量的值</th>\n",
       "      <th>检验p值</th>\n",
       "    </tr>\n",
       "  </thead>\n",
       "  <tbody>\n",
       "    <tr>\n",
       "      <th>常数项</th>\n",
       "      <td>3.452613</td>\n",
       "      <td>2.430650</td>\n",
       "      <td>1.420448</td>\n",
       "      <td>1.809353e-01</td>\n",
       "    </tr>\n",
       "    <tr>\n",
       "      <th>X1</th>\n",
       "      <td>0.496005</td>\n",
       "      <td>0.006054</td>\n",
       "      <td>81.924155</td>\n",
       "      <td>0.000000e+00</td>\n",
       "    </tr>\n",
       "    <tr>\n",
       "      <th>X2</th>\n",
       "      <td>0.009199</td>\n",
       "      <td>0.000968</td>\n",
       "      <td>9.502065</td>\n",
       "      <td>6.201181e-07</td>\n",
       "    </tr>\n",
       "  </tbody>\n",
       "</table>\n",
       "</div>"
      ],
      "text/plain": [
       "        参数估计值     标准差估计      统计量的值          检验p值\n",
       "常数项  3.452613  2.430650   1.420448  1.809353e-01\n",
       "X1   0.496005  0.006054  81.924155  0.000000e+00\n",
       "X2   0.009199  0.000968   9.502065  6.201181e-07"
      ]
     },
     "execution_count": 34,
     "metadata": {},
     "output_type": "execute_result"
    }
   ],
   "source": [
    "# 回归方程：Y = 3.4526 + 0.4960 X1 + 0.0092 X2\n",
    "\n",
    "# 标准差估计\n",
    "s = np.sqrt(MSE*np.diag(XTX_inv)).reshape(3, 1)\n",
    "# 统计量tk的观测值\n",
    "t0 = np.divide(beta, s)\n",
    "# 检验p值\n",
    "p0_t = 2*(1 - stats.t.cdf(np.abs(t0), len(Y)-3))\n",
    "\n",
    "da = np.ones((3, 4))\n",
    "\n",
    "\n",
    "da[0:, 0] = beta.flatten()\n",
    "da[0:, 1] = s.flatten()\n",
    "da[0:, 2 ] = t0.flatten()\n",
    "da[0:, 3] = p0_t.flatten()\n",
    "df = pd.DataFrame(da)\n",
    "df.columns = ['参数估计值', '标准差估计', '统计量的值', '检验p值']\n",
    "df.index = ['常数项', 'X1', 'X2']\n",
    "df\n"
   ]
  },
  {
   "cell_type": "markdown",
   "id": "7b81befb-feaa-4631-801c-fb614124c3d5",
   "metadata": {},
   "source": [
    "题中设置显著性水平$\\alpha=0.05$，由计算结果可见，最后一列的$X_1、X_2$的p值都小于显著性水平$\\alpha$，即认为人数、收入对销量影响显著"
   ]
  },
  {
   "cell_type": "markdown",
   "id": "5e37d019-378e-46bd-88ad-6219652333f3",
   "metadata": {},
   "source": [
    "## 4、（2）检验$X_1和X_2$的交互作用对$Y$的影响是否显著"
   ]
  },
  {
   "cell_type": "code",
   "execution_count": 35,
   "id": "c8549d91-15b7-4c55-91bf-266c22255b1e",
   "metadata": {},
   "outputs": [
    {
     "name": "stdout",
     "output_type": "stream",
     "text": [
      "回归系数： [4.90112802e+00 4.91101255e-01 8.67389787e-03 1.69766956e-06]\n",
      "回归方程：Y = 4.901128 + 0.491101 X1 + 0.008674 X2 + 0.000002 X1X2\n"
     ]
    }
   ],
   "source": [
    "X1_ = data['x1'].values\n",
    "X2_ = data['x2'].values\n",
    "Z = np.multiply(X1_, X2_) # X1*X2\n",
    "\n",
    "# X、Y矩阵\n",
    "Y_ = data['y'].values\n",
    "n = len(Y)\n",
    "x_ = data[['x1', 'x2']]\n",
    "X_ = np.ones((n, 4))\n",
    "X_[:, 1:-1] = x_.values\n",
    "X_[:, -1] = Z\n",
    "\n",
    "# 正规方程\n",
    "X__t = X_.T\n",
    "beta_ = np.linalg.inv(X__t @ X_) @ X__t @ Y\n",
    "print('回归系数：', beta_)\n",
    "print('回归方程：Y = %.6f + %.6f X1 + %.6f X2 + %.6f X1X2'%tuple(beta_))\n"
   ]
  },
  {
   "cell_type": "markdown",
   "id": "ea23f3e9-a1c2-4e50-929e-d5536d982afc",
   "metadata": {},
   "source": [
    "### 这时候全模型为引入交叉项后的回归方程，简约模型为上面第一问计算得到的回归方程"
   ]
  },
  {
   "cell_type": "code",
   "execution_count": 36,
   "id": "c34fa5f6-58b6-4e18-800a-85001178f002",
   "metadata": {},
   "outputs": [
    {
     "name": "stdout",
     "output_type": "stream",
     "text": [
      "0.0316 0.8622\n"
     ]
    }
   ],
   "source": [
    "# 检验\n",
    "y__bar = Y_.mean()\n",
    "y__hat = np.matmul(X_, beta_)\n",
    "\n",
    "df_f = len(Y_)-4\n",
    "SSE_f = sum((Y_-y__hat)**2)\n",
    "\n",
    "df_r = len(Y)-3\n",
    "SSE_r = SSE\n",
    "F = ((SSE_r-SSE_f)/(df_r-df_f))/(SSE_f/df_f)\n",
    "\n",
    "p0 = 1 - stats.f.cdf(F, df_r-df_f, df_f, loc=0, scale=1)\n",
    "print(round(F, 4), round(p0, 4))"
   ]
  },
  {
   "cell_type": "markdown",
   "id": "65aa3567-197f-4b8e-9f9d-112e586b78db",
   "metadata": {},
   "source": [
    "此时计算得到的$p\\approx0.8622>95\\% $(题目设置的置信度为95%)，不认为$X_1、X_2$的交互作用对Y影响显著"
   ]
  },
  {
   "cell_type": "markdown",
   "id": "b3776304-905d-416e-896d-6b27ec347299",
   "metadata": {},
   "source": [
    "## 5、预测及置信区间"
   ]
  },
  {
   "cell_type": "code",
   "execution_count": 37,
   "id": "373ac462-96fa-4b34-8024-065c329f3320",
   "metadata": {},
   "outputs": [
    {
     "name": "stdout",
     "output_type": "stream",
     "text": [
      "销量的预测值y0_hat =  [135.5714097]\n",
      "置信度为95%的置信区间： 130.8116 140.3312\n"
     ]
    }
   ],
   "source": [
    "x0 = np.array([1, 220, 2500])\n",
    "y0_hat = np.matmul(x0, beta)\n",
    "\n",
    "temp = np.sqrt(MSE*(1+np.matmul(np.matmul(x0.T, XTX_inv), x0)))\n",
    "y0_left = y0_hat - t_percentile*temp\n",
    "y0_right = y0_hat + t_percentile*temp\n",
    "\n",
    "print('销量的预测值y0_hat = ', y0_hat)\n",
    "print('置信度为95%的置信区间：', round(y0_left[0], 4), round(y0_right[0], 4))"
   ]
  },
  {
   "cell_type": "code",
   "execution_count": null,
   "id": "4f4db0ce-8921-41d1-ab63-751988ef485b",
   "metadata": {},
   "outputs": [],
   "source": []
  }
 ],
 "metadata": {
  "kernelspec": {
   "display_name": "Python 3 (ipykernel)",
   "language": "python",
   "name": "python3"
  },
  "language_info": {
   "codemirror_mode": {
    "name": "ipython",
    "version": 3
   },
   "file_extension": ".py",
   "mimetype": "text/x-python",
   "name": "python",
   "nbconvert_exporter": "python",
   "pygments_lexer": "ipython3",
   "version": "3.11.5"
  }
 },
 "nbformat": 4,
 "nbformat_minor": 5
}
