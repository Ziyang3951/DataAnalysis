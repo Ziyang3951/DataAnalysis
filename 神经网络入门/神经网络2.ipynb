{
 "cells": [
  {
   "cell_type": "code",
   "execution_count": 1,
   "id": "a5a79467-67f1-4a8b-833a-717e700f429e",
   "metadata": {},
   "outputs": [],
   "source": [
    "import pandas as pd\n",
    "import numpy as np\n",
    "import matplotlib.pyplot as plt\n",
    "import scipy.stats as stats\n",
    "import statsmodels.api as sm\n",
    "from scipy.io import loadmat\n",
    "import matplotlib\n",
    "matplotlib.rcParams['font.sans-serif'] = ['SimHei']\n",
    "matplotlib.rcParams['axes.unicode_minus']=False"
   ]
  },
  {
   "cell_type": "markdown",
   "id": "862d6df7-21aa-4db9-88b1-cb25eb667cd6",
   "metadata": {},
   "source": [
    "# 一"
   ]
  },
  {
   "cell_type": "markdown",
   "id": "d674806b-bbc1-4404-8356-97d790b20734",
   "metadata": {},
   "source": [
    "## （1）\n",
    "> 记$$\\Theta^{(1)}=\\begin{bmatrix}\\Theta^{(1)}_{10}&&\\Theta^{(1)}_{11}&&\\Theta^{(1)}_{12}\\\\\\Theta^{(1)}_{20}&&\\Theta^{(1)}_{21}&&\\Theta^{(1)}_{22}\\end{bmatrix}$$\n",
    "> $$\\Downarrow$$\n",
    "> $$z^{(2)}_1=\\Theta^{(1)}_{10}x_0+\\Theta^{(1)}_{11}x_1+\\Theta^{(1)}_{12}x2 $$  \n",
    "> $$z^{(2)}_1=\\Theta^{(1)}_{20}x_0+\\Theta^{(1)}_{21}x_1+\\Theta^{(1)}_{22}x2 $$  \n",
    "> $$\\Downarrow$$\n",
    "> $$a^{(2)}_1=g(z^{(2)}_1) $$  \n",
    "> $$a^{(2)}_2=g(z^{(2)}_2) $$  \n",
    "> 记$$\\Theta^{(2)}=\\begin{bmatrix}\\Theta^{(2)}_{10}&&\\Theta^{(2)}_{11}&&\\Theta^{(2)}_{12}\\end{bmatrix} $$  \n",
    "> $$\\Downarrow $$\n",
    "> $$z^{(3)}_1=\\Theta^{(2)}_{10}a^{(2)}_0+\\Theta^{(2)}_{11}a^{(2)}_1+\\Theta^{(2)}_{12}a^{(2)}_2$$\n",
    "> $$\\Downarrow $$\n",
    "> $$a^{(3)}_1=g(z^{(3)}_1)$$  \n",
    "> ***即$$h_\\Theta(x)=g(z^{(3)}_1)=g(\\Theta^{(2)}a^{(2)})=g(\\Theta^{(2)}g(z^{(2)}))=g(\\Theta^{(2)}g(\\Theta^{(1)}x))$$***"
   ]
  },
  {
   "cell_type": "markdown",
   "id": "78be2c5a-775a-45c7-bfba-41d1c40ca5b1",
   "metadata": {},
   "source": [
    "## （2）\n",
    "> 已知有：$$g'(x)=g(x)(1-g(x))$$\n",
    "> \n",
    "> 则偏导数如下：  \n",
    "> $$\\frac{\\partial h_\\Theta(x)}{\\partial x_1}=\\frac{\\partial g(\\Theta^{(2)}g(\\Theta^{(1)}x))}{\\partial x_1}=\\frac{\\partial g(\\Theta^{(2)}g(\\Theta^{(1)}x))}{\\partial g(\\Theta^{(1)}x)}\\frac{\\partial g(\\Theta^{(1)}x)}{\\partial x_1}  $$  \n",
    "> 记$$\\Theta^{(1)}_1 = \\begin{bmatrix}\\Theta^{(1)}_{10}&&\\Theta^{(1)}_{11}&&\\Theta^{(1)}_{10} \\end{bmatrix}$$\n",
    "> $$\\Theta^{(2)}_1 = \\begin{bmatrix}\\Theta^{(2)}_{20}&&\\Theta^{(2)}_{21}&&\\Theta^{(2)}_{20} \\end{bmatrix}$$\n",
    "> $$\\Downarrow $$\n",
    "> $$\\frac{\\partial h_\\Theta(x)}{\\partial x_1}=\\begin{bmatrix}\\Theta^{(2)}_{11}g'(\\Theta^{(1)} x)+\\Theta^{(2)}_{11}g'(\\Theta^{(1)} x)\\end{bmatrix}·\\begin{Bmatrix}g(\\Theta^{(2)}g(\\Theta^{(1)}x))\\begin{bmatrix}1-g(\\Theta^{(2)}g(\\Theta^{(1)}x))\\end{bmatrix}\\end{Bmatrix}$$\n",
    "> $$\\Downarrow $$\n",
    "> $$\\frac{\\partial h_\\Theta(x)}{\\partial x_1}=\\begin{Bmatrix}\\Theta^{(2)}_{11}\\begin{Bmatrix}g(\\Theta^{(1)}_1 x)\\begin{bmatrix}1-g(\\Theta^{(1)}_1 x)\\end{bmatrix}\\end{Bmatrix}+\\Theta^{(2)}_{11}\\begin{Bmatrix}g(\\Theta^{(1)}_2 x)\\begin{bmatrix}1-g(\\Theta^{(1)}_2 x)\\end{bmatrix}\\end{Bmatrix}\\end{Bmatrix}·\\begin{Bmatrix}g(\\Theta^{(2)}g(\\Theta^{(1)}x))\\begin{bmatrix}1-g(\\Theta^{(2)}g(\\Theta^{(1)}x))\\end{bmatrix}\\end{Bmatrix}$$"
   ]
  },
  {
   "cell_type": "markdown",
   "id": "05a9e8c1-37f9-497d-83c7-29aac64b29e9",
   "metadata": {},
   "source": [
    "# 二"
   ]
  },
  {
   "cell_type": "code",
   "execution_count": 2,
   "id": "5a7c29e3-e59a-4ca7-b344-59a796726191",
   "metadata": {},
   "outputs": [],
   "source": [
    "# 样本\n",
    "data = loadmat('HwDigits.mat')\n",
    "X = data['X']\n",
    "y = data['y']"
   ]
  },
  {
   "cell_type": "code",
   "execution_count": 3,
   "id": "ae5eb95b-023f-4629-811b-cd428dd84db8",
   "metadata": {},
   "outputs": [],
   "source": [
    "# 权重\n",
    "weights = loadmat('HwDigitsWeights.mat')\n",
    "Theta1 = weights['Theta1']\n",
    "Theta2 = weights['Theta2']"
   ]
  },
  {
   "cell_type": "code",
   "execution_count": 4,
   "id": "86b116d7-a09e-4617-a76f-2d078030f9c6",
   "metadata": {},
   "outputs": [],
   "source": [
    "# sigmoid函数\n",
    "def sigmoid(z):\n",
    "    return 1 / (1+np.e**(-z))\n",
    "\n",
    "# 导数\n",
    "def d_sigmoid(z):\n",
    "    return sigmoid(z) * (1 - sigmoid(z))"
   ]
  },
  {
   "cell_type": "markdown",
   "id": "8a077289-04b3-4862-b558-d3e45eb4a3a7",
   "metadata": {},
   "source": [
    "## （1）代价函数\n",
    "> **Cost Function**   \n",
    "> 代价函数为：  \n",
    "> $$J(\\Theta)=-\\frac{1}{m}\\sum^m_{i=1}\\sum^K_{k=1}{\\begin{bmatrix}y^{(i)}_k\\log{(h_\\Theta(x^{(i)}))_k}+(1-y^{(i)}_k)\\log{(1-(h_\\Theta(x^{(i)}))_k)}\\end{bmatrix}} $$  \n",
    "> - 注：m个样本中每个样本有K个特征，对应到矩阵即最后得到的矩阵（每行对应一个特征向量，即预测都结果）有m行K列。"
   ]
  },
  {
   "cell_type": "code",
   "execution_count": 5,
   "id": "6ce8c018-e071-498b-ae70-8087a6ea2acf",
   "metadata": {},
   "outputs": [],
   "source": [
    "# 代价函数\n",
    "def cost_function(A_3, Y):\n",
    "    m = A_3.shape[0]\n",
    "    J = - np.sum(Y*np.log(A_3) + (1-Y)*np.log(1-A_3)) / m\n",
    "    return J"
   ]
  },
  {
   "cell_type": "code",
   "execution_count": 6,
   "id": "59f8eb18-ed91-4a1f-a79d-50dfad672963",
   "metadata": {},
   "outputs": [
    {
     "name": "stdout",
     "output_type": "stream",
     "text": [
      "代价函数计算结果为0.287629\n"
     ]
    }
   ],
   "source": [
    "# 数据处理，向前传播\n",
    "A_1 = sm.add_constant(X)\n",
    "A_2 = sigmoid(A_1 @ Theta1.T)\n",
    "\n",
    "A_2 = sm.add_constant(A_2)\n",
    "A_3 = sigmoid(A_2 @ Theta2.T)\n",
    "\n",
    "\n",
    "# 计算\n",
    "J = 0\n",
    "m, K = A_3.shape\n",
    "\n",
    "\n",
    "# 将y转换成one-hot编码（独热编码）（0 or 1），即特征数字化\n",
    "Y = np.eye(10)[(y-1).flatten()]\n",
    "\n",
    "# 计算代价函数\n",
    "J = cost_function(A_3, Y)\n",
    "\n",
    "print(f'代价函数计算结果为{J:.6f}')\n"
   ]
  },
  {
   "cell_type": "markdown",
   "id": "61af725b-a3ef-4726-a38b-b56b56bd2bc9",
   "metadata": {},
   "source": [
    "## (2)神经网络训练的计算步骤\n",
    "> - **① 前向传播**，即计算每一层的激活值$h_\\Theta(a^{(l)})$  \n",
    "> - **② 误差计算**，即计算输出层与实际真值之间的误差，再依次利用后一层的误差项计算前一层的误差项：\n",
    ">   $$输出层的误差：\\delta^{(n)}=a^{(n)}-y（n为最后一层即输出层）$$  \n",
    ">   $$隐藏层的误差：\\delta^{(k)}=\\Theta^{(k)}·\\delta^{(k+1)}·g'(z^{(k)})（ 其中z^{(k)}为经过a^{(k)}加权计算的结果）$$  \n",
    "> - **③ 梯度计算**：将误差逐层传播回去，利用误差计算每一层的梯度\n",
    ">   $$\\frac{\\partial}{\\partial \\Theta^{(l)_{ij}}}J(\\Theta)=a^{(l)}_j\\delta^{(l+1)}_i$$  \n",
    "> - **④ 梯度检查**：验证梯度计算的正确\n",
    "> - **⑤ 更新参数**：利用上述步骤计算结果更新权重参数\n",
    ">   $$\\Delta^{(l)}=\\Delta^{(l)}+\\delta^{(l+1)}(a^{(l)})^T $$\n"
   ]
  },
  {
   "cell_type": "markdown",
   "id": "6bb39e50-94c4-40ce-b6f4-e710b8bc28fb",
   "metadata": {},
   "source": [
    "## （3）神经网络训练代码"
   ]
  },
  {
   "cell_type": "code",
   "execution_count": 7,
   "id": "10121ba8-497d-4c38-9b5a-fb5587e41dac",
   "metadata": {},
   "outputs": [],
   "source": [
    "def back_propagate(A1, Y, Theta1, Theta2, alpha=0.001, iterations=3000):\n",
    "    m = A1.shape[0]\n",
    "    J = []\n",
    "    for i in range(iterations):\n",
    "        z2 = A1 @ Theta1.T\n",
    "        A2 = np.hstack((np.ones((A1.shape[0], 1)), sigmoid(z2)))\n",
    "        z3 = A2 @ Theta2.T\n",
    "        A3 = sigmoid(z3)\n",
    "\n",
    "        # 计算权重\n",
    "        cost_f = cost_function(A3, Y)\n",
    "        J.append(cost_f)\n",
    "        \n",
    "        # 计算误差\n",
    "        delta3 = A3 - Y\n",
    "        delta2 = delta3 @ Theta2[:, 1:] * d_sigmoid(z2)\n",
    "        \n",
    "        # 计算梯度\n",
    "        G1 = delta2.T @ A1\n",
    "        G2 = delta3.T @ A2\n",
    "\n",
    "        # 更新权重\n",
    "        Theta1 -= (alpha/m) * G1\n",
    "        Theta2 -= (alpha/m) * G2\n",
    "\n",
    "    return Theta1, Theta2, J "
   ]
  },
  {
   "cell_type": "code",
   "execution_count": 8,
   "id": "6d959b88-50cc-4a38-bd4d-d540eb21ad5d",
   "metadata": {},
   "outputs": [],
   "source": [
    "# 读取数据\n",
    "data = loadmat('HwDigits.mat')\n",
    "X = data['X']\n",
    "y = data['y']# 真实值\n",
    "Y = np.eye(10)[(y-1).flatten()]# one-hot编码\n",
    "\n",
    "A1 = sm.add_constant(X)# 输入层"
   ]
  },
  {
   "cell_type": "code",
   "execution_count": 9,
   "id": "1ed8ead5-4191-42cc-aed6-8999de1aa20d",
   "metadata": {},
   "outputs": [],
   "source": [
    "# 初值设置\n",
    "Theta1_ = np.zeros((25, A1.shape[1]))\n",
    "Theta2_ = np.zeros((10, 26))"
   ]
  },
  {
   "cell_type": "code",
   "execution_count": 10,
   "id": "779168ec-2696-4c76-b80d-158f4d698d88",
   "metadata": {},
   "outputs": [],
   "source": [
    "Theta1, Theta2, J = back_propagate(A1, Y, Theta1_, Theta2_)"
   ]
  },
  {
   "cell_type": "code",
   "execution_count": 11,
   "id": "4c52b8ac-7b2b-4157-bf01-a9e46d6f46d0",
   "metadata": {},
   "outputs": [
    {
     "data": {
      "text/plain": [
       "Text(0.5, 1.0, 'Train the given neural network')"
      ]
     },
     "execution_count": 11,
     "metadata": {},
     "output_type": "execute_result"
    },
    {
     "data": {
      "image/png": "[encoded data removed]",
      "text/plain": [
       "<Figure size 640x480 with 1 Axes>"
      ]
     },
     "metadata": {},
     "output_type": "display_data"
    }
   ],
   "source": [
    "plt.plot(range(len(J[0:2500])), J[0:2500])\n",
    "plt.xlabel('No. of iteration')\n",
    "plt.ylabel('Cost function')\n",
    "plt.title('Train the given neural network')"
   ]
  }
 ],
 "metadata": {
  "kernelspec": {
   "display_name": "Python 3 (ipykernel)",
   "language": "python",
   "name": "python3"
  },
  "language_info": {
   "codemirror_mode": {
    "name": "ipython",
    "version": 3
   },
   "file_extension": ".py",
   "mimetype": "text/x-python",
   "name": "python",
   "nbconvert_exporter": "python",
   "pygments_lexer": "ipython3",
   "version": "3.11.5"
  }
 },
 "nbformat": 4,
 "nbformat_minor": 5
}
