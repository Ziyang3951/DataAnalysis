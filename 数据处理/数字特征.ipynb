{
 "cells": [
  {
   "cell_type": "code",
   "execution_count": 1,
   "id": "8cc1f708",
   "metadata": {},
   "outputs": [],
   "source": [
    "import pandas as pd\n",
    "import numpy as np\n",
    "from math import sqrt"
   ]
  },
  {
   "cell_type": "markdown",
   "id": "e60cfbfc",
   "metadata": {},
   "source": [
    "# 计算女生血清蛋白含量的数字特征"
   ]
  },
  {
   "cell_type": "code",
   "execution_count": 2,
   "id": "ff1f3366",
   "metadata": {
    "scrolled": true
   },
   "outputs": [
    {
     "name": "stdout",
     "output_type": "stream",
     "text": [
      "均值为73.66\n",
      "中位数为73.50\n",
      "下四分位数为71.20\n",
      "上四分位数位75.80\n",
      "M0.99 = 82.95\n",
      "M0.95 = 80.50\n",
      "M0.90 = 79.15\n",
      "M0.10 = 68.40\n",
      "M0.05 = 67.30\n",
      "M0.01 = 64.65\n"
     ]
    }
   ],
   "source": [
    "filename = 'SerumProteinComponents.xls'\n",
    "data = pd.read_excel(filename, header = None)\n",
    "Data = data.values.flatten()\n",
    "# 均值\n",
    "xbar =  np.mean(Data)\n",
    "# 分位数\n",
    "M = np.median(Data)\n",
    "Q1 = np.quantile(Data, 0.25, interpolation='midpoint')\n",
    "Q3 = np.quantile(Data, 0.75, interpolation='midpoint')\n",
    "M099 = np.quantile(Data, 0.99, interpolation='midpoint')\n",
    "M095 = np.quantile(Data, 0.95, interpolation='midpoint')\n",
    "M090 = np.quantile(Data, 0.90, interpolation='midpoint')\n",
    "M090 = np.quantile(Data, 0.90, interpolation='midpoint')\n",
    "M090 = np.quantile(Data, 0.90, interpolation='midpoint')\n",
    "M010 = np.quantile(Data, 0.10, interpolation='midpoint')\n",
    "M005 = np.quantile(Data, 0.05, interpolation='midpoint')\n",
    "M001 = np.quantile(Data, 0.01, interpolation='midpoint')\n",
    "# 三均值\n",
    "xbar3 = Q1/4 + M/2 + Q3/4\n",
    " \n",
    "print(f\"均值为{xbar:.2f}\")\n",
    "print(f\"中位数为{M:.2f}\")\n",
    "print(f\"下四分位数为{Q1:.2f}\")\n",
    "print(f\"上四分位数位{Q3:.2f}\")\n",
    "print(f\"M0.99 = {M099:.2f}\")\n",
    "print(f\"M0.95 = {M095:.2f}\")\n",
    "print(f\"M0.90 = {M090:.2f}\")\n",
    "print(f\"M0.10 = {M010:.2f}\")\n",
    "print(f\"M0.05 = {M005:.2f}\")\n",
    "print(f\"M0.01 = {M001:.2f}\")"
   ]
  },
  {
   "cell_type": "markdown",
   "id": "72046ce6",
   "metadata": {},
   "source": [
    "# 求方差、标准差、变异系数、极差、四分位差"
   ]
  },
  {
   "cell_type": "code",
   "execution_count": 3,
   "id": "8a482e2c",
   "metadata": {},
   "outputs": [
    {
     "name": "stdout",
     "output_type": "stream",
     "text": [
      "方差为15.52\n",
      "标准差为3.94\n",
      "变异系数为0.05\n",
      "极差为20.00\n",
      "四分位极差为4.60\n",
      "异常值个数位：2,其值如下\n",
      "[64.3, 84.3]\n"
     ]
    }
   ],
   "source": [
    "n = len(Data)\n",
    "\n",
    "# 方差\n",
    "X = np.array([xbar]*n)\n",
    "s_2 = sum((Data-X)**2)/(n-1)\n",
    "\n",
    "# 标准差\n",
    "s = sqrt(s_2)\n",
    "\n",
    "# 极差\n",
    "ran = max(Data) - min(Data)\n",
    "\n",
    "# 四分位极差\n",
    "R1 = Q3 - Q1\n",
    "\n",
    "# 变异系数\n",
    "k = s/xbar\n",
    "\n",
    "print(f\"方差为{s_2:.2f}\")\n",
    "print(f\"标准差为{s:.2f}\")\n",
    "print(f\"变异系数为{k:.2f}\")\n",
    "print(f\"极差为{ran:.2f}\")\n",
    "print(f\"四分位极差为{R1:.2f}\")\n",
    "\n",
    "# 判断是否有异常值\n",
    "ab_value = []\n",
    "norm1 = Q1 - 1.5*R1\n",
    "norm2 = Q3 + 1.5*R1\n",
    "for i in Data:\n",
    "    if i < norm1 or i > norm2:\n",
    "        ab_value.append(i)\n",
    "if len(ab_value) == 0:\n",
    "    print(\"没有异常值\")\n",
    "else:\n",
    "    print(f\"异常值个数位：{len(ab_value)},其值如下\")\n",
    "    print(ab_value)"
   ]
  },
  {
   "cell_type": "markdown",
   "id": "8d128c39",
   "metadata": {},
   "source": [
    "# 数据集"
   ]
  },
  {
   "cell_type": "markdown",
   "id": "2c82921c",
   "metadata": {},
   "source": [
    "## 函数statas"
   ]
  },
  {
   "cell_type": "code",
   "execution_count": 4,
   "id": "eef4a4fa",
   "metadata": {},
   "outputs": [],
   "source": [
    "import numpy as np\n",
    "from math import sqrt"
   ]
  },
  {
   "cell_type": "code",
   "execution_count": 5,
   "id": "e1389935",
   "metadata": {},
   "outputs": [],
   "source": [
    "# 最大值，最小值，均值，中位数，上四分位数，下四分位数，极差，四分位差，方差，标准差\n",
    "def stats(x):\n",
    "    n = len(x)\n",
    "    xmax = max(x) # 最大值\n",
    "    xmin = min(x) # 最小值\n",
    "    xbar = np.mean(x) # 均值\n",
    "    M = np.quantile(x, 0.5, interpolation='midpoint') # 中位数\n",
    "    Q3 = np.quantile(x, 0.75, interpolation='midpoint') # 上四分位数\n",
    "    Q1 = np.quantile(x, 0.25, interpolation='midpoint') # 下四分位数\n",
    "    R = xmax - xmin # 极差\n",
    "    R1 = Q3 - Q1 # 四分位差\n",
    "    s2 = sum((x-np.array([xbar]*n))**2)/(n-1) # 方差\n",
    "    s = sqrt(s2) # 标准差\n",
    "    return xmax, xmin, xbar, M, Q3, Q1, R, R1, s2, s"
   ]
  },
  {
   "cell_type": "markdown",
   "id": "b45f5d0d",
   "metadata": {},
   "source": [
    "## 1、分类数据数据集\n",
    "> - 下载地址：https://archive.ics.uci.edu/dataset/53/iris\n",
    "> - 这是一个关于鸢尾花信息的数据集，数据中包含了3个类，每个类都代表了一种鸢尾花。一个类与其他两个类线性科分，后者彼此之间不是线性可分的。"
   ]
  },
  {
   "cell_type": "code",
   "execution_count": 6,
   "id": "83d59c53",
   "metadata": {},
   "outputs": [
    {
     "name": "stdout",
     "output_type": "stream",
     "text": [
      "该数据集的数字特侦如下\n",
      "最大值为7.90，最小值0.10\n",
      "均值为3.46，中位数3.20\n",
      "上四分位数为5.10，下四分位数1.70\n",
      "极差为7.80，四分位差3.40\n",
      "方差为3.903185，标准差1.98\n",
      "\n"
     ]
    },
    {
     "name": "stderr",
     "output_type": "stream",
     "text": [
      "C:\\Users\\86158\\AppData\\Local\\Temp\\ipykernel_13012\\1490548514.py:4: DeprecationWarning: the `interpolation=` argument to quantile was renamed to `method=`, which has additional options.\n",
      "Users of the modes 'nearest', 'lower', 'higher', or 'midpoint' are encouraged to review the method they used. (Deprecated NumPy 1.22)\n",
      "  xmax, xmin, xbar, M, Q3, Q1, R, R1, s2, s = stats(x1)\n"
     ]
    }
   ],
   "source": [
    "filename1 = 'iris.data'\n",
    "data1 = pd.read_csv(filename1, header=None)\n",
    "x1 = data1.loc[:, 0:3].values.flatten()\n",
    "xmax, xmin, xbar, M, Q3, Q1, R, R1, s2, s = stats(x1)\n",
    "print(\"该数据集的数字特侦如下\")\n",
    "print(f\"最大值为{xmax:.2f}，最小值{xmin:.2f}\")\n",
    "print(f\"均值为{xbar:.2f}，中位数{M:.2f}\")\n",
    "print(f\"上四分位数为{Q3:.2f}，下四分位数{Q1:.2f}\")\n",
    "print(f\"极差为{R:.2f}，四分位差{R1:.2f}\")\n",
    "print(f\"方差为{s2:2f}，标准差{s:.2f}\")\n",
    "print()"
   ]
  },
  {
   "cell_type": "markdown",
   "id": "79a57268",
   "metadata": {},
   "source": [
    "## 2、回归数据数据集\n",
    "> - 下载地址：https://archive.ics.uci.edu/dataset/186/wine+quality\n",
    "> - 在网站下载的数据集种包含了两组数据，一组是关于红葡萄酒的，另一组是关于白葡萄酒的，以下代码选取了白葡萄酒进行分析。其中数据又分了多组变量，包括品牌、售价、pH值等等。"
   ]
  },
  {
   "cell_type": "code",
   "execution_count": 7,
   "id": "0cd814f5",
   "metadata": {},
   "outputs": [
    {
     "name": "stdout",
     "output_type": "stream",
     "text": [
      "\"fixed acidity\"的数据特征如下\n",
      "该数据集的数字特侦如下\n",
      "最大值为14.20，最小值3.80\n",
      "均值为6.85，中位数6.80\n",
      "上四分位数为7.30，下四分位数6.30\n",
      "极差为10.40，四分位差1.00\n",
      "方差为0.712114，标准差0.84\n",
      "\n",
      "\"volatile acidity\"的数据特征如下\n",
      "该数据集的数字特侦如下\n",
      "最大值为1.10，最小值0.08\n",
      "均值为0.28，中位数0.26\n",
      "上四分位数为0.32，下四分位数0.21\n",
      "极差为1.02，四分位差0.11\n",
      "方差为0.010160，标准差0.10\n",
      "\n",
      "\"citric acid\"的数据特征如下\n",
      "该数据集的数字特侦如下\n",
      "最大值为1.66，最小值0.00\n",
      "均值为0.33，中位数0.32\n",
      "上四分位数为0.39，下四分位数0.27\n",
      "极差为1.66，四分位差0.12\n",
      "方差为0.014646，标准差0.12\n",
      "\n",
      "\"residual sugar\"的数据特征如下\n",
      "该数据集的数字特侦如下\n",
      "最大值为65.80，最小值0.60\n",
      "均值为6.39，中位数5.20\n",
      "上四分位数为9.90，下四分位数1.70\n",
      "极差为65.20，四分位差8.20\n",
      "方差为25.725770，标准差5.07\n",
      "\n",
      "\"chlorides\"的数据特征如下\n",
      "该数据集的数字特侦如下\n",
      "最大值为0.35，最小值0.01\n",
      "均值为0.05，中位数0.04\n",
      "上四分位数为0.05，下四分位数0.04\n",
      "极差为0.34，四分位差0.01\n",
      "方差为0.000477，标准差0.02\n",
      "\n",
      "\"free sulfur dioxide\"的数据特征如下\n",
      "该数据集的数字特侦如下\n",
      "最大值为289.00，最小值2.00\n",
      "均值为35.31，中位数34.00\n",
      "上四分位数为46.00，下四分位数23.00\n",
      "极差为287.00，四分位差23.00\n",
      "方差为289.242720，标准差17.01\n",
      "\n",
      "\"total sulfur dioxide\"的数据特征如下\n",
      "该数据集的数字特侦如下\n",
      "最大值为440.00，最小值9.00\n",
      "均值为138.36，中位数134.00\n",
      "上四分位数为167.00，下四分位数108.00\n",
      "极差为431.00，四分位差59.00\n",
      "方差为1806.085491，标准差42.50\n",
      "\n",
      "\"density\"的数据特征如下\n",
      "该数据集的数字特侦如下\n",
      "最大值为1.04，最小值0.99\n",
      "均值为0.99，中位数0.99\n",
      "上四分位数为1.00，下四分位数0.99\n",
      "极差为0.05，四分位差0.00\n",
      "方差为0.000009，标准差0.00\n",
      "\n",
      "\"pH\"的数据特征如下\n",
      "该数据集的数字特侦如下\n",
      "最大值为3.82，最小值2.72\n",
      "均值为3.19，中位数3.18\n",
      "上四分位数为3.28，下四分位数3.09\n",
      "极差为1.10，四分位差0.19\n",
      "方差为0.022801，标准差0.15\n",
      "\n",
      "\"sulphates\"的数据特征如下\n",
      "该数据集的数字特侦如下\n",
      "最大值为1.08，最小值0.22\n",
      "均值为0.49，中位数0.47\n",
      "上四分位数为0.55，下四分位数0.41\n",
      "极差为0.86，四分位差0.14\n",
      "方差为0.013025，标准差0.11\n",
      "\n",
      "\"alcohol\"的数据特征如下\n",
      "该数据集的数字特侦如下\n",
      "最大值为14.20，最小值8.00\n",
      "均值为10.51，中位数10.40\n",
      "上四分位数为11.40，下四分位数9.50\n",
      "极差为6.20，四分位差1.90\n",
      "方差为1.514427，标准差1.23\n",
      "\n",
      "\"quality\"的数据特征如下\n",
      "该数据集的数字特侦如下\n",
      "最大值为9.00，最小值3.00\n",
      "均值为5.88，中位数6.00\n",
      "上四分位数为6.00，下四分位数5.00\n",
      "极差为6.00，四分位差1.00\n",
      "方差为0.784356，标准差0.89\n",
      "\n"
     ]
    },
    {
     "name": "stderr",
     "output_type": "stream",
     "text": [
      "C:\\Users\\86158\\AppData\\Local\\Temp\\ipykernel_13012\\838348638.py:2: ParserWarning: Falling back to the 'python' engine because the 'c' engine does not support regex separators (separators > 1 char and different from '\\s+' are interpreted as regex); you can avoid this warning by specifying engine='python'.\n",
      "  data2 = pd.read_csv(filename2, sep='[;]')\n",
      "C:\\Users\\86158\\AppData\\Local\\Temp\\ipykernel_13012\\838348638.py:5: DeprecationWarning: the `interpolation=` argument to quantile was renamed to `method=`, which has additional options.\n",
      "Users of the modes 'nearest', 'lower', 'higher', or 'midpoint' are encouraged to review the method they used. (Deprecated NumPy 1.22)\n",
      "  xmax, xmin, xbar, M, Q3, Q1, R, R1, s2, s = stats(x)\n"
     ]
    }
   ],
   "source": [
    "filename2 = 'winequality-white.csv'\n",
    "data2 = pd.read_csv(filename2, sep='[;]')\n",
    "for element in data2.columns:\n",
    "    x = data2[element].values\n",
    "    xmax, xmin, xbar, M, Q3, Q1, R, R1, s2, s = stats(x)\n",
    "    print(f\"{element}的数据特征如下\")\n",
    "    print(\"该数据集的数字特侦如下\")\n",
    "    print(f\"最大值为{xmax:.2f}，最小值{xmin:.2f}\")\n",
    "    print(f\"均值为{xbar:.2f}，中位数{M:.2f}\")\n",
    "    print(f\"上四分位数为{Q3:.2f}，下四分位数{Q1:.2f}\")\n",
    "    print(f\"极差为{R:.2f}，四分位差{R1:.2f}\")\n",
    "    print(f\"方差为{s2:2f}，标准差{s:.2f}\")\n",
    "    print()"
   ]
  },
  {
   "cell_type": "code",
   "execution_count": null,
   "id": "b4e49191",
   "metadata": {},
   "outputs": [],
   "source": []
  }
 ],
 "metadata": {
  "kernelspec": {
   "display_name": "Python 3 (ipykernel)",
   "language": "python",
   "name": "python3"
  },
  "language_info": {
   "codemirror_mode": {
    "name": "ipython",
    "version": 3
   },
   "file_extension": ".py",
   "mimetype": "text/x-python",
   "name": "python",
   "nbconvert_exporter": "python",
   "pygments_lexer": "ipython3",
   "version": "3.11.5"
  }
 },
 "nbformat": 4,
 "nbformat_minor": 5
}
