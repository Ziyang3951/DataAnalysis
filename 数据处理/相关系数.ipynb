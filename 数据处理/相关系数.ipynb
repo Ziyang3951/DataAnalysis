{
 "cells": [
  {
   "cell_type": "code",
   "execution_count": 1,
   "id": "2fe8606d-0132-4844-a57d-8bf692740263",
   "metadata": {},
   "outputs": [],
   "source": [
    "import pandas as pd\n",
    "import numpy as np\n",
    "import matplotlib.pyplot as plt\n",
    "import scipy.stats as stats\n",
    "import matplotlib\n",
    "matplotlib.rcParams['font.sans-serif'] = ['SimHei']\n",
    "matplotlib.rcParams['axes.unicode_minus']=False"
   ]
  },
  {
   "cell_type": "markdown",
   "id": "f7602251-fdc2-4640-b1af-ea79fe93447b",
   "metadata": {},
   "source": [
    "## 1.4"
   ]
  },
  {
   "cell_type": "code",
   "execution_count": 2,
   "id": "1e9d4d07-c014-481c-9078-f9d8f67c9af7",
   "metadata": {},
   "outputs": [
    {
     "data": {
      "text/html": [
       "<div>\n",
       "<style scoped>\n",
       "    .dataframe tbody tr th:only-of-type {\n",
       "        vertical-align: middle;\n",
       "    }\n",
       "\n",
       "    .dataframe tbody tr th {\n",
       "        vertical-align: top;\n",
       "    }\n",
       "\n",
       "    .dataframe thead th {\n",
       "        text-align: right;\n",
       "    }\n",
       "</style>\n",
       "<table border=\"1\" class=\"dataframe\">\n",
       "  <thead>\n",
       "    <tr style=\"text-align: right;\">\n",
       "      <th></th>\n",
       "      <th>0</th>\n",
       "      <th>1</th>\n",
       "    </tr>\n",
       "  </thead>\n",
       "  <tbody>\n",
       "    <tr>\n",
       "      <th>0</th>\n",
       "      <td>35.22</td>\n",
       "      <td>499.80</td>\n",
       "    </tr>\n",
       "    <tr>\n",
       "      <th>1</th>\n",
       "      <td>10.41</td>\n",
       "      <td>161.37</td>\n",
       "    </tr>\n",
       "    <tr>\n",
       "      <th>2</th>\n",
       "      <td>17.22</td>\n",
       "      <td>273.29</td>\n",
       "    </tr>\n",
       "    <tr>\n",
       "      <th>3</th>\n",
       "      <td>10.70</td>\n",
       "      <td>134.79</td>\n",
       "    </tr>\n",
       "    <tr>\n",
       "      <th>4</th>\n",
       "      <td>10.29</td>\n",
       "      <td>90.92</td>\n",
       "    </tr>\n",
       "    <tr>\n",
       "      <th>5</th>\n",
       "      <td>18.66</td>\n",
       "      <td>348.99</td>\n",
       "    </tr>\n",
       "    <tr>\n",
       "      <th>6</th>\n",
       "      <td>4.41</td>\n",
       "      <td>106.89</td>\n",
       "    </tr>\n",
       "    <tr>\n",
       "      <th>7</th>\n",
       "      <td>6.24</td>\n",
       "      <td>196.44</td>\n",
       "    </tr>\n",
       "    <tr>\n",
       "      <th>8</th>\n",
       "      <td>49.72</td>\n",
       "      <td>656.95</td>\n",
       "    </tr>\n",
       "    <tr>\n",
       "      <th>9</th>\n",
       "      <td>47.70</td>\n",
       "      <td>580.70</td>\n",
       "    </tr>\n",
       "  </tbody>\n",
       "</table>\n",
       "</div>"
      ],
      "text/plain": [
       "       0       1\n",
       "0  35.22  499.80\n",
       "1  10.41  161.37\n",
       "2  17.22  273.29\n",
       "3  10.70  134.79\n",
       "4  10.29   90.92\n",
       "5  18.66  348.99\n",
       "6   4.41  106.89\n",
       "7   6.24  196.44\n",
       "8  49.72  656.95\n",
       "9  47.70  580.70"
      ]
     },
     "execution_count": 2,
     "metadata": {},
     "output_type": "execute_result"
    }
   ],
   "source": [
    "filename = 'ex1d4data.xls'\n",
    "data = pd.read_excel(filename, header=None)\n",
    "data.head(10)"
   ]
  },
  {
   "cell_type": "code",
   "execution_count": 3,
   "id": "7bdd79ed-79e2-42f4-b271-825f0b380835",
   "metadata": {},
   "outputs": [],
   "source": [
    "X1 = data[0].values\n",
    "X2 = data[1].values"
   ]
  },
  {
   "cell_type": "markdown",
   "id": "0b4aed22-0148-4028-9afe-c58cf3a6fe03",
   "metadata": {},
   "source": [
    "（1）均值、方差、标准差、变异系数、偏度、峰度"
   ]
  },
  {
   "cell_type": "code",
   "execution_count": 4,
   "id": "da9212fd-8464-4f3d-83c9-4516b1d18ffd",
   "metadata": {},
   "outputs": [
    {
     "name": "stdout",
     "output_type": "stream",
     "text": [
      "X1、X2均值分别为19.1665、246.1932\n",
      "X1、X2方差分别为392.0308、54275.9982\n",
      "X1、X2标准差分别为19.7998、232.9721\n",
      "X1、X2变异系数分别为1.0330、0.9463\n",
      "X1、X2偏度分别为2.3920、1.8220\n",
      "X1、X2峰度分别为6.8050、3.5217\n"
     ]
    }
   ],
   "source": [
    "n = len(X1)\n",
    "# X1\n",
    "miu1 = np.mean(X1)# 均值\n",
    "S1 = np.var(X1, ddof=1)# 方差\n",
    "s1 = np.std(X1, ddof=1)# 标准差\n",
    "cv1 =  s1/miu1# 变异系数\n",
    "sk1 = stats.skew(X1)# 偏度\n",
    "k1 = stats.kurtosis(X1)# 峰度\n",
    "\n",
    "# X2\n",
    "miu2 = np.mean(X2)# 均值\n",
    "S2 = np.var(X2, ddof=1)# 方差\n",
    "s2 = np.std(X2, ddof=1)# 标准差\n",
    "cv2 =  s2/miu2# 变异系数\n",
    "sk2 = stats.skew(X2)# 偏度\n",
    "k2 = stats.kurtosis(X2)# 峰度\n",
    "\n",
    "# 输出\n",
    "print(f\"X1、X2均值分别为{miu1:.4f}、{miu2:.4f}\")\n",
    "print(f\"X1、X2方差分别为{S1:.4f}、{S2:.4f}\")\n",
    "print(f\"X1、X2标准差分别为{s1:.4f}、{s2:.4f}\")\n",
    "print(f\"X1、X2变异系数分别为{cv1:.4f}、{cv2:.4f}\")\n",
    "print(f\"X1、X2偏度分别为{sk1:.4f}、{sk2:.4f}\")\n",
    "print(f\"X1、X2峰度分别为{k1:.4f}、{k2:.4f}\")"
   ]
  },
  {
   "cell_type": "markdown",
   "id": "eb935de5-1c85-4b04-9132-e3c421b74808",
   "metadata": {},
   "source": [
    "（2）中位数、上、下四分位数、四分位极差"
   ]
  },
  {
   "cell_type": "code",
   "execution_count": 5,
   "id": "ca24ad48-6875-41c3-a254-2a8861148134",
   "metadata": {},
   "outputs": [
    {
     "name": "stdout",
     "output_type": "stream",
     "text": [
      "X1、X2中位数分别为14.7700、179.4100\n",
      "X1、X2下四分位数分别为8.2650、105.3500\n",
      "X1、X2上四分位数分别为20.0800、270.7450\n",
      "X1、X2四分位极差分别为11.8150、250.6650\n"
     ]
    }
   ],
   "source": [
    "# X1\n",
    "m1 = np.quantile(X1, 0.5, interpolation='midpoint')# 中位数\n",
    "Q1_1 = np.quantile(X1, 0.25, interpolation='midpoint')# 下四分位数\n",
    "Q3_1 = np.quantile(X1, 0.75, interpolation='midpoint')# 上四分位数\n",
    "R1_1 = Q3_1 - Q1_1# 四分位极差\n",
    "\n",
    "# X2\n",
    "m2 = np.quantile(X2, 0.5, interpolation='midpoint')\n",
    "Q1_2 = np.quantile(X2, 0.25, interpolation='midpoint')\n",
    "Q3_2 = np.quantile(X2, 0.75, interpolation='midpoint')\n",
    "R1_2 = Q3_2 - Q3_1\n",
    "\n",
    "# 输出\n",
    "print(f\"X1、X2中位数分别为{m1:.4f}、{m2:.4f}\")\n",
    "print(f\"X1、X2下四分位数分别为{Q1_1:.4f}、{Q1_2:.4f}\")\n",
    "print(f\"X1、X2上四分位数分别为{Q3_1:.4f}、{Q3_2:.4f}\")\n",
    "print(f\"X1、X2四分位极差分别为{R1_1:.4f}、{R1_2:.4f}\")"
   ]
  },
  {
   "cell_type": "markdown",
   "id": "a2dcbd73-6b59-4287-bb37-10c129bb031b",
   "metadata": {},
   "source": [
    "（3）作出直方图"
   ]
  },
  {
   "cell_type": "code",
   "execution_count": 6,
   "id": "47836bf7-83f2-432a-8b34-dfeaea232974",
   "metadata": {},
   "outputs": [
    {
     "data": {
      "image/png": "[encoded data removed]",
      "text/plain": [
       "<Figure size 640x480 with 2 Axes>"
      ]
     },
     "metadata": {},
     "output_type": "display_data"
    }
   ],
   "source": [
    "bins = 12 \n",
    "plt.subplot(1, 2, 1)\n",
    "plt.hist(X1, bins = bins, color='blue')\n",
    "plt.ylabel('频数')\n",
    "plt.xlabel('预算收入')\n",
    "plt.title('11月各省预算收入')\n",
    "plt.subplot(1, 2, 2)\n",
    "plt.hist(X2, bins = bins, color='blue')\n",
    "plt.ylabel('频数')\n",
    "plt.xlabel('预算收入')\n",
    "plt.title('1~11月各省预算收入')\n",
    "\n",
    "plt.tight_layout()\n",
    "plt.show()"
   ]
  },
  {
   "cell_type": "markdown",
   "id": "6d553965-1963-446f-9b22-63e9ed3c5813",
   "metadata": {},
   "source": [
    "（4）经验分布函数图像"
   ]
  },
  {
   "cell_type": "code",
   "execution_count": 7,
   "id": "2f9ba76a-f5b9-426e-81bc-fd0644b50a9b",
   "metadata": {},
   "outputs": [
    {
     "data": {
      "image/png": "[encoded data removed]",
      "text/plain": [
       "<Figure size 640x480 with 2 Axes>"
      ]
     },
     "metadata": {},
     "output_type": "display_data"
    }
   ],
   "source": [
    "x1 = sorted(X1)\n",
    "x2 = sorted(X2)\n",
    "n = len(x1)\n",
    "X_1 = []\n",
    "X_2 = []\n",
    "\n",
    "Y_1 = []\n",
    "Y_2 = []\n",
    "\n",
    "X_1.append(x1[0])\n",
    "X_2.append(x2[0])\n",
    "Y_1.append(0)\n",
    "Y_2.append(0)\n",
    "for i in range(1, n):\n",
    "    X_1.append(x1[i-1])\n",
    "    X_2.append(x2[i-1])\n",
    "    Y_1.append((i-1)/n)\n",
    "    Y_2.append((i-1)/n)\n",
    "    \n",
    "    X_1.append(x1[i])\n",
    "    X_2.append(x2[i])\n",
    "    Y_1.append(i/n)\n",
    "    Y_2.append(i/n)\n",
    "plt.subplot(1, 2, 1)\n",
    "plt.plot(X_1, Y_1)\n",
    "plt.subplot(1, 2, 2)\n",
    "plt.plot(X_2, Y_2)\n",
    "\n",
    "plt.tight_layout()\n",
    "plt.show()"
   ]
  },
  {
   "cell_type": "markdown",
   "id": "9b5e0cc3-4af0-4874-b03f-41309cc70373",
   "metadata": {},
   "source": [
    "（5）Pearson、Spearman相关系数"
   ]
  },
  {
   "cell_type": "code",
   "execution_count": 8,
   "id": "c604938b-7850-49ea-a4ee-54690ef32ee8",
   "metadata": {},
   "outputs": [
    {
     "name": "stdout",
     "output_type": "stream",
     "text": [
      "X1，X2：0.9762, 0.0000（Pearson相关系数）\n",
      "X1，X2：0.9278, 0.0000（Spearman相关系数）\n"
     ]
    }
   ],
   "source": [
    "r1 = stats.pearsonr(X1, X2)# Pearson相关系数\n",
    "r2 = stats.spearmanr(X1, X2)# Spearman相关系数\n",
    "print(\"X1，X2：%.4f, %.4f（Pearson相关系数）\"%r1)\n",
    "print(\"X1，X2：%.4f, %.4f（Spearman相关系数）\"%r2)"
   ]
  },
  {
   "cell_type": "markdown",
   "id": "e98169fd-e42e-452c-a78b-3984d855afd4",
   "metadata": {},
   "source": [
    "## 1.5"
   ]
  },
  {
   "cell_type": "code",
   "execution_count": 9,
   "id": "29e4f1dc-d850-4c49-99ad-bffce03a5677",
   "metadata": {},
   "outputs": [
    {
     "data": {
      "text/html": [
       "<div>\n",
       "<style scoped>\n",
       "    .dataframe tbody tr th:only-of-type {\n",
       "        vertical-align: middle;\n",
       "    }\n",
       "\n",
       "    .dataframe tbody tr th {\n",
       "        vertical-align: top;\n",
       "    }\n",
       "\n",
       "    .dataframe thead th {\n",
       "        text-align: right;\n",
       "    }\n",
       "</style>\n",
       "<table border=\"1\" class=\"dataframe\">\n",
       "  <thead>\n",
       "    <tr style=\"text-align: right;\">\n",
       "      <th></th>\n",
       "      <th>0</th>\n",
       "      <th>1</th>\n",
       "      <th>2</th>\n",
       "      <th>3</th>\n",
       "    </tr>\n",
       "  </thead>\n",
       "  <tbody>\n",
       "    <tr>\n",
       "      <th>0</th>\n",
       "      <td>18.8</td>\n",
       "      <td>28.1</td>\n",
       "      <td>5.1</td>\n",
       "      <td>35.1</td>\n",
       "    </tr>\n",
       "    <tr>\n",
       "      <th>1</th>\n",
       "      <td>17.4</td>\n",
       "      <td>25.6</td>\n",
       "      <td>4.9</td>\n",
       "      <td>33.9</td>\n",
       "    </tr>\n",
       "    <tr>\n",
       "      <th>2</th>\n",
       "      <td>16.0</td>\n",
       "      <td>27.4</td>\n",
       "      <td>5.0</td>\n",
       "      <td>32.2</td>\n",
       "    </tr>\n",
       "    <tr>\n",
       "      <th>3</th>\n",
       "      <td>19.3</td>\n",
       "      <td>29.5</td>\n",
       "      <td>1.7</td>\n",
       "      <td>29.1</td>\n",
       "    </tr>\n",
       "    <tr>\n",
       "      <th>4</th>\n",
       "      <td>17.4</td>\n",
       "      <td>27.4</td>\n",
       "      <td>4.5</td>\n",
       "      <td>35.6</td>\n",
       "    </tr>\n",
       "    <tr>\n",
       "      <th>5</th>\n",
       "      <td>15.3</td>\n",
       "      <td>25.3</td>\n",
       "      <td>3.6</td>\n",
       "      <td>32.2</td>\n",
       "    </tr>\n",
       "    <tr>\n",
       "      <th>6</th>\n",
       "      <td>16.7</td>\n",
       "      <td>25.8</td>\n",
       "      <td>4.4</td>\n",
       "      <td>33.0</td>\n",
       "    </tr>\n",
       "    <tr>\n",
       "      <th>7</th>\n",
       "      <td>17.4</td>\n",
       "      <td>26.7</td>\n",
       "      <td>4.4</td>\n",
       "      <td>33.0</td>\n",
       "    </tr>\n",
       "    <tr>\n",
       "      <th>8</th>\n",
       "      <td>16.2</td>\n",
       "      <td>25.7</td>\n",
       "      <td>2.3</td>\n",
       "      <td>33.9</td>\n",
       "    </tr>\n",
       "    <tr>\n",
       "      <th>9</th>\n",
       "      <td>16.7</td>\n",
       "      <td>26.7</td>\n",
       "      <td>6.4</td>\n",
       "      <td>35.0</td>\n",
       "    </tr>\n",
       "  </tbody>\n",
       "</table>\n",
       "</div>"
      ],
      "text/plain": [
       "      0     1    2     3\n",
       "0  18.8  28.1  5.1  35.1\n",
       "1  17.4  25.6  4.9  33.9\n",
       "2  16.0  27.4  5.0  32.2\n",
       "3  19.3  29.5  1.7  29.1\n",
       "4  17.4  27.4  4.5  35.6\n",
       "5  15.3  25.3  3.6  32.2\n",
       "6  16.7  25.8  4.4  33.0\n",
       "7  17.4  26.7  4.4  33.0\n",
       "8  16.2  25.7  2.3  33.9\n",
       "9  16.7  26.7  6.4  35.0"
      ]
     },
     "execution_count": 9,
     "metadata": {},
     "output_type": "execute_result"
    }
   ],
   "source": [
    "filename = 'ex1d5data.xls'\n",
    "data = pd.read_excel(filename, header=None)\n",
    "data.head(10)"
   ]
  },
  {
   "cell_type": "code",
   "execution_count": 10,
   "id": "b3c6d7f4-c191-4254-8685-c44319924a89",
   "metadata": {},
   "outputs": [
    {
     "data": {
      "text/plain": [
       "array([18.8, 17.4, 16. , 19.3, 17.4, 15.3, 16.7, 17.4, 16.2, 16.7, 18.2,\n",
       "       16.7, 18.1, 16.7, 18.1, 20.2, 20.2, 21.5, 18.8, 21.6, 21.3])"
      ]
     },
     "execution_count": 10,
     "metadata": {},
     "output_type": "execute_result"
    }
   ],
   "source": [
    "x1 = data[0].values\n",
    "x2 = data[1].values\n",
    "x3 = data[2].values\n",
    "x4 = data[3].values\n",
    "x1"
   ]
  },
  {
   "cell_type": "code",
   "execution_count": 11,
   "id": "19d4edc3-8bab-406b-b951-53538e78af53",
   "metadata": {},
   "outputs": [
    {
     "name": "stdout",
     "output_type": "stream",
     "text": [
      "均值向量为： [18.219047619047622, 27.866666666666664, 4.504761904761905, 33.766666666666666]\n",
      "协方差矩阵为 [[3.508619047619048, 2.707166666666668, 1.0194047619047621, 1.2656666666666656], [2.707166666666668, 3.5593333333333335, 1.138666666666667, 1.2893333333333328], [1.0194047619047621, 1.138666666666667, 1.9984761904761907, 1.7396666666666663], [1.2656666666666656, 1.2893333333333328, 1.7396666666666663, 4.032333333333332]]\n"
     ]
    },
    {
     "data": {
      "text/html": [
       "<div>\n",
       "<style scoped>\n",
       "    .dataframe tbody tr th:only-of-type {\n",
       "        vertical-align: middle;\n",
       "    }\n",
       "\n",
       "    .dataframe tbody tr th {\n",
       "        vertical-align: top;\n",
       "    }\n",
       "\n",
       "    .dataframe thead th {\n",
       "        text-align: right;\n",
       "    }\n",
       "</style>\n",
       "<table border=\"1\" class=\"dataframe\">\n",
       "  <thead>\n",
       "    <tr style=\"text-align: right;\">\n",
       "      <th></th>\n",
       "      <th>0</th>\n",
       "      <th>1</th>\n",
       "      <th>2</th>\n",
       "      <th>3</th>\n",
       "    </tr>\n",
       "  </thead>\n",
       "  <tbody>\n",
       "    <tr>\n",
       "      <th>0</th>\n",
       "      <td>3.508619</td>\n",
       "      <td>2.707167</td>\n",
       "      <td>1.019405</td>\n",
       "      <td>1.265667</td>\n",
       "    </tr>\n",
       "    <tr>\n",
       "      <th>1</th>\n",
       "      <td>2.707167</td>\n",
       "      <td>3.559333</td>\n",
       "      <td>1.138667</td>\n",
       "      <td>1.289333</td>\n",
       "    </tr>\n",
       "    <tr>\n",
       "      <th>2</th>\n",
       "      <td>1.019405</td>\n",
       "      <td>1.138667</td>\n",
       "      <td>1.998476</td>\n",
       "      <td>1.739667</td>\n",
       "    </tr>\n",
       "    <tr>\n",
       "      <th>3</th>\n",
       "      <td>1.265667</td>\n",
       "      <td>1.289333</td>\n",
       "      <td>1.739667</td>\n",
       "      <td>4.032333</td>\n",
       "    </tr>\n",
       "  </tbody>\n",
       "</table>\n",
       "</div>"
      ],
      "text/plain": [
       "          0         1         2         3\n",
       "0  3.508619  2.707167  1.019405  1.265667\n",
       "1  2.707167  3.559333  1.138667  1.289333\n",
       "2  1.019405  1.138667  1.998476  1.739667\n",
       "3  1.265667  1.289333  1.739667  4.032333"
      ]
     },
     "execution_count": 11,
     "metadata": {},
     "output_type": "execute_result"
    }
   ],
   "source": [
    "# 总体均值向量\n",
    "miu = data.mean(axis=0).values.tolist()\n",
    "print('均值向量为：', miu)\n",
    "\n",
    "# 总体协方差矩阵\n",
    "Cov = data.cov().values.tolist()\n",
    "print('协方差矩阵为', Cov)\n",
    "data.cov()"
   ]
  },
  {
   "cell_type": "markdown",
   "id": "e97607c9-6a48-4f6c-8d1d-8b4293d7902d",
   "metadata": {},
   "source": [
    "## 1.6"
   ]
  },
  {
   "cell_type": "code",
   "execution_count": 12,
   "id": "5c7fea8c-68ab-46f0-87b4-32b578ee6d65",
   "metadata": {},
   "outputs": [
    {
     "name": "stdout",
     "output_type": "stream",
     "text": [
      "中位数向量： [18.1, 27.4, 4.8, 34.1]\n"
     ]
    }
   ],
   "source": [
    "M = data.quantile().values.tolist()\n",
    "print('中位数向量：', M)"
   ]
  },
  {
   "cell_type": "code",
   "execution_count": 13,
   "id": "90e0eedf-95e7-4b3e-a834-e7e9e97af475",
   "metadata": {},
   "outputs": [
    {
     "data": {
      "text/html": [
       "<div>\n",
       "<style scoped>\n",
       "    .dataframe tbody tr th:only-of-type {\n",
       "        vertical-align: middle;\n",
       "    }\n",
       "\n",
       "    .dataframe tbody tr th {\n",
       "        vertical-align: top;\n",
       "    }\n",
       "\n",
       "    .dataframe thead th {\n",
       "        text-align: right;\n",
       "    }\n",
       "</style>\n",
       "<table border=\"1\" class=\"dataframe\">\n",
       "  <thead>\n",
       "    <tr style=\"text-align: right;\">\n",
       "      <th></th>\n",
       "      <th>0</th>\n",
       "      <th>1</th>\n",
       "      <th>2</th>\n",
       "      <th>3</th>\n",
       "    </tr>\n",
       "  </thead>\n",
       "  <tbody>\n",
       "    <tr>\n",
       "      <th>0</th>\n",
       "      <td>18.8</td>\n",
       "      <td>28.1</td>\n",
       "      <td>5.1</td>\n",
       "      <td>35.1</td>\n",
       "    </tr>\n",
       "    <tr>\n",
       "      <th>1</th>\n",
       "      <td>17.4</td>\n",
       "      <td>25.6</td>\n",
       "      <td>4.9</td>\n",
       "      <td>33.9</td>\n",
       "    </tr>\n",
       "    <tr>\n",
       "      <th>2</th>\n",
       "      <td>16.0</td>\n",
       "      <td>27.4</td>\n",
       "      <td>5.0</td>\n",
       "      <td>32.2</td>\n",
       "    </tr>\n",
       "  </tbody>\n",
       "</table>\n",
       "</div>"
      ],
      "text/plain": [
       "      0     1    2     3\n",
       "0  18.8  28.1  5.1  35.1\n",
       "1  17.4  25.6  4.9  33.9\n",
       "2  16.0  27.4  5.0  32.2"
      ]
     },
     "execution_count": 13,
     "metadata": {},
     "output_type": "execute_result"
    }
   ],
   "source": [
    "data.head(3)"
   ]
  },
  {
   "cell_type": "code",
   "execution_count": 14,
   "id": "401f5851-36f7-40f9-9d85-34b1a6b21ea0",
   "metadata": {},
   "outputs": [
    {
     "name": "stdout",
     "output_type": "stream",
     "text": [
      "Pearson相关矩阵R:\n",
      "[[1.         0.76605959 0.38497193 0.33649067]\n",
      " [0.76605959 1.         0.42693601 0.34033191]\n",
      " [0.38497193 0.42693601 1.         0.61282763]\n",
      " [0.33649067 0.34033191 0.61282763 1.        ]]\n"
     ]
    }
   ],
   "source": [
    "# Pearson相关矩阵R\n",
    "R = data.corr(method='pearson')\n",
    "print('Pearson相关矩阵R:')\n",
    "print(R.values)"
   ]
  },
  {
   "cell_type": "code",
   "execution_count": 15,
   "id": "09a104e7-6b4b-486d-baf1-a55fea657aa4",
   "metadata": {},
   "outputs": [
    {
     "name": "stdout",
     "output_type": "stream",
     "text": [
      "Spearman相关矩阵Q:\n",
      "[[1.         0.78969833 0.43399147 0.43053674]\n",
      " [0.78969833 1.         0.51110778 0.48840564]\n",
      " [0.43399147 0.51110778 1.         0.69118129]\n",
      " [0.43053674 0.48840564 0.69118129 1.        ]]\n"
     ]
    }
   ],
   "source": [
    "# Spearman相关矩阵Q\n",
    "Q = data.corr(method='spearman')\n",
    "print('Spearman相关矩阵Q:')\n",
    "print(Q.values)"
   ]
  },
  {
   "cell_type": "code",
   "execution_count": 16,
   "id": "8cd8126c-b75d-46f0-9a80-577c992d0776",
   "metadata": {},
   "outputs": [
    {
     "name": "stdout",
     "output_type": "stream",
     "text": [
      "[[0.00000000e+00 5.15283833e-05 8.48380741e-02 1.35839682e-01]\n",
      " [0.00000000e+00 0.00000000e+00 5.35790397e-02 1.31150557e-01]\n",
      " [0.00000000e+00 0.00000000e+00 0.00000000e+00 3.14055792e-03]\n",
      " [0.00000000e+00 0.00000000e+00 0.00000000e+00 0.00000000e+00]]\n",
      "r03\n",
      "r13\n",
      "以上为大于显著性水平的数\n"
     ]
    }
   ],
   "source": [
    "# 对R进行显著性检验\n",
    "R_p = np.zeros((data.shape[1], data.shape[1]))\n",
    "for i in range(data.shape[1]):\n",
    "    for j in range(i+1, data.shape[1]):\n",
    "        rij = stats.pearsonr(data.iloc[:, i], data.iloc[:, j])\n",
    "        R_p[i, j] = rij[1]\n",
    "print(R_p)\n",
    "\n",
    "alpha = 0.1# 取显著性水平为α=0.1\n",
    "k = 0\n",
    "location = []\n",
    "for i in range(len(R_p)):\n",
    "    for j in range(len(R_p)):\n",
    "        if R_p[i, j]>alpha:\n",
    "            k = k+1\n",
    "            print(f'r{i}{j}')\n",
    "if k!=0:\n",
    "    print('以上为大于显著性水平的数')\n"
   ]
  },
  {
   "cell_type": "code",
   "execution_count": 17,
   "id": "f3ef6cc4-3ddf-4c8b-bb1b-30478b78a946",
   "metadata": {},
   "outputs": [
    {
     "name": "stdout",
     "output_type": "stream",
     "text": [
      "[[0.00000000e+00 2.07035536e-05 4.93361598e-02 5.13801108e-02]\n",
      " [0.00000000e+00 0.00000000e+00 1.78878482e-02 2.46757038e-02]\n",
      " [0.00000000e+00 0.00000000e+00 0.00000000e+00 5.21001443e-04]\n",
      " [0.00000000e+00 0.00000000e+00 0.00000000e+00 0.00000000e+00]]\n"
     ]
    }
   ],
   "source": [
    "# 对Q进行显著性检验\n",
    "Q_p = np.zeros((data.shape[1], data.shape[1]))\n",
    "for i in range(data.shape[1]):\n",
    "    for j in range(i+1, data.shape[1]):\n",
    "        qij = stats.spearmanr(data.iloc[:, i], data.iloc[:, j])\n",
    "        Q_p[i, j] = qij[1]\n",
    "print(Q_p)\n",
    "\n",
    "alpha = 0.1# 取显著性水平为α=0.1\n",
    "k = 0\n",
    "location = []\n",
    "for i in range(len(Q_p)):\n",
    "    for j in range(len(Q_p)):\n",
    "        if Q_p[i, j]>alpha:\n",
    "            k = k+1\n",
    "            print(f'q{i}{j}')\n",
    "if k!=0:\n",
    "    print('以上为大于显著性水平的数')\n"
   ]
  },
  {
   "cell_type": "code",
   "execution_count": null,
   "id": "bb1894d7-9cab-4149-9216-725e52127b2f",
   "metadata": {},
   "outputs": [],
   "source": []
  }
 ],
 "metadata": {
  "kernelspec": {
   "display_name": "Python 3 (ipykernel)",
   "language": "python",
   "name": "python3"
  },
  "language_info": {
   "codemirror_mode": {
    "name": "ipython",
    "version": 3
   },
   "file_extension": ".py",
   "mimetype": "text/x-python",
   "name": "python",
   "nbconvert_exporter": "python",
   "pygments_lexer": "ipython3",
   "version": "3.11.5"
  }
 },
 "nbformat": 4,
 "nbformat_minor": 5
}
